{
 "nbformat": 4,
 "nbformat_minor": 2,
 "metadata": {
  "language_info": {
   "name": "python",
   "codemirror_mode": {
    "name": "ipython",
    "version": 3
   },
   "version": "3.7.6-final"
  },
  "orig_nbformat": 2,
  "file_extension": ".py",
  "mimetype": "text/x-python",
  "name": "python",
  "npconvert_exporter": "python",
  "pygments_lexer": "ipython3",
  "version": 3,
  "kernelspec": {
   "name": "python3",
   "display_name": "Python 3"
  }
 },
 "cells": [
  {
   "cell_type": "code",
   "execution_count": 1,
   "metadata": {},
   "outputs": [],
   "source": [
    "############################################################################################\n",
    "# Init\n",
    "############################################################################################\n",
    "\n",
    "import __init__\n",
    "\n",
    "# enable autoreload (see https://ipython.readthedocs.io/en/stable/config/extensions/autoreload.html)\n",
    "%load_ext autoreload\n",
    "%autoreload 2\n",
    "\n",
    "import pandas as pd \n",
    "import numpy as np\n",
    "import seaborn as sns #visualisation\n",
    "import matplotlib.pyplot as plt #visualisation\n",
    "from util.loadUtil import loadDbuxFile, collectionDf\n",
    "from data.DataProvider import DataProvider\n",
    "\n",
    "from IPython.display import display, HTML\n",
    "\n",
    "import re\n",
    "from collections import Counter\n",
    "\n",
    "%matplotlib inline \n",
    "sns.set(color_codes=True)"
   ]
  },
  {
   "cell_type": "code",
   "execution_count": 2,
   "metadata": {
    "tags": [
     "outputPrepend"
    ]
   },
   "outputs": [],
   "source": [
    "# load all data\n",
    "data = DataProvider('item_data.json')"
   ]
  },
  {
   "cell_type": "code",
   "execution_count": 3,
   "metadata": {},
   "outputs": [],
   "source": [
    "# get stat of function names and occurrence\n",
    "def getStaticContextStat(dp):\n",
    "    weight = dp.collections.contexts.groupby('staticContextId').size()\n",
    "    weight = pd.DataFrame(weight).rename(columns = { 0:'occurrence' })\n",
    "\n",
    "    function_names = dp.collections.staticContexts[['staticId', 'type', 'name']]\n",
    "    function_names = function_names.rename(columns = { 'staticId':'staticContextId' })\n",
    "\n",
    "    functions = pd.merge(function_names, weight, how='left', on='staticContextId').fillna(0)\n",
    "    functions['name'] = functions['name'].astype(str)\n",
    "    functions['occurrence'] = functions['occurrence'].astype('int32')\n",
    "    return functions\n",
    "\n",
    "functions = getStaticContextStat(data)"
   ]
  },
  {
   "cell_type": "code",
   "execution_count": 4,
   "metadata": {},
   "outputs": [
    {
     "output_type": "stream",
     "name": "stderr",
     "text": "<>:4: DeprecationWarning: invalid escape sequence \\.\nC:\\tools\\Anaconda3\\lib\\site-packages\\ipykernel_launcher.py:4: SettingWithCopyWarning: \nA value is trying to be set on a copy of a slice from a DataFrame\n\nSee the caveats in the documentation: https://pandas.pydata.org/pandas-docs/stable/user_guide/indexing.html#returning-a-view-versus-a-copy\n  after removing the cwd from sys.path.\n"
    }
   ],
   "source": [
    "def removeExtName(df):\n",
    "    for index, row in df.iterrows():\n",
    "        if row['type'] == 1:\n",
    "            df['name'][index] = re.sub(\"\\..*$\", \"\", row['name'])\n",
    "    return df\n",
    "\n",
    "functions = removeExtName(functions)"
   ]
  },
  {
   "cell_type": "code",
   "execution_count": 5,
   "metadata": {},
   "outputs": [
    {
     "output_type": "stream",
     "name": "stderr",
     "text": "<>:3: DeprecationWarning: invalid escape sequence \\g\n"
    },
    {
     "output_type": "display_data",
     "data": {
      "text/plain": "    staticContextId  type             name  occurrence  \\\n0                 1     1             item           1   \n1                 2     1            store           1   \n2                 3     2      constructor           1   \n3                 4     2  getLocalStorage           6   \n4                 5     2  setLocalStorage           2   \n..              ...   ...              ...         ...   \n69               70     2                0           0   \n70               71     2          _filter           8   \n71               72     2                0           3   \n72               73     1              app           3   \n73               74     2          setView           1   \n\n                                keywords  \n0                            {'item': 1}  \n1                           {'store': 1}  \n2                     {'constructor': 1}  \n3   {'get': 1, 'local': 1, 'storage': 1}  \n4   {'set': 1, 'local': 1, 'storage': 1}  \n..                                   ...  \n69                                    {}  \n70                         {'filter': 1}  \n71                                    {}  \n72                            {'app': 1}  \n73                 {'set': 1, 'view': 1}  \n\n[74 rows x 5 columns]",
      "text/html": "<div>\n<style scoped>\n    .dataframe tbody tr th:only-of-type {\n        vertical-align: middle;\n    }\n\n    .dataframe tbody tr th {\n        vertical-align: top;\n    }\n\n    .dataframe thead th {\n        text-align: right;\n    }\n</style>\n<table border=\"1\" class=\"dataframe\">\n  <thead>\n    <tr style=\"text-align: right;\">\n      <th></th>\n      <th>staticContextId</th>\n      <th>type</th>\n      <th>name</th>\n      <th>occurrence</th>\n      <th>keywords</th>\n    </tr>\n  </thead>\n  <tbody>\n    <tr>\n      <th>0</th>\n      <td>1</td>\n      <td>1</td>\n      <td>item</td>\n      <td>1</td>\n      <td>{'item': 1}</td>\n    </tr>\n    <tr>\n      <th>1</th>\n      <td>2</td>\n      <td>1</td>\n      <td>store</td>\n      <td>1</td>\n      <td>{'store': 1}</td>\n    </tr>\n    <tr>\n      <th>2</th>\n      <td>3</td>\n      <td>2</td>\n      <td>constructor</td>\n      <td>1</td>\n      <td>{'constructor': 1}</td>\n    </tr>\n    <tr>\n      <th>3</th>\n      <td>4</td>\n      <td>2</td>\n      <td>getLocalStorage</td>\n      <td>6</td>\n      <td>{'get': 1, 'local': 1, 'storage': 1}</td>\n    </tr>\n    <tr>\n      <th>4</th>\n      <td>5</td>\n      <td>2</td>\n      <td>setLocalStorage</td>\n      <td>2</td>\n      <td>{'set': 1, 'local': 1, 'storage': 1}</td>\n    </tr>\n    <tr>\n      <th>...</th>\n      <td>...</td>\n      <td>...</td>\n      <td>...</td>\n      <td>...</td>\n      <td>...</td>\n    </tr>\n    <tr>\n      <th>69</th>\n      <td>70</td>\n      <td>2</td>\n      <td>0</td>\n      <td>0</td>\n      <td>{}</td>\n    </tr>\n    <tr>\n      <th>70</th>\n      <td>71</td>\n      <td>2</td>\n      <td>_filter</td>\n      <td>8</td>\n      <td>{'filter': 1}</td>\n    </tr>\n    <tr>\n      <th>71</th>\n      <td>72</td>\n      <td>2</td>\n      <td>0</td>\n      <td>3</td>\n      <td>{}</td>\n    </tr>\n    <tr>\n      <th>72</th>\n      <td>73</td>\n      <td>1</td>\n      <td>app</td>\n      <td>3</td>\n      <td>{'app': 1}</td>\n    </tr>\n    <tr>\n      <th>73</th>\n      <td>74</td>\n      <td>2</td>\n      <td>setView</td>\n      <td>1</td>\n      <td>{'set': 1, 'view': 1}</td>\n    </tr>\n  </tbody>\n</table>\n<p>74 rows × 5 columns</p>\n</div>"
     },
     "metadata": {}
    }
   ],
   "source": [
    "# generate keywords from name by spliting camelCase and non-alphabet char\n",
    "def name2keyword(s):\n",
    "    s = re.sub(\"([a-z])([A-Z])\", \"\\g<1> \\g<2>\", s)\n",
    "    s = re.sub(\"([^a-zA-Z])\", \" \", s)\n",
    "    s = s.lower()\n",
    "    s = s.split(' ')\n",
    "    s = filter(None, s)\n",
    "    return Counter(s)\n",
    "\n",
    "functions = functions.assign(\n",
    "    keywords = lambda df: df['name'].map(name2keyword)\n",
    ")\n",
    "display(functions)"
   ]
  },
  {
   "cell_type": "code",
   "execution_count": 6,
   "metadata": {},
   "outputs": [
    {
     "output_type": "display_data",
     "data": {
      "text/plain": "        keyword  occurrence\n0          item          18\n1           set          18\n2            on          18\n3      delegate          18\n4          find          12\n5            qs          12\n6        filter           9\n7          bind           9\n8         local           8\n9       storage           8\n10     dispatch           8\n11        event           8\n12    completed           8\n13       toggle           8\n14          get           6\n15        count           6\n16   visibility           6\n17  constructor           5\n18         view           5\n19     complete           5\n20        items           4\n21          all           4\n22       update           3\n23      helpers           3\n24         list           3\n25      counter           3\n26         left           3\n27        clear           3\n28       button           3\n29         main           3\n30     checkbox           3\n31          app           3\n32       remove           2\n33       escape           2\n34          for           2\n35         html           2\n36           id           2\n37         edit           2\n38        store           1\n39     template           1\n40         show           1\n41      buttons           1\n42          add           1\n43         save           1\n44       cancel           1\n45   controller           1\n46       insert           0\n47          new           0\n48         todo           0\n49         done           0",
      "text/html": "<div>\n<style scoped>\n    .dataframe tbody tr th:only-of-type {\n        vertical-align: middle;\n    }\n\n    .dataframe tbody tr th {\n        vertical-align: top;\n    }\n\n    .dataframe thead th {\n        text-align: right;\n    }\n</style>\n<table border=\"1\" class=\"dataframe\">\n  <thead>\n    <tr style=\"text-align: right;\">\n      <th></th>\n      <th>keyword</th>\n      <th>occurrence</th>\n    </tr>\n  </thead>\n  <tbody>\n    <tr>\n      <th>0</th>\n      <td>item</td>\n      <td>18</td>\n    </tr>\n    <tr>\n      <th>1</th>\n      <td>set</td>\n      <td>18</td>\n    </tr>\n    <tr>\n      <th>2</th>\n      <td>on</td>\n      <td>18</td>\n    </tr>\n    <tr>\n      <th>3</th>\n      <td>delegate</td>\n      <td>18</td>\n    </tr>\n    <tr>\n      <th>4</th>\n      <td>find</td>\n      <td>12</td>\n    </tr>\n    <tr>\n      <th>5</th>\n      <td>qs</td>\n      <td>12</td>\n    </tr>\n    <tr>\n      <th>6</th>\n      <td>filter</td>\n      <td>9</td>\n    </tr>\n    <tr>\n      <th>7</th>\n      <td>bind</td>\n      <td>9</td>\n    </tr>\n    <tr>\n      <th>8</th>\n      <td>local</td>\n      <td>8</td>\n    </tr>\n    <tr>\n      <th>9</th>\n      <td>storage</td>\n      <td>8</td>\n    </tr>\n    <tr>\n      <th>10</th>\n      <td>dispatch</td>\n      <td>8</td>\n    </tr>\n    <tr>\n      <th>11</th>\n      <td>event</td>\n      <td>8</td>\n    </tr>\n    <tr>\n      <th>12</th>\n      <td>completed</td>\n      <td>8</td>\n    </tr>\n    <tr>\n      <th>13</th>\n      <td>toggle</td>\n      <td>8</td>\n    </tr>\n    <tr>\n      <th>14</th>\n      <td>get</td>\n      <td>6</td>\n    </tr>\n    <tr>\n      <th>15</th>\n      <td>count</td>\n      <td>6</td>\n    </tr>\n    <tr>\n      <th>16</th>\n      <td>visibility</td>\n      <td>6</td>\n    </tr>\n    <tr>\n      <th>17</th>\n      <td>constructor</td>\n      <td>5</td>\n    </tr>\n    <tr>\n      <th>18</th>\n      <td>view</td>\n      <td>5</td>\n    </tr>\n    <tr>\n      <th>19</th>\n      <td>complete</td>\n      <td>5</td>\n    </tr>\n    <tr>\n      <th>20</th>\n      <td>items</td>\n      <td>4</td>\n    </tr>\n    <tr>\n      <th>21</th>\n      <td>all</td>\n      <td>4</td>\n    </tr>\n    <tr>\n      <th>22</th>\n      <td>update</td>\n      <td>3</td>\n    </tr>\n    <tr>\n      <th>23</th>\n      <td>helpers</td>\n      <td>3</td>\n    </tr>\n    <tr>\n      <th>24</th>\n      <td>list</td>\n      <td>3</td>\n    </tr>\n    <tr>\n      <th>25</th>\n      <td>counter</td>\n      <td>3</td>\n    </tr>\n    <tr>\n      <th>26</th>\n      <td>left</td>\n      <td>3</td>\n    </tr>\n    <tr>\n      <th>27</th>\n      <td>clear</td>\n      <td>3</td>\n    </tr>\n    <tr>\n      <th>28</th>\n      <td>button</td>\n      <td>3</td>\n    </tr>\n    <tr>\n      <th>29</th>\n      <td>main</td>\n      <td>3</td>\n    </tr>\n    <tr>\n      <th>30</th>\n      <td>checkbox</td>\n      <td>3</td>\n    </tr>\n    <tr>\n      <th>31</th>\n      <td>app</td>\n      <td>3</td>\n    </tr>\n    <tr>\n      <th>32</th>\n      <td>remove</td>\n      <td>2</td>\n    </tr>\n    <tr>\n      <th>33</th>\n      <td>escape</td>\n      <td>2</td>\n    </tr>\n    <tr>\n      <th>34</th>\n      <td>for</td>\n      <td>2</td>\n    </tr>\n    <tr>\n      <th>35</th>\n      <td>html</td>\n      <td>2</td>\n    </tr>\n    <tr>\n      <th>36</th>\n      <td>id</td>\n      <td>2</td>\n    </tr>\n    <tr>\n      <th>37</th>\n      <td>edit</td>\n      <td>2</td>\n    </tr>\n    <tr>\n      <th>38</th>\n      <td>store</td>\n      <td>1</td>\n    </tr>\n    <tr>\n      <th>39</th>\n      <td>template</td>\n      <td>1</td>\n    </tr>\n    <tr>\n      <th>40</th>\n      <td>show</td>\n      <td>1</td>\n    </tr>\n    <tr>\n      <th>41</th>\n      <td>buttons</td>\n      <td>1</td>\n    </tr>\n    <tr>\n      <th>42</th>\n      <td>add</td>\n      <td>1</td>\n    </tr>\n    <tr>\n      <th>43</th>\n      <td>save</td>\n      <td>1</td>\n    </tr>\n    <tr>\n      <th>44</th>\n      <td>cancel</td>\n      <td>1</td>\n    </tr>\n    <tr>\n      <th>45</th>\n      <td>controller</td>\n      <td>1</td>\n    </tr>\n    <tr>\n      <th>46</th>\n      <td>insert</td>\n      <td>0</td>\n    </tr>\n    <tr>\n      <th>47</th>\n      <td>new</td>\n      <td>0</td>\n    </tr>\n    <tr>\n      <th>48</th>\n      <td>todo</td>\n      <td>0</td>\n    </tr>\n    <tr>\n      <th>49</th>\n      <td>done</td>\n      <td>0</td>\n    </tr>\n  </tbody>\n</table>\n</div>"
     },
     "metadata": {}
    }
   ],
   "source": [
    "# sum up occurrences of keywords\n",
    "keywords = Counter()\n",
    "for index, row in functions.iterrows():\n",
    "    new_words = row['keywords']\n",
    "    times = row['occurrence']\n",
    "    for k in new_words.keys():\n",
    "        keywords[k] += new_words[k] * times\n",
    "\n",
    "keywordsDF = pd.DataFrame(keywords.most_common())\n",
    "keywordsDF = keywordsDF.rename(columns={0:'keyword', 1:'occurrence'})\n",
    "display(keywordsDF)"
   ]
  }
 ]
}