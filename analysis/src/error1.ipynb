{
 "nbformat": 4,
 "nbformat_minor": 2,
 "metadata": {
  "language_info": {
   "name": "python",
   "codemirror_mode": {
    "name": "ipython",
    "version": 3
   },
   "version": "3.7.4-final"
  },
  "orig_nbformat": 2,
  "file_extension": ".py",
  "mimetype": "text/x-python",
  "name": "python",
  "npconvert_exporter": "python",
  "pygments_lexer": "ipython3",
  "version": 3,
  "kernelspec": {
   "name": "python3",
   "display_name": "Python 3"
  }
 },
 "cells": [
  {
   "cell_type": "code",
   "execution_count": 1,
   "metadata": {},
   "outputs": [],
   "source": [
    "############################################################################################\n",
    "# Init\n",
    "############################################################################################\n",
    "\n",
    "import __init__\n",
    "\n",
    "# enable autoreload (see https://ipython.readthedocs.io/en/stable/config/extensions/autoreload.html)\n",
    "%load_ext autoreload\n",
    "%autoreload 2\n",
    "\n",
    "import pandas as pd \n",
    "import numpy as np\n",
    "import seaborn as sns #visualisation\n",
    "import matplotlib.pyplot as plt #visualisation\n",
    "from util.loadUtil import loadDbuxFile, collectionDf\n",
    "from data.DataProvider import DataProvider\n",
    "\n",
    "%matplotlib inline \n",
    "sns.set(color_codes=True)"
   ]
  },
  {
   "cell_type": "code",
   "execution_count": 7,
   "metadata": {
    "tags": [
     "outputPrepend"
    ]
   },
   "outputs": [
    {
     "output_type": "stream",
     "name": "stdout",
     "text": "traces (by context)\n"
    },
    {
     "output_type": "display_data",
     "data": {
      "text/plain": "   valueId  traceId  staticTraceId  runId  contextId  type  applicationId  \\\n0        0        1              1      1          1     0              1   \n1        0        2             30      1          1     0              1   \n2        0       13             32      1          1     0              1   \n3        0       14             33      1          1     0              1   \n4        0       15             34      1          1     0              1   \n5        0       25             36      1          1     0              1   \n6        0       26             37      1          1     0              1   \n7        0       27              2      1          1     0              1   \n\n   callId  resultId  resultCallId  previousTrace error displayName  sType  \n0       0         0             0              0     0           0      2  \n1       2         0             0              0     0     main1()      5  \n2       0         0             0              0     0           0     17  \n3       0         0             0              0     0           0     18  \n4      15         0             0              0     0     main2()      5  \n5       0         0             0              0     0           0     17  \n6       0         0             0              0     0           0     18  \n7       0         0             0              0     0           0      3  ",
      "text/html": "<div>\n<style scoped>\n    .dataframe tbody tr th:only-of-type {\n        vertical-align: middle;\n    }\n\n    .dataframe tbody tr th {\n        vertical-align: top;\n    }\n\n    .dataframe thead th {\n        text-align: right;\n    }\n</style>\n<table border=\"1\" class=\"dataframe\">\n  <thead>\n    <tr style=\"text-align: right;\">\n      <th></th>\n      <th>valueId</th>\n      <th>traceId</th>\n      <th>staticTraceId</th>\n      <th>runId</th>\n      <th>contextId</th>\n      <th>type</th>\n      <th>applicationId</th>\n      <th>callId</th>\n      <th>resultId</th>\n      <th>resultCallId</th>\n      <th>previousTrace</th>\n      <th>error</th>\n      <th>displayName</th>\n      <th>sType</th>\n    </tr>\n  </thead>\n  <tbody>\n    <tr>\n      <td>0</td>\n      <td>0</td>\n      <td>1</td>\n      <td>1</td>\n      <td>1</td>\n      <td>1</td>\n      <td>0</td>\n      <td>1</td>\n      <td>0</td>\n      <td>0</td>\n      <td>0</td>\n      <td>0</td>\n      <td>0</td>\n      <td>0</td>\n      <td>2</td>\n    </tr>\n    <tr>\n      <td>1</td>\n      <td>0</td>\n      <td>2</td>\n      <td>30</td>\n      <td>1</td>\n      <td>1</td>\n      <td>0</td>\n      <td>1</td>\n      <td>2</td>\n      <td>0</td>\n      <td>0</td>\n      <td>0</td>\n      <td>0</td>\n      <td>main1()</td>\n      <td>5</td>\n    </tr>\n    <tr>\n      <td>2</td>\n      <td>0</td>\n      <td>13</td>\n      <td>32</td>\n      <td>1</td>\n      <td>1</td>\n      <td>0</td>\n      <td>1</td>\n      <td>0</td>\n      <td>0</td>\n      <td>0</td>\n      <td>0</td>\n      <td>0</td>\n      <td>0</td>\n      <td>17</td>\n    </tr>\n    <tr>\n      <td>3</td>\n      <td>0</td>\n      <td>14</td>\n      <td>33</td>\n      <td>1</td>\n      <td>1</td>\n      <td>0</td>\n      <td>1</td>\n      <td>0</td>\n      <td>0</td>\n      <td>0</td>\n      <td>0</td>\n      <td>0</td>\n      <td>0</td>\n      <td>18</td>\n    </tr>\n    <tr>\n      <td>4</td>\n      <td>0</td>\n      <td>15</td>\n      <td>34</td>\n      <td>1</td>\n      <td>1</td>\n      <td>0</td>\n      <td>1</td>\n      <td>15</td>\n      <td>0</td>\n      <td>0</td>\n      <td>0</td>\n      <td>0</td>\n      <td>main2()</td>\n      <td>5</td>\n    </tr>\n    <tr>\n      <td>5</td>\n      <td>0</td>\n      <td>25</td>\n      <td>36</td>\n      <td>1</td>\n      <td>1</td>\n      <td>0</td>\n      <td>1</td>\n      <td>0</td>\n      <td>0</td>\n      <td>0</td>\n      <td>0</td>\n      <td>0</td>\n      <td>0</td>\n      <td>17</td>\n    </tr>\n    <tr>\n      <td>6</td>\n      <td>0</td>\n      <td>26</td>\n      <td>37</td>\n      <td>1</td>\n      <td>1</td>\n      <td>0</td>\n      <td>1</td>\n      <td>0</td>\n      <td>0</td>\n      <td>0</td>\n      <td>0</td>\n      <td>0</td>\n      <td>0</td>\n      <td>18</td>\n    </tr>\n    <tr>\n      <td>7</td>\n      <td>0</td>\n      <td>27</td>\n      <td>2</td>\n      <td>1</td>\n      <td>1</td>\n      <td>0</td>\n      <td>1</td>\n      <td>0</td>\n      <td>0</td>\n      <td>0</td>\n      <td>0</td>\n      <td>0</td>\n      <td>0</td>\n      <td>3</td>\n    </tr>\n  </tbody>\n</table>\n</div>"
     },
     "metadata": {}
    },
    {
     "output_type": "display_data",
     "data": {
      "text/plain": "   valueId  traceId  staticTraceId  runId  contextId  type  applicationId  \\\n0        0        3              6      1          2     0              1   \n1        0        4             12      1          2     0              1   \n2        1        5             13      1          2     0              1   \n3        0       12             13      1          2     0              1   \n4        2        6             15      1          2     0              1   \n5        3        7             16      1          2     0              1   \n6        0        8             14      1          2     0              1   \n7        0        9             17      1          2     0              1   \n\n   callId  resultId  resultCallId  previousTrace error  \\\n0       0         0             0              0     0   \n1       4         8             0              0     0   \n2       0         0             0              0     0   \n3       0         0             0              8  True   \n4       4         0             0              0     0   \n5       4         0             0              0     0   \n6       0         0             4              0     0   \n7       9         0             0              0     0   \n\n                       displayName  sType  \n0                                0      2  \n1  console.log('[main1]', 'start')      5  \n2                          console      9  \n3                          console      9  \n4                        '[main1]'     10  \n5                          'start'     10  \n6  console.log('[main1]', 'start')      7  \n7                           ouch()      5  ",
      "text/html": "<div>\n<style scoped>\n    .dataframe tbody tr th:only-of-type {\n        vertical-align: middle;\n    }\n\n    .dataframe tbody tr th {\n        vertical-align: top;\n    }\n\n    .dataframe thead th {\n        text-align: right;\n    }\n</style>\n<table border=\"1\" class=\"dataframe\">\n  <thead>\n    <tr style=\"text-align: right;\">\n      <th></th>\n      <th>valueId</th>\n      <th>traceId</th>\n      <th>staticTraceId</th>\n      <th>runId</th>\n      <th>contextId</th>\n      <th>type</th>\n      <th>applicationId</th>\n      <th>callId</th>\n      <th>resultId</th>\n      <th>resultCallId</th>\n      <th>previousTrace</th>\n      <th>error</th>\n      <th>displayName</th>\n      <th>sType</th>\n    </tr>\n  </thead>\n  <tbody>\n    <tr>\n      <td>0</td>\n      <td>0</td>\n      <td>3</td>\n      <td>6</td>\n      <td>1</td>\n      <td>2</td>\n      <td>0</td>\n      <td>1</td>\n      <td>0</td>\n      <td>0</td>\n      <td>0</td>\n      <td>0</td>\n      <td>0</td>\n      <td>0</td>\n      <td>2</td>\n    </tr>\n    <tr>\n      <td>1</td>\n      <td>0</td>\n      <td>4</td>\n      <td>12</td>\n      <td>1</td>\n      <td>2</td>\n      <td>0</td>\n      <td>1</td>\n      <td>4</td>\n      <td>8</td>\n      <td>0</td>\n      <td>0</td>\n      <td>0</td>\n      <td>console.log('[main1]', 'start')</td>\n      <td>5</td>\n    </tr>\n    <tr>\n      <td>2</td>\n      <td>1</td>\n      <td>5</td>\n      <td>13</td>\n      <td>1</td>\n      <td>2</td>\n      <td>0</td>\n      <td>1</td>\n      <td>0</td>\n      <td>0</td>\n      <td>0</td>\n      <td>0</td>\n      <td>0</td>\n      <td>console</td>\n      <td>9</td>\n    </tr>\n    <tr>\n      <td>3</td>\n      <td>0</td>\n      <td>12</td>\n      <td>13</td>\n      <td>1</td>\n      <td>2</td>\n      <td>0</td>\n      <td>1</td>\n      <td>0</td>\n      <td>0</td>\n      <td>0</td>\n      <td>8</td>\n      <td>True</td>\n      <td>console</td>\n      <td>9</td>\n    </tr>\n    <tr>\n      <td>4</td>\n      <td>2</td>\n      <td>6</td>\n      <td>15</td>\n      <td>1</td>\n      <td>2</td>\n      <td>0</td>\n      <td>1</td>\n      <td>4</td>\n      <td>0</td>\n      <td>0</td>\n      <td>0</td>\n      <td>0</td>\n      <td>'[main1]'</td>\n      <td>10</td>\n    </tr>\n    <tr>\n      <td>5</td>\n      <td>3</td>\n      <td>7</td>\n      <td>16</td>\n      <td>1</td>\n      <td>2</td>\n      <td>0</td>\n      <td>1</td>\n      <td>4</td>\n      <td>0</td>\n      <td>0</td>\n      <td>0</td>\n      <td>0</td>\n      <td>'start'</td>\n      <td>10</td>\n    </tr>\n    <tr>\n      <td>6</td>\n      <td>0</td>\n      <td>8</td>\n      <td>14</td>\n      <td>1</td>\n      <td>2</td>\n      <td>0</td>\n      <td>1</td>\n      <td>0</td>\n      <td>0</td>\n      <td>4</td>\n      <td>0</td>\n      <td>0</td>\n      <td>console.log('[main1]', 'start')</td>\n      <td>7</td>\n    </tr>\n    <tr>\n      <td>7</td>\n      <td>0</td>\n      <td>9</td>\n      <td>17</td>\n      <td>1</td>\n      <td>2</td>\n      <td>0</td>\n      <td>1</td>\n      <td>9</td>\n      <td>0</td>\n      <td>0</td>\n      <td>0</td>\n      <td>0</td>\n      <td>ouch()</td>\n      <td>5</td>\n    </tr>\n  </tbody>\n</table>\n</div>"
     },
     "metadata": {}
    },
    {
     "output_type": "display_data",
     "data": {
      "text/plain": "   valueId  traceId  staticTraceId  runId  contextId  type  applicationId  \\\n0        0       10              3      1          3     0              1   \n1        0       11              4      1          3     0              1   \n\n   callId  resultId  resultCallId  previousTrace error displayName  sType  \n0       0         0             0              0     0           0      2  \n1       0         0             0              0     0           0      3  ",
      "text/html": "<div>\n<style scoped>\n    .dataframe tbody tr th:only-of-type {\n        vertical-align: middle;\n    }\n\n    .dataframe tbody tr th {\n        vertical-align: top;\n    }\n\n    .dataframe thead th {\n        text-align: right;\n    }\n</style>\n<table border=\"1\" class=\"dataframe\">\n  <thead>\n    <tr style=\"text-align: right;\">\n      <th></th>\n      <th>valueId</th>\n      <th>traceId</th>\n      <th>staticTraceId</th>\n      <th>runId</th>\n      <th>contextId</th>\n      <th>type</th>\n      <th>applicationId</th>\n      <th>callId</th>\n      <th>resultId</th>\n      <th>resultCallId</th>\n      <th>previousTrace</th>\n      <th>error</th>\n      <th>displayName</th>\n      <th>sType</th>\n    </tr>\n  </thead>\n  <tbody>\n    <tr>\n      <td>0</td>\n      <td>0</td>\n      <td>10</td>\n      <td>3</td>\n      <td>1</td>\n      <td>3</td>\n      <td>0</td>\n      <td>1</td>\n      <td>0</td>\n      <td>0</td>\n      <td>0</td>\n      <td>0</td>\n      <td>0</td>\n      <td>0</td>\n      <td>2</td>\n    </tr>\n    <tr>\n      <td>1</td>\n      <td>0</td>\n      <td>11</td>\n      <td>4</td>\n      <td>1</td>\n      <td>3</td>\n      <td>0</td>\n      <td>1</td>\n      <td>0</td>\n      <td>0</td>\n      <td>0</td>\n      <td>0</td>\n      <td>0</td>\n      <td>0</td>\n      <td>3</td>\n    </tr>\n  </tbody>\n</table>\n</div>"
     },
     "metadata": {}
    },
    {
     "output_type": "display_data",
     "data": {
      "text/plain": "   valueId  traceId  staticTraceId  runId  contextId  type  applicationId  \\\n0        0       16              9      1          4     0              1   \n1        0       17             24      1          4     0              1   \n2        4       18             25      1          4     0              1   \n3        0       24             25      1          4     0              1   \n4        5       19             27      1          4     0              1   \n5        6       20             28      1          4     0              1   \n6        0       21             26      1          4     0              1   \n\n   callId  resultId  resultCallId  previousTrace error  \\\n0       0         0             0              0     0   \n1      17        21             0              0     0   \n2       0         0             0              0     0   \n3       0         0             0             21  True   \n4      17         0             0              0     0   \n5      17         0             0              0     0   \n6       0         0            17              0     0   \n\n                       displayName  sType  \n0                                0      2  \n1  console.log('[main2]', 'start')      5  \n2                          console      9  \n3                          console      9  \n4                        '[main2]'     10  \n5                          'start'     10  \n6  console.log('[main2]', 'start')      7  ",
      "text/html": "<div>\n<style scoped>\n    .dataframe tbody tr th:only-of-type {\n        vertical-align: middle;\n    }\n\n    .dataframe tbody tr th {\n        vertical-align: top;\n    }\n\n    .dataframe thead th {\n        text-align: right;\n    }\n</style>\n<table border=\"1\" class=\"dataframe\">\n  <thead>\n    <tr style=\"text-align: right;\">\n      <th></th>\n      <th>valueId</th>\n      <th>traceId</th>\n      <th>staticTraceId</th>\n      <th>runId</th>\n      <th>contextId</th>\n      <th>type</th>\n      <th>applicationId</th>\n      <th>callId</th>\n      <th>resultId</th>\n      <th>resultCallId</th>\n      <th>previousTrace</th>\n      <th>error</th>\n      <th>displayName</th>\n      <th>sType</th>\n    </tr>\n  </thead>\n  <tbody>\n    <tr>\n      <td>0</td>\n      <td>0</td>\n      <td>16</td>\n      <td>9</td>\n      <td>1</td>\n      <td>4</td>\n      <td>0</td>\n      <td>1</td>\n      <td>0</td>\n      <td>0</td>\n      <td>0</td>\n      <td>0</td>\n      <td>0</td>\n      <td>0</td>\n      <td>2</td>\n    </tr>\n    <tr>\n      <td>1</td>\n      <td>0</td>\n      <td>17</td>\n      <td>24</td>\n      <td>1</td>\n      <td>4</td>\n      <td>0</td>\n      <td>1</td>\n      <td>17</td>\n      <td>21</td>\n      <td>0</td>\n      <td>0</td>\n      <td>0</td>\n      <td>console.log('[main2]', 'start')</td>\n      <td>5</td>\n    </tr>\n    <tr>\n      <td>2</td>\n      <td>4</td>\n      <td>18</td>\n      <td>25</td>\n      <td>1</td>\n      <td>4</td>\n      <td>0</td>\n      <td>1</td>\n      <td>0</td>\n      <td>0</td>\n      <td>0</td>\n      <td>0</td>\n      <td>0</td>\n      <td>console</td>\n      <td>9</td>\n    </tr>\n    <tr>\n      <td>3</td>\n      <td>0</td>\n      <td>24</td>\n      <td>25</td>\n      <td>1</td>\n      <td>4</td>\n      <td>0</td>\n      <td>1</td>\n      <td>0</td>\n      <td>0</td>\n      <td>0</td>\n      <td>21</td>\n      <td>True</td>\n      <td>console</td>\n      <td>9</td>\n    </tr>\n    <tr>\n      <td>4</td>\n      <td>5</td>\n      <td>19</td>\n      <td>27</td>\n      <td>1</td>\n      <td>4</td>\n      <td>0</td>\n      <td>1</td>\n      <td>17</td>\n      <td>0</td>\n      <td>0</td>\n      <td>0</td>\n      <td>0</td>\n      <td>'[main2]'</td>\n      <td>10</td>\n    </tr>\n    <tr>\n      <td>5</td>\n      <td>6</td>\n      <td>20</td>\n      <td>28</td>\n      <td>1</td>\n      <td>4</td>\n      <td>0</td>\n      <td>1</td>\n      <td>17</td>\n      <td>0</td>\n      <td>0</td>\n      <td>0</td>\n      <td>0</td>\n      <td>'start'</td>\n      <td>10</td>\n    </tr>\n    <tr>\n      <td>6</td>\n      <td>0</td>\n      <td>21</td>\n      <td>26</td>\n      <td>1</td>\n      <td>4</td>\n      <td>0</td>\n      <td>1</td>\n      <td>0</td>\n      <td>0</td>\n      <td>17</td>\n      <td>0</td>\n      <td>0</td>\n      <td>console.log('[main2]', 'start')</td>\n      <td>7</td>\n    </tr>\n  </tbody>\n</table>\n</div>"
     },
     "metadata": {}
    },
    {
     "output_type": "display_data",
     "data": {
      "text/plain": "   valueId  traceId  staticTraceId  runId  contextId  type  applicationId  \\\n0        0       22              3      1          5     0              1   \n1        0       23              4      1          5     0              1   \n\n   callId  resultId  resultCallId  previousTrace error displayName  sType  \n0       0         0             0              0     0           0      2  \n1       0         0             0              0     0           0      3  ",
      "text/html": "<div>\n<style scoped>\n    .dataframe tbody tr th:only-of-type {\n        vertical-align: middle;\n    }\n\n    .dataframe tbody tr th {\n        vertical-align: top;\n    }\n\n    .dataframe thead th {\n        text-align: right;\n    }\n</style>\n<table border=\"1\" class=\"dataframe\">\n  <thead>\n    <tr style=\"text-align: right;\">\n      <th></th>\n      <th>valueId</th>\n      <th>traceId</th>\n      <th>staticTraceId</th>\n      <th>runId</th>\n      <th>contextId</th>\n      <th>type</th>\n      <th>applicationId</th>\n      <th>callId</th>\n      <th>resultId</th>\n      <th>resultCallId</th>\n      <th>previousTrace</th>\n      <th>error</th>\n      <th>displayName</th>\n      <th>sType</th>\n    </tr>\n  </thead>\n  <tbody>\n    <tr>\n      <td>0</td>\n      <td>0</td>\n      <td>22</td>\n      <td>3</td>\n      <td>1</td>\n      <td>5</td>\n      <td>0</td>\n      <td>1</td>\n      <td>0</td>\n      <td>0</td>\n      <td>0</td>\n      <td>0</td>\n      <td>0</td>\n      <td>0</td>\n      <td>2</td>\n    </tr>\n    <tr>\n      <td>1</td>\n      <td>0</td>\n      <td>23</td>\n      <td>4</td>\n      <td>1</td>\n      <td>5</td>\n      <td>0</td>\n      <td>1</td>\n      <td>0</td>\n      <td>0</td>\n      <td>0</td>\n      <td>0</td>\n      <td>0</td>\n      <td>0</td>\n      <td>3</td>\n    </tr>\n  </tbody>\n</table>\n</div>"
     },
     "metadata": {}
    },
    {
     "output_type": "stream",
     "name": "stdout",
     "text": "static traces (by staticContext)\n"
    },
    {
     "output_type": "display_data",
     "data": {
      "text/plain": "   _callId  type  staticContextId  staticTraceId displayName  callId  \\\n0    False     2                1              1           0       0   \n1    False     3                1              2           0       0   \n29       0     5                1             30     main1()      30   \n30   False     7                1             31     main1()       0   \n31   False    17                1             32           0       0   \n32   False    18                1             33           0       0   \n33       0     5                1             34     main2()      34   \n34   False     7                1             35     main2()       0   \n35   False    17                1             36           0       0   \n36   False    18                1             37           0       0   \n\n    resultCallId  \n0              0  \n1              0  \n29             0  \n30            30  \n31             0  \n32             0  \n33             0  \n34            34  \n35             0  \n36             0  ",
      "text/html": "<div>\n<style scoped>\n    .dataframe tbody tr th:only-of-type {\n        vertical-align: middle;\n    }\n\n    .dataframe tbody tr th {\n        vertical-align: top;\n    }\n\n    .dataframe thead th {\n        text-align: right;\n    }\n</style>\n<table border=\"1\" class=\"dataframe\">\n  <thead>\n    <tr style=\"text-align: right;\">\n      <th></th>\n      <th>_callId</th>\n      <th>type</th>\n      <th>staticContextId</th>\n      <th>staticTraceId</th>\n      <th>displayName</th>\n      <th>callId</th>\n      <th>resultCallId</th>\n    </tr>\n  </thead>\n  <tbody>\n    <tr>\n      <td>0</td>\n      <td>False</td>\n      <td>2</td>\n      <td>1</td>\n      <td>1</td>\n      <td>0</td>\n      <td>0</td>\n      <td>0</td>\n    </tr>\n    <tr>\n      <td>1</td>\n      <td>False</td>\n      <td>3</td>\n      <td>1</td>\n      <td>2</td>\n      <td>0</td>\n      <td>0</td>\n      <td>0</td>\n    </tr>\n    <tr>\n      <td>29</td>\n      <td>0</td>\n      <td>5</td>\n      <td>1</td>\n      <td>30</td>\n      <td>main1()</td>\n      <td>30</td>\n      <td>0</td>\n    </tr>\n    <tr>\n      <td>30</td>\n      <td>False</td>\n      <td>7</td>\n      <td>1</td>\n      <td>31</td>\n      <td>main1()</td>\n      <td>0</td>\n      <td>30</td>\n    </tr>\n    <tr>\n      <td>31</td>\n      <td>False</td>\n      <td>17</td>\n      <td>1</td>\n      <td>32</td>\n      <td>0</td>\n      <td>0</td>\n      <td>0</td>\n    </tr>\n    <tr>\n      <td>32</td>\n      <td>False</td>\n      <td>18</td>\n      <td>1</td>\n      <td>33</td>\n      <td>0</td>\n      <td>0</td>\n      <td>0</td>\n    </tr>\n    <tr>\n      <td>33</td>\n      <td>0</td>\n      <td>5</td>\n      <td>1</td>\n      <td>34</td>\n      <td>main2()</td>\n      <td>34</td>\n      <td>0</td>\n    </tr>\n    <tr>\n      <td>34</td>\n      <td>False</td>\n      <td>7</td>\n      <td>1</td>\n      <td>35</td>\n      <td>main2()</td>\n      <td>0</td>\n      <td>34</td>\n    </tr>\n    <tr>\n      <td>35</td>\n      <td>False</td>\n      <td>17</td>\n      <td>1</td>\n      <td>36</td>\n      <td>0</td>\n      <td>0</td>\n      <td>0</td>\n    </tr>\n    <tr>\n      <td>36</td>\n      <td>False</td>\n      <td>18</td>\n      <td>1</td>\n      <td>37</td>\n      <td>0</td>\n      <td>0</td>\n      <td>0</td>\n    </tr>\n  </tbody>\n</table>\n</div>"
     },
     "metadata": {}
    },
    {
     "output_type": "display_data",
     "data": {
      "text/plain": "  _callId  type  staticContextId  staticTraceId  \\\n2   False     2                2              3   \n3   False     3                2              4   \n4   False    22                2              5   \n\n                     displayName  callId  resultCallId  \n2                              0       0             0  \n3                              0       0             0  \n4  { throw new Error('ouch!'); }       0             0  ",
      "text/html": "<div>\n<style scoped>\n    .dataframe tbody tr th:only-of-type {\n        vertical-align: middle;\n    }\n\n    .dataframe tbody tr th {\n        vertical-align: top;\n    }\n\n    .dataframe thead th {\n        text-align: right;\n    }\n</style>\n<table border=\"1\" class=\"dataframe\">\n  <thead>\n    <tr style=\"text-align: right;\">\n      <th></th>\n      <th>_callId</th>\n      <th>type</th>\n      <th>staticContextId</th>\n      <th>staticTraceId</th>\n      <th>displayName</th>\n      <th>callId</th>\n      <th>resultCallId</th>\n    </tr>\n  </thead>\n  <tbody>\n    <tr>\n      <td>2</td>\n      <td>False</td>\n      <td>2</td>\n      <td>2</td>\n      <td>3</td>\n      <td>0</td>\n      <td>0</td>\n      <td>0</td>\n    </tr>\n    <tr>\n      <td>3</td>\n      <td>False</td>\n      <td>3</td>\n      <td>2</td>\n      <td>4</td>\n      <td>0</td>\n      <td>0</td>\n      <td>0</td>\n    </tr>\n    <tr>\n      <td>4</td>\n      <td>False</td>\n      <td>22</td>\n      <td>2</td>\n      <td>5</td>\n      <td>{ throw new Error('ouch!'); }</td>\n      <td>0</td>\n      <td>0</td>\n    </tr>\n  </tbody>\n</table>\n</div>"
     },
     "metadata": {}
    },
    {
     "output_type": "display_data",
     "data": {
      "text/plain": "   _callId  type  staticContextId  staticTraceId  \\\n5    False     2                3              6   \n6    False     3                3              7   \n7    False    22                3              8   \n11       0     5                3             12   \n12   False     9                3             13   \n13   False     7                3             14   \n14       0    10                3             15   \n15       0    10                3             16   \n16       0     5                3             17   \n17   False     7                3             18   \n18       0     5                3             19   \n19   False     9                3             20   \n20   False     7                3             21   \n21       0    10                3             22   \n22       0    10                3             23   \n\n                                          displayName  callId  resultCallId  \n5                                                   0       0             0  \n6                                                   0       0             0  \n7   { console.log('[main1]', 'start'); ouch(); con...       0             0  \n11                    console.log('[main1]', 'start')      12             0  \n12                                            console       0             0  \n13                    console.log('[main1]', 'start')       0            12  \n14                                          '[main1]'      12             0  \n15                                            'start'      12             0  \n16                                             ouch()      17             0  \n17                                             ouch()       0            17  \n18                      console.log('[main1]', 'end')      19             0  \n19                                            console       0             0  \n20                      console.log('[main1]', 'end')       0            19  \n21                                          '[main1]'      19             0  \n22                                              'end'      19             0  ",
      "text/html": "<div>\n<style scoped>\n    .dataframe tbody tr th:only-of-type {\n        vertical-align: middle;\n    }\n\n    .dataframe tbody tr th {\n        vertical-align: top;\n    }\n\n    .dataframe thead th {\n        text-align: right;\n    }\n</style>\n<table border=\"1\" class=\"dataframe\">\n  <thead>\n    <tr style=\"text-align: right;\">\n      <th></th>\n      <th>_callId</th>\n      <th>type</th>\n      <th>staticContextId</th>\n      <th>staticTraceId</th>\n      <th>displayName</th>\n      <th>callId</th>\n      <th>resultCallId</th>\n    </tr>\n  </thead>\n  <tbody>\n    <tr>\n      <td>5</td>\n      <td>False</td>\n      <td>2</td>\n      <td>3</td>\n      <td>6</td>\n      <td>0</td>\n      <td>0</td>\n      <td>0</td>\n    </tr>\n    <tr>\n      <td>6</td>\n      <td>False</td>\n      <td>3</td>\n      <td>3</td>\n      <td>7</td>\n      <td>0</td>\n      <td>0</td>\n      <td>0</td>\n    </tr>\n    <tr>\n      <td>7</td>\n      <td>False</td>\n      <td>22</td>\n      <td>3</td>\n      <td>8</td>\n      <td>{ console.log('[main1]', 'start'); ouch(); con...</td>\n      <td>0</td>\n      <td>0</td>\n    </tr>\n    <tr>\n      <td>11</td>\n      <td>0</td>\n      <td>5</td>\n      <td>3</td>\n      <td>12</td>\n      <td>console.log('[main1]', 'start')</td>\n      <td>12</td>\n      <td>0</td>\n    </tr>\n    <tr>\n      <td>12</td>\n      <td>False</td>\n      <td>9</td>\n      <td>3</td>\n      <td>13</td>\n      <td>console</td>\n      <td>0</td>\n      <td>0</td>\n    </tr>\n    <tr>\n      <td>13</td>\n      <td>False</td>\n      <td>7</td>\n      <td>3</td>\n      <td>14</td>\n      <td>console.log('[main1]', 'start')</td>\n      <td>0</td>\n      <td>12</td>\n    </tr>\n    <tr>\n      <td>14</td>\n      <td>0</td>\n      <td>10</td>\n      <td>3</td>\n      <td>15</td>\n      <td>'[main1]'</td>\n      <td>12</td>\n      <td>0</td>\n    </tr>\n    <tr>\n      <td>15</td>\n      <td>0</td>\n      <td>10</td>\n      <td>3</td>\n      <td>16</td>\n      <td>'start'</td>\n      <td>12</td>\n      <td>0</td>\n    </tr>\n    <tr>\n      <td>16</td>\n      <td>0</td>\n      <td>5</td>\n      <td>3</td>\n      <td>17</td>\n      <td>ouch()</td>\n      <td>17</td>\n      <td>0</td>\n    </tr>\n    <tr>\n      <td>17</td>\n      <td>False</td>\n      <td>7</td>\n      <td>3</td>\n      <td>18</td>\n      <td>ouch()</td>\n      <td>0</td>\n      <td>17</td>\n    </tr>\n    <tr>\n      <td>18</td>\n      <td>0</td>\n      <td>5</td>\n      <td>3</td>\n      <td>19</td>\n      <td>console.log('[main1]', 'end')</td>\n      <td>19</td>\n      <td>0</td>\n    </tr>\n    <tr>\n      <td>19</td>\n      <td>False</td>\n      <td>9</td>\n      <td>3</td>\n      <td>20</td>\n      <td>console</td>\n      <td>0</td>\n      <td>0</td>\n    </tr>\n    <tr>\n      <td>20</td>\n      <td>False</td>\n      <td>7</td>\n      <td>3</td>\n      <td>21</td>\n      <td>console.log('[main1]', 'end')</td>\n      <td>0</td>\n      <td>19</td>\n    </tr>\n    <tr>\n      <td>21</td>\n      <td>0</td>\n      <td>10</td>\n      <td>3</td>\n      <td>22</td>\n      <td>'[main1]'</td>\n      <td>19</td>\n      <td>0</td>\n    </tr>\n    <tr>\n      <td>22</td>\n      <td>0</td>\n      <td>10</td>\n      <td>3</td>\n      <td>23</td>\n      <td>'end'</td>\n      <td>19</td>\n      <td>0</td>\n    </tr>\n  </tbody>\n</table>\n</div>"
     },
     "metadata": {}
    },
    {
     "output_type": "display_data",
     "data": {
      "text/plain": "   _callId  type  staticContextId  staticTraceId  \\\n8    False     2                4              9   \n9    False     3                4             10   \n10   False    22                4             11   \n23       0     5                4             24   \n24   False     9                4             25   \n25   False     7                4             26   \n26       0    10                4             27   \n27       0    10                4             28   \n28   False     7                4             29   \n\n                                          displayName  callId  resultCallId  \n8                                                   0       0             0  \n9                                                   0       0             0  \n10  { console.log('[main2]', 'start'); return ouch...       0             0  \n23                    console.log('[main2]', 'start')      24             0  \n24                                            console       0             0  \n25                    console.log('[main2]', 'start')       0            24  \n26                                          '[main2]'      24             0  \n27                                            'start'      24             0  \n28                                             ouch()       0             0  ",
      "text/html": "<div>\n<style scoped>\n    .dataframe tbody tr th:only-of-type {\n        vertical-align: middle;\n    }\n\n    .dataframe tbody tr th {\n        vertical-align: top;\n    }\n\n    .dataframe thead th {\n        text-align: right;\n    }\n</style>\n<table border=\"1\" class=\"dataframe\">\n  <thead>\n    <tr style=\"text-align: right;\">\n      <th></th>\n      <th>_callId</th>\n      <th>type</th>\n      <th>staticContextId</th>\n      <th>staticTraceId</th>\n      <th>displayName</th>\n      <th>callId</th>\n      <th>resultCallId</th>\n    </tr>\n  </thead>\n  <tbody>\n    <tr>\n      <td>8</td>\n      <td>False</td>\n      <td>2</td>\n      <td>4</td>\n      <td>9</td>\n      <td>0</td>\n      <td>0</td>\n      <td>0</td>\n    </tr>\n    <tr>\n      <td>9</td>\n      <td>False</td>\n      <td>3</td>\n      <td>4</td>\n      <td>10</td>\n      <td>0</td>\n      <td>0</td>\n      <td>0</td>\n    </tr>\n    <tr>\n      <td>10</td>\n      <td>False</td>\n      <td>22</td>\n      <td>4</td>\n      <td>11</td>\n      <td>{ console.log('[main2]', 'start'); return ouch...</td>\n      <td>0</td>\n      <td>0</td>\n    </tr>\n    <tr>\n      <td>23</td>\n      <td>0</td>\n      <td>5</td>\n      <td>4</td>\n      <td>24</td>\n      <td>console.log('[main2]', 'start')</td>\n      <td>24</td>\n      <td>0</td>\n    </tr>\n    <tr>\n      <td>24</td>\n      <td>False</td>\n      <td>9</td>\n      <td>4</td>\n      <td>25</td>\n      <td>console</td>\n      <td>0</td>\n      <td>0</td>\n    </tr>\n    <tr>\n      <td>25</td>\n      <td>False</td>\n      <td>7</td>\n      <td>4</td>\n      <td>26</td>\n      <td>console.log('[main2]', 'start')</td>\n      <td>0</td>\n      <td>24</td>\n    </tr>\n    <tr>\n      <td>26</td>\n      <td>0</td>\n      <td>10</td>\n      <td>4</td>\n      <td>27</td>\n      <td>'[main2]'</td>\n      <td>24</td>\n      <td>0</td>\n    </tr>\n    <tr>\n      <td>27</td>\n      <td>0</td>\n      <td>10</td>\n      <td>4</td>\n      <td>28</td>\n      <td>'start'</td>\n      <td>24</td>\n      <td>0</td>\n    </tr>\n    <tr>\n      <td>28</td>\n      <td>False</td>\n      <td>7</td>\n      <td>4</td>\n      <td>29</td>\n      <td>ouch()</td>\n      <td>0</td>\n      <td>0</td>\n    </tr>\n  </tbody>\n</table>\n</div>"
     },
     "metadata": {}
    }
   ],
   "source": [
    "# load all data\n",
    "\n",
    "data = DataProvider('error1_data.json')\n",
    "\n",
    "staticContexts = data.collections.staticContexts\n",
    "staticTraces = data.collections.staticTraces\n",
    "contexts = data.collections.contexts\n",
    "traces = data.collections.traces\n",
    "\n",
    "# print('staticContexts')\n",
    "# display(staticContexts.drop('loc', axis=1))\n",
    "\n",
    "# print('contexts')\n",
    "# display(contexts)\n",
    "\n",
    "\n",
    "print('traces (by context)')\n",
    "groups = traces.drop('createdAt', axis=1).groupby('contextId')\n",
    "for key, item in groups:\n",
    "  group = groups.get_group(key)\n",
    "  groupStatic = staticTraces[['staticTraceId', 'displayName', 'type']]\n",
    "  groupStatic = groupStatic.rename(columns={'type': 'sType'})\n",
    "#   group = pd.merge(group, displayName, on=['staticTraceId'])\n",
    "  group = group.merge(groupStatic, left_on='staticTraceId', right_on='staticTraceId')\n",
    "  display(group)\n",
    "\n",
    "\n",
    "print('static traces (by staticContext)')\n",
    "groups = staticTraces.drop('loc', axis=1).groupby('staticContextId')\n",
    "for key, item in groups:\n",
    "  group = groups.get_group(key)\n",
    "  display(group)\n",
    "\n",
    "# df = staticTraces.drop('loc', axis=1) #.query(f'callId != 0 or resultCallId != 0 or type == 5')\n",
    "# # df\n",
    "# df.iloc[50:]\n",
    "# df = data.collections.traces.query(f'callId != 0 or resultCallId != 0')\n",
    "# df"
   ]
  },
  {
   "cell_type": "code",
   "execution_count": null,
   "metadata": {},
   "outputs": [],
   "source": []
  }
 ]
}