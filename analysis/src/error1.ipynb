{
 "nbformat": 4,
 "nbformat_minor": 2,
 "metadata": {
  "language_info": {
   "name": "python",
   "codemirror_mode": {
    "name": "ipython",
    "version": 3
   },
   "version": "3.7.6-final"
  },
  "orig_nbformat": 2,
  "file_extension": ".py",
  "mimetype": "text/x-python",
  "name": "python",
  "npconvert_exporter": "python",
  "pygments_lexer": "ipython3",
  "version": 3,
  "kernelspec": {
   "name": "python3",
   "display_name": "Python 3"
  }
 },
 "cells": [
  {
   "cell_type": "code",
   "execution_count": 1,
   "metadata": {},
   "outputs": [],
   "source": [
    "############################################################################################\n",
    "# Init\n",
    "############################################################################################\n",
    "\n",
    "import __init__\n",
    "\n",
    "# enable autoreload (see https://ipython.readthedocs.io/en/stable/config/extensions/autoreload.html)\n",
    "%load_ext autoreload\n",
    "%autoreload 2\n",
    "\n",
    "import pandas as pd \n",
    "import numpy as np\n",
    "import seaborn as sns #visualisation\n",
    "import matplotlib.pyplot as plt #visualisation\n",
    "from util.loadUtil import loadDbuxFile, collectionDf\n",
    "from data.DataProvider import DataProvider\n",
    "\n",
    "%matplotlib inline \n",
    "sns.set(color_codes=True)"
   ]
  },
  {
   "cell_type": "code",
   "execution_count": 9,
   "metadata": {
    "tags": [
     "outputPrepend"
    ]
   },
   "outputs": [
    {
     "output_type": "stream",
     "name": "stdout",
     "text": "staticContexts\n"
    },
    {
     "output_type": "display_data",
     "data": {
      "text/plain": "   type       name displayName   fileName  \\\n0     1  error1.js   error1.js  error1.js   \n1     2          f           f          0   \n2     2       main        main          0   \n\n                                            filePath  programId  staticId  \\\n0  /Users/domi/code/dbux/samples/__samplesInput__...          1         1   \n1                                                  0          1         2   \n2                                                  0          1         3   \n\n  isInterruptable  parentId  \n0               0         0  \n1           False         1  \n2           False         1  ",
      "text/html": "<div>\n<style scoped>\n    .dataframe tbody tr th:only-of-type {\n        vertical-align: middle;\n    }\n\n    .dataframe tbody tr th {\n        vertical-align: top;\n    }\n\n    .dataframe thead th {\n        text-align: right;\n    }\n</style>\n<table border=\"1\" class=\"dataframe\">\n  <thead>\n    <tr style=\"text-align: right;\">\n      <th></th>\n      <th>type</th>\n      <th>name</th>\n      <th>displayName</th>\n      <th>fileName</th>\n      <th>filePath</th>\n      <th>programId</th>\n      <th>staticId</th>\n      <th>isInterruptable</th>\n      <th>parentId</th>\n    </tr>\n  </thead>\n  <tbody>\n    <tr>\n      <td>0</td>\n      <td>1</td>\n      <td>error1.js</td>\n      <td>error1.js</td>\n      <td>error1.js</td>\n      <td>/Users/domi/code/dbux/samples/__samplesInput__...</td>\n      <td>1</td>\n      <td>1</td>\n      <td>0</td>\n      <td>0</td>\n    </tr>\n    <tr>\n      <td>1</td>\n      <td>2</td>\n      <td>f</td>\n      <td>f</td>\n      <td>0</td>\n      <td>0</td>\n      <td>1</td>\n      <td>2</td>\n      <td>False</td>\n      <td>1</td>\n    </tr>\n    <tr>\n      <td>2</td>\n      <td>2</td>\n      <td>main</td>\n      <td>main</td>\n      <td>0</td>\n      <td>0</td>\n      <td>1</td>\n      <td>3</td>\n      <td>False</td>\n      <td>1</td>\n    </tr>\n  </tbody>\n</table>\n</div>"
     },
     "metadata": {}
    },
    {
     "output_type": "stream",
     "name": "stdout",
     "text": "contexts\n"
    },
    {
     "output_type": "display_data",
     "data": {
      "text/plain": "   contextType  runId  parentContextId  contextId  staticContextId  orderId  \\\n0            1      1                0          1                1        1   \n1            1      1                1          2                3        1   \n2            1      1                2          3                2        1   \n\n   schedulerTraceId      createdAt  applicationId  parentTraceId  \n0                 0  1585311082924              1              0  \n1                 0  1585311082936              0              2  \n2                 0  1585311082956              0              8  ",
      "text/html": "<div>\n<style scoped>\n    .dataframe tbody tr th:only-of-type {\n        vertical-align: middle;\n    }\n\n    .dataframe tbody tr th {\n        vertical-align: top;\n    }\n\n    .dataframe thead th {\n        text-align: right;\n    }\n</style>\n<table border=\"1\" class=\"dataframe\">\n  <thead>\n    <tr style=\"text-align: right;\">\n      <th></th>\n      <th>contextType</th>\n      <th>runId</th>\n      <th>parentContextId</th>\n      <th>contextId</th>\n      <th>staticContextId</th>\n      <th>orderId</th>\n      <th>schedulerTraceId</th>\n      <th>createdAt</th>\n      <th>applicationId</th>\n      <th>parentTraceId</th>\n    </tr>\n  </thead>\n  <tbody>\n    <tr>\n      <td>0</td>\n      <td>1</td>\n      <td>1</td>\n      <td>0</td>\n      <td>1</td>\n      <td>1</td>\n      <td>1</td>\n      <td>0</td>\n      <td>1585311082924</td>\n      <td>1</td>\n      <td>0</td>\n    </tr>\n    <tr>\n      <td>1</td>\n      <td>1</td>\n      <td>1</td>\n      <td>1</td>\n      <td>2</td>\n      <td>3</td>\n      <td>1</td>\n      <td>0</td>\n      <td>1585311082936</td>\n      <td>0</td>\n      <td>2</td>\n    </tr>\n    <tr>\n      <td>2</td>\n      <td>1</td>\n      <td>1</td>\n      <td>2</td>\n      <td>3</td>\n      <td>2</td>\n      <td>1</td>\n      <td>0</td>\n      <td>1585311082956</td>\n      <td>0</td>\n      <td>8</td>\n    </tr>\n  </tbody>\n</table>\n</div>"
     },
     "metadata": {}
    },
    {
     "output_type": "stream",
     "name": "stdout",
     "text": "traces (by context)\n"
    },
    {
     "output_type": "display_data",
     "data": {
      "text/plain": "    valueId  traceId  staticTraceId  runId  contextId  type      createdAt  \\\n0         0        1              1      1          1     0  1585311082924   \n1         0        2             27      1          1     0  1585311082924   \n17        0       18              2      1          1     0  1585311082972   \n\n    applicationId  resultId  callId  resultCallId  \n0               1         0       0             0  \n1               1         0       0             0  \n17              1         0       0             0  ",
      "text/html": "<div>\n<style scoped>\n    .dataframe tbody tr th:only-of-type {\n        vertical-align: middle;\n    }\n\n    .dataframe tbody tr th {\n        vertical-align: top;\n    }\n\n    .dataframe thead th {\n        text-align: right;\n    }\n</style>\n<table border=\"1\" class=\"dataframe\">\n  <thead>\n    <tr style=\"text-align: right;\">\n      <th></th>\n      <th>valueId</th>\n      <th>traceId</th>\n      <th>staticTraceId</th>\n      <th>runId</th>\n      <th>contextId</th>\n      <th>type</th>\n      <th>createdAt</th>\n      <th>applicationId</th>\n      <th>resultId</th>\n      <th>callId</th>\n      <th>resultCallId</th>\n    </tr>\n  </thead>\n  <tbody>\n    <tr>\n      <td>0</td>\n      <td>0</td>\n      <td>1</td>\n      <td>1</td>\n      <td>1</td>\n      <td>1</td>\n      <td>0</td>\n      <td>1585311082924</td>\n      <td>1</td>\n      <td>0</td>\n      <td>0</td>\n      <td>0</td>\n    </tr>\n    <tr>\n      <td>1</td>\n      <td>0</td>\n      <td>2</td>\n      <td>27</td>\n      <td>1</td>\n      <td>1</td>\n      <td>0</td>\n      <td>1585311082924</td>\n      <td>1</td>\n      <td>0</td>\n      <td>0</td>\n      <td>0</td>\n    </tr>\n    <tr>\n      <td>17</td>\n      <td>0</td>\n      <td>18</td>\n      <td>2</td>\n      <td>1</td>\n      <td>1</td>\n      <td>0</td>\n      <td>1585311082972</td>\n      <td>1</td>\n      <td>0</td>\n      <td>0</td>\n      <td>0</td>\n    </tr>\n  </tbody>\n</table>\n</div>"
     },
     "metadata": {}
    },
    {
     "output_type": "display_data",
     "data": {
      "text/plain": "    valueId  traceId  staticTraceId  runId  contextId  type      createdAt  \\\n2         0        3              5      1          2     0  1585311082936   \n3         0        4             17      1          2     0  1585311082936   \n4         1        5             18      1          2     0  1585311082936   \n5         2        6             20      1          2     0  1585311082936   \n6         0        7             19      1          2     0  1585311082938   \n7         0        8             21      1          2     0  1585311082938   \n16        0       17              6      1          2     0  1585311082970   \n\n    applicationId  resultId  callId  resultCallId  \n2               1         0       0             0  \n3               1         7       0             0  \n4               1         0       0             0  \n5               1         0       4             0  \n6               1         0       0             4  \n7               1         0       0             0  \n16              1         0       0             0  ",
      "text/html": "<div>\n<style scoped>\n    .dataframe tbody tr th:only-of-type {\n        vertical-align: middle;\n    }\n\n    .dataframe tbody tr th {\n        vertical-align: top;\n    }\n\n    .dataframe thead th {\n        text-align: right;\n    }\n</style>\n<table border=\"1\" class=\"dataframe\">\n  <thead>\n    <tr style=\"text-align: right;\">\n      <th></th>\n      <th>valueId</th>\n      <th>traceId</th>\n      <th>staticTraceId</th>\n      <th>runId</th>\n      <th>contextId</th>\n      <th>type</th>\n      <th>createdAt</th>\n      <th>applicationId</th>\n      <th>resultId</th>\n      <th>callId</th>\n      <th>resultCallId</th>\n    </tr>\n  </thead>\n  <tbody>\n    <tr>\n      <td>2</td>\n      <td>0</td>\n      <td>3</td>\n      <td>5</td>\n      <td>1</td>\n      <td>2</td>\n      <td>0</td>\n      <td>1585311082936</td>\n      <td>1</td>\n      <td>0</td>\n      <td>0</td>\n      <td>0</td>\n    </tr>\n    <tr>\n      <td>3</td>\n      <td>0</td>\n      <td>4</td>\n      <td>17</td>\n      <td>1</td>\n      <td>2</td>\n      <td>0</td>\n      <td>1585311082936</td>\n      <td>1</td>\n      <td>7</td>\n      <td>0</td>\n      <td>0</td>\n    </tr>\n    <tr>\n      <td>4</td>\n      <td>1</td>\n      <td>5</td>\n      <td>18</td>\n      <td>1</td>\n      <td>2</td>\n      <td>0</td>\n      <td>1585311082936</td>\n      <td>1</td>\n      <td>0</td>\n      <td>0</td>\n      <td>0</td>\n    </tr>\n    <tr>\n      <td>5</td>\n      <td>2</td>\n      <td>6</td>\n      <td>20</td>\n      <td>1</td>\n      <td>2</td>\n      <td>0</td>\n      <td>1585311082936</td>\n      <td>1</td>\n      <td>0</td>\n      <td>4</td>\n      <td>0</td>\n    </tr>\n    <tr>\n      <td>6</td>\n      <td>0</td>\n      <td>7</td>\n      <td>19</td>\n      <td>1</td>\n      <td>2</td>\n      <td>0</td>\n      <td>1585311082938</td>\n      <td>1</td>\n      <td>0</td>\n      <td>0</td>\n      <td>4</td>\n    </tr>\n    <tr>\n      <td>7</td>\n      <td>0</td>\n      <td>8</td>\n      <td>21</td>\n      <td>1</td>\n      <td>2</td>\n      <td>0</td>\n      <td>1585311082938</td>\n      <td>1</td>\n      <td>0</td>\n      <td>0</td>\n      <td>0</td>\n    </tr>\n    <tr>\n      <td>16</td>\n      <td>0</td>\n      <td>17</td>\n      <td>6</td>\n      <td>1</td>\n      <td>2</td>\n      <td>0</td>\n      <td>1585311082970</td>\n      <td>1</td>\n      <td>0</td>\n      <td>0</td>\n      <td>0</td>\n    </tr>\n  </tbody>\n</table>\n</div>"
     },
     "metadata": {}
    },
    {
     "output_type": "display_data",
     "data": {
      "text/plain": "    valueId  traceId  staticTraceId  runId  contextId  type      createdAt  \\\n8         0        9              3      1          3     0  1585311082956   \n9         0       10              7      1          3     0  1585311082956   \n10        3       11              8      1          3     0  1585311082956   \n11        4       12             10      1          3     0  1585311082956   \n12        0       13              9      1          3     0  1585311082970   \n13        0       14             11      1          3     0  1585311082970   \n14        5       15             12      1          3     0  1585311082970   \n15        0       16              4      1          3     0  1585311082970   \n\n    applicationId  resultId  callId  resultCallId  \n8               1         0       0             0  \n9               1        13       0             0  \n10              1         0       0             0  \n11              1         0      10             0  \n12              1         0       0            10  \n13              1         0       0             0  \n14              1         0       0             0  \n15              1         0       0             0  ",
      "text/html": "<div>\n<style scoped>\n    .dataframe tbody tr th:only-of-type {\n        vertical-align: middle;\n    }\n\n    .dataframe tbody tr th {\n        vertical-align: top;\n    }\n\n    .dataframe thead th {\n        text-align: right;\n    }\n</style>\n<table border=\"1\" class=\"dataframe\">\n  <thead>\n    <tr style=\"text-align: right;\">\n      <th></th>\n      <th>valueId</th>\n      <th>traceId</th>\n      <th>staticTraceId</th>\n      <th>runId</th>\n      <th>contextId</th>\n      <th>type</th>\n      <th>createdAt</th>\n      <th>applicationId</th>\n      <th>resultId</th>\n      <th>callId</th>\n      <th>resultCallId</th>\n    </tr>\n  </thead>\n  <tbody>\n    <tr>\n      <td>8</td>\n      <td>0</td>\n      <td>9</td>\n      <td>3</td>\n      <td>1</td>\n      <td>3</td>\n      <td>0</td>\n      <td>1585311082956</td>\n      <td>1</td>\n      <td>0</td>\n      <td>0</td>\n      <td>0</td>\n    </tr>\n    <tr>\n      <td>9</td>\n      <td>0</td>\n      <td>10</td>\n      <td>7</td>\n      <td>1</td>\n      <td>3</td>\n      <td>0</td>\n      <td>1585311082956</td>\n      <td>1</td>\n      <td>13</td>\n      <td>0</td>\n      <td>0</td>\n    </tr>\n    <tr>\n      <td>10</td>\n      <td>3</td>\n      <td>11</td>\n      <td>8</td>\n      <td>1</td>\n      <td>3</td>\n      <td>0</td>\n      <td>1585311082956</td>\n      <td>1</td>\n      <td>0</td>\n      <td>0</td>\n      <td>0</td>\n    </tr>\n    <tr>\n      <td>11</td>\n      <td>4</td>\n      <td>12</td>\n      <td>10</td>\n      <td>1</td>\n      <td>3</td>\n      <td>0</td>\n      <td>1585311082956</td>\n      <td>1</td>\n      <td>0</td>\n      <td>10</td>\n      <td>0</td>\n    </tr>\n    <tr>\n      <td>12</td>\n      <td>0</td>\n      <td>13</td>\n      <td>9</td>\n      <td>1</td>\n      <td>3</td>\n      <td>0</td>\n      <td>1585311082970</td>\n      <td>1</td>\n      <td>0</td>\n      <td>0</td>\n      <td>10</td>\n    </tr>\n    <tr>\n      <td>13</td>\n      <td>0</td>\n      <td>14</td>\n      <td>11</td>\n      <td>1</td>\n      <td>3</td>\n      <td>0</td>\n      <td>1585311082970</td>\n      <td>1</td>\n      <td>0</td>\n      <td>0</td>\n      <td>0</td>\n    </tr>\n    <tr>\n      <td>14</td>\n      <td>5</td>\n      <td>15</td>\n      <td>12</td>\n      <td>1</td>\n      <td>3</td>\n      <td>0</td>\n      <td>1585311082970</td>\n      <td>1</td>\n      <td>0</td>\n      <td>0</td>\n      <td>0</td>\n    </tr>\n    <tr>\n      <td>15</td>\n      <td>0</td>\n      <td>16</td>\n      <td>4</td>\n      <td>1</td>\n      <td>3</td>\n      <td>0</td>\n      <td>1585311082970</td>\n      <td>1</td>\n      <td>0</td>\n      <td>0</td>\n      <td>0</td>\n    </tr>\n  </tbody>\n</table>\n</div>"
     },
     "metadata": {}
    }
   ],
   "source": [
    "# load all data\n",
    "\n",
    "data = DataProvider('error1_data.json')\n",
    "\n",
    "'''\n",
    "analyze call tree bug: 74 vs. (66, 67, 68)\n",
    "'''\n",
    "\n",
    "staticContexts = data.collections.staticContexts\n",
    "staticTraces = data.collections.staticTraces\n",
    "contexts = data.collections.contexts\n",
    "traces = data.collections.traces\n",
    "\n",
    "# print('staticContexts')\n",
    "# display(staticContexts.drop('loc', axis=1))\n",
    "\n",
    "# print('contexts')\n",
    "# display(contexts)\n",
    "\n",
    "\n",
    "print('traces (by context)')\n",
    "groups = traces.groupby('contextId')\n",
    "for key, item in groups:\n",
    "  group = groups.get_group(key)\n",
    "  displayNames = staticTraces[['staticTraceId','displayName']]\n",
    "#   group = pd.merge(group, displayName, on=['staticTraceId'])\n",
    "  group = group.merge(displayNames, left_on='staticTraceId', right_on='staticTraceId')\n",
    "  display(group)\n",
    "\n",
    "# df = staticTraces.drop('loc', axis=1) #.query(f'callId != 0 or resultCallId != 0 or type == 5')\n",
    "# # df\n",
    "# df.iloc[50:]\n",
    "# df = data.collections.traces.query(f'callId != 0 or resultCallId != 0')\n",
    "# df"
   ]
  },
  {
   "cell_type": "code",
   "execution_count": null,
   "metadata": {},
   "outputs": [],
   "source": []
  }
 ]
}