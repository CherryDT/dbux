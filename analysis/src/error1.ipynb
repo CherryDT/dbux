{
 "nbformat": 4,
 "nbformat_minor": 2,
 "metadata": {
  "language_info": {
   "name": "python",
   "codemirror_mode": {
    "name": "ipython",
    "version": 3
   },
   "version": "3.7.6-final"
  },
  "orig_nbformat": 2,
  "file_extension": ".py",
  "mimetype": "text/x-python",
  "name": "python",
  "npconvert_exporter": "python",
  "pygments_lexer": "ipython3",
  "version": 3,
  "kernelspec": {
   "name": "python3",
   "display_name": "Python 3"
  }
 },
 "cells": [
  {
   "cell_type": "code",
   "execution_count": 1,
   "metadata": {},
   "outputs": [],
   "source": [
    "############################################################################################\n",
    "# Init\n",
    "############################################################################################\n",
    "\n",
    "import __init__\n",
    "\n",
    "# enable autoreload (see https://ipython.readthedocs.io/en/stable/config/extensions/autoreload.html)\n",
    "%load_ext autoreload\n",
    "%autoreload 2\n",
    "\n",
    "import pandas as pd \n",
    "import numpy as np\n",
    "import seaborn as sns #visualisation\n",
    "import matplotlib.pyplot as plt #visualisation\n",
    "from util.loadUtil import loadDbuxFile, collectionDf\n",
    "from data.DataProvider import DataProvider\n",
    "\n",
    "%matplotlib inline \n",
    "sns.set(color_codes=True)"
   ]
  },
  {
   "cell_type": "code",
   "execution_count": 16,
   "metadata": {
    "tags": [
     "outputPrepend"
    ]
   },
   "outputs": [
    {
     "output_type": "stream",
     "name": "stdout",
     "text": "traces (by context)\n"
    },
    {
     "output_type": "display_data",
     "data": {
      "text/plain": "   valueId  traceId  staticTraceId  runId  contextId  type      createdAt  \\\n0        0        1              1      1          1     0  1585330056517   \n1        0        2             25      1          1     0  1585330056517   \n2        0       18              2      1          1     0  1585330056556   \n\n   applicationId  resultId  callId  resultCallId displayName  \n0              5         0       0             0           0  \n1              5         0       0             0      main()  \n2              5         0       0             0           0  ",
      "text/html": "<div>\n<style scoped>\n    .dataframe tbody tr th:only-of-type {\n        vertical-align: middle;\n    }\n\n    .dataframe tbody tr th {\n        vertical-align: top;\n    }\n\n    .dataframe thead th {\n        text-align: right;\n    }\n</style>\n<table border=\"1\" class=\"dataframe\">\n  <thead>\n    <tr style=\"text-align: right;\">\n      <th></th>\n      <th>valueId</th>\n      <th>traceId</th>\n      <th>staticTraceId</th>\n      <th>runId</th>\n      <th>contextId</th>\n      <th>type</th>\n      <th>createdAt</th>\n      <th>applicationId</th>\n      <th>resultId</th>\n      <th>callId</th>\n      <th>resultCallId</th>\n      <th>displayName</th>\n    </tr>\n  </thead>\n  <tbody>\n    <tr>\n      <td>0</td>\n      <td>0</td>\n      <td>1</td>\n      <td>1</td>\n      <td>1</td>\n      <td>1</td>\n      <td>0</td>\n      <td>1585330056517</td>\n      <td>5</td>\n      <td>0</td>\n      <td>0</td>\n      <td>0</td>\n      <td>0</td>\n    </tr>\n    <tr>\n      <td>1</td>\n      <td>0</td>\n      <td>2</td>\n      <td>25</td>\n      <td>1</td>\n      <td>1</td>\n      <td>0</td>\n      <td>1585330056517</td>\n      <td>5</td>\n      <td>0</td>\n      <td>0</td>\n      <td>0</td>\n      <td>main()</td>\n    </tr>\n    <tr>\n      <td>2</td>\n      <td>0</td>\n      <td>18</td>\n      <td>2</td>\n      <td>1</td>\n      <td>1</td>\n      <td>0</td>\n      <td>1585330056556</td>\n      <td>5</td>\n      <td>0</td>\n      <td>0</td>\n      <td>0</td>\n      <td>0</td>\n    </tr>\n  </tbody>\n</table>\n</div>"
     },
     "metadata": {}
    },
    {
     "output_type": "display_data",
     "data": {
      "text/plain": "   valueId  traceId  staticTraceId  runId  contextId  type      createdAt  \\\n0        0        3              5      1          2     0  1585330056517   \n1        0        4             15      1          2     0  1585330056517   \n2        1        5             16      1          2     0  1585330056517   \n3        2        6             18      1          2     0  1585330056517   \n4        0        7             17      1          2     0  1585330056519   \n5        0        8             19      1          2     0  1585330056519   \n\n   applicationId  resultId  callId  resultCallId           displayName  \n0              5         0       0             0                     0  \n1              5         7       0             0  console.log('main1')  \n2              5         0       0             0               console  \n3              5         0       4             0               'main1'  \n4              5         0       0             4  console.log('main1')  \n5              5         0       0             0                   f()  ",
      "text/html": "<div>\n<style scoped>\n    .dataframe tbody tr th:only-of-type {\n        vertical-align: middle;\n    }\n\n    .dataframe tbody tr th {\n        vertical-align: top;\n    }\n\n    .dataframe thead th {\n        text-align: right;\n    }\n</style>\n<table border=\"1\" class=\"dataframe\">\n  <thead>\n    <tr style=\"text-align: right;\">\n      <th></th>\n      <th>valueId</th>\n      <th>traceId</th>\n      <th>staticTraceId</th>\n      <th>runId</th>\n      <th>contextId</th>\n      <th>type</th>\n      <th>createdAt</th>\n      <th>applicationId</th>\n      <th>resultId</th>\n      <th>callId</th>\n      <th>resultCallId</th>\n      <th>displayName</th>\n    </tr>\n  </thead>\n  <tbody>\n    <tr>\n      <td>0</td>\n      <td>0</td>\n      <td>3</td>\n      <td>5</td>\n      <td>1</td>\n      <td>2</td>\n      <td>0</td>\n      <td>1585330056517</td>\n      <td>5</td>\n      <td>0</td>\n      <td>0</td>\n      <td>0</td>\n      <td>0</td>\n    </tr>\n    <tr>\n      <td>1</td>\n      <td>0</td>\n      <td>4</td>\n      <td>15</td>\n      <td>1</td>\n      <td>2</td>\n      <td>0</td>\n      <td>1585330056517</td>\n      <td>5</td>\n      <td>7</td>\n      <td>0</td>\n      <td>0</td>\n      <td>console.log('main1')</td>\n    </tr>\n    <tr>\n      <td>2</td>\n      <td>1</td>\n      <td>5</td>\n      <td>16</td>\n      <td>1</td>\n      <td>2</td>\n      <td>0</td>\n      <td>1585330056517</td>\n      <td>5</td>\n      <td>0</td>\n      <td>0</td>\n      <td>0</td>\n      <td>console</td>\n    </tr>\n    <tr>\n      <td>3</td>\n      <td>2</td>\n      <td>6</td>\n      <td>18</td>\n      <td>1</td>\n      <td>2</td>\n      <td>0</td>\n      <td>1585330056517</td>\n      <td>5</td>\n      <td>0</td>\n      <td>4</td>\n      <td>0</td>\n      <td>'main1'</td>\n    </tr>\n    <tr>\n      <td>4</td>\n      <td>0</td>\n      <td>7</td>\n      <td>17</td>\n      <td>1</td>\n      <td>2</td>\n      <td>0</td>\n      <td>1585330056519</td>\n      <td>5</td>\n      <td>0</td>\n      <td>0</td>\n      <td>4</td>\n      <td>console.log('main1')</td>\n    </tr>\n    <tr>\n      <td>5</td>\n      <td>0</td>\n      <td>8</td>\n      <td>19</td>\n      <td>1</td>\n      <td>2</td>\n      <td>0</td>\n      <td>1585330056519</td>\n      <td>5</td>\n      <td>0</td>\n      <td>0</td>\n      <td>0</td>\n      <td>f()</td>\n    </tr>\n  </tbody>\n</table>\n</div>"
     },
     "metadata": {}
    },
    {
     "output_type": "display_data",
     "data": {
      "text/plain": "   valueId  traceId  staticTraceId  runId  contextId  type      createdAt  \\\n0        0        9              3      1          3     0  1585330056519   \n1        0       10              7      1          3     0  1585330056519   \n2        3       11              8      1          3     0  1585330056519   \n3        4       12             10      1          3     0  1585330056519   \n4        0       13              9      1          3     0  1585330056539   \n5        0       14             11      1          3     0  1585330056539   \n6        5       15             12      1          3     0  1585330056539   \n7        6       16             14      1          3     0  1585330056539   \n8        0       17             13      1          3     0  1585330056555   \n\n   applicationId  resultId  callId  resultCallId        displayName  \n0              5         0       0             0                  0  \n1              5        13       0             0  console.log('f1')  \n2              5         0       0             0            console  \n3              5         0      10             0               'f1'  \n4              5         0       0            10  console.log('f1')  \n5              5        17       0             0  console.log('f2')  \n6              5         0       0             0            console  \n7              5         0      14             0               'f2'  \n8              5         0       0            14  console.log('f2')  ",
      "text/html": "<div>\n<style scoped>\n    .dataframe tbody tr th:only-of-type {\n        vertical-align: middle;\n    }\n\n    .dataframe tbody tr th {\n        vertical-align: top;\n    }\n\n    .dataframe thead th {\n        text-align: right;\n    }\n</style>\n<table border=\"1\" class=\"dataframe\">\n  <thead>\n    <tr style=\"text-align: right;\">\n      <th></th>\n      <th>valueId</th>\n      <th>traceId</th>\n      <th>staticTraceId</th>\n      <th>runId</th>\n      <th>contextId</th>\n      <th>type</th>\n      <th>createdAt</th>\n      <th>applicationId</th>\n      <th>resultId</th>\n      <th>callId</th>\n      <th>resultCallId</th>\n      <th>displayName</th>\n    </tr>\n  </thead>\n  <tbody>\n    <tr>\n      <td>0</td>\n      <td>0</td>\n      <td>9</td>\n      <td>3</td>\n      <td>1</td>\n      <td>3</td>\n      <td>0</td>\n      <td>1585330056519</td>\n      <td>5</td>\n      <td>0</td>\n      <td>0</td>\n      <td>0</td>\n      <td>0</td>\n    </tr>\n    <tr>\n      <td>1</td>\n      <td>0</td>\n      <td>10</td>\n      <td>7</td>\n      <td>1</td>\n      <td>3</td>\n      <td>0</td>\n      <td>1585330056519</td>\n      <td>5</td>\n      <td>13</td>\n      <td>0</td>\n      <td>0</td>\n      <td>console.log('f1')</td>\n    </tr>\n    <tr>\n      <td>2</td>\n      <td>3</td>\n      <td>11</td>\n      <td>8</td>\n      <td>1</td>\n      <td>3</td>\n      <td>0</td>\n      <td>1585330056519</td>\n      <td>5</td>\n      <td>0</td>\n      <td>0</td>\n      <td>0</td>\n      <td>console</td>\n    </tr>\n    <tr>\n      <td>3</td>\n      <td>4</td>\n      <td>12</td>\n      <td>10</td>\n      <td>1</td>\n      <td>3</td>\n      <td>0</td>\n      <td>1585330056519</td>\n      <td>5</td>\n      <td>0</td>\n      <td>10</td>\n      <td>0</td>\n      <td>'f1'</td>\n    </tr>\n    <tr>\n      <td>4</td>\n      <td>0</td>\n      <td>13</td>\n      <td>9</td>\n      <td>1</td>\n      <td>3</td>\n      <td>0</td>\n      <td>1585330056539</td>\n      <td>5</td>\n      <td>0</td>\n      <td>0</td>\n      <td>10</td>\n      <td>console.log('f1')</td>\n    </tr>\n    <tr>\n      <td>5</td>\n      <td>0</td>\n      <td>14</td>\n      <td>11</td>\n      <td>1</td>\n      <td>3</td>\n      <td>0</td>\n      <td>1585330056539</td>\n      <td>5</td>\n      <td>17</td>\n      <td>0</td>\n      <td>0</td>\n      <td>console.log('f2')</td>\n    </tr>\n    <tr>\n      <td>6</td>\n      <td>5</td>\n      <td>15</td>\n      <td>12</td>\n      <td>1</td>\n      <td>3</td>\n      <td>0</td>\n      <td>1585330056539</td>\n      <td>5</td>\n      <td>0</td>\n      <td>0</td>\n      <td>0</td>\n      <td>console</td>\n    </tr>\n    <tr>\n      <td>7</td>\n      <td>6</td>\n      <td>16</td>\n      <td>14</td>\n      <td>1</td>\n      <td>3</td>\n      <td>0</td>\n      <td>1585330056539</td>\n      <td>5</td>\n      <td>0</td>\n      <td>14</td>\n      <td>0</td>\n      <td>'f2'</td>\n    </tr>\n    <tr>\n      <td>8</td>\n      <td>0</td>\n      <td>17</td>\n      <td>13</td>\n      <td>1</td>\n      <td>3</td>\n      <td>0</td>\n      <td>1585330056555</td>\n      <td>5</td>\n      <td>0</td>\n      <td>0</td>\n      <td>14</td>\n      <td>console.log('f2')</td>\n    </tr>\n  </tbody>\n</table>\n</div>"
     },
     "metadata": {}
    },
    {
     "output_type": "stream",
     "name": "stdout",
     "text": "static traces (by staticContext)\n"
    },
    {
     "output_type": "display_data",
     "data": {
      "text/plain": "    type  staticContextId  staticTraceId displayName  resultCallId  callId\n0      2                1              1           0             0       0\n1      3                1              2           0             0       0\n24     5                1             25      main()             0       0\n25     7                1             26      main()            25       0",
      "text/html": "<div>\n<style scoped>\n    .dataframe tbody tr th:only-of-type {\n        vertical-align: middle;\n    }\n\n    .dataframe tbody tr th {\n        vertical-align: top;\n    }\n\n    .dataframe thead th {\n        text-align: right;\n    }\n</style>\n<table border=\"1\" class=\"dataframe\">\n  <thead>\n    <tr style=\"text-align: right;\">\n      <th></th>\n      <th>type</th>\n      <th>staticContextId</th>\n      <th>staticTraceId</th>\n      <th>displayName</th>\n      <th>resultCallId</th>\n      <th>callId</th>\n    </tr>\n  </thead>\n  <tbody>\n    <tr>\n      <td>0</td>\n      <td>2</td>\n      <td>1</td>\n      <td>1</td>\n      <td>0</td>\n      <td>0</td>\n      <td>0</td>\n    </tr>\n    <tr>\n      <td>1</td>\n      <td>3</td>\n      <td>1</td>\n      <td>2</td>\n      <td>0</td>\n      <td>0</td>\n      <td>0</td>\n    </tr>\n    <tr>\n      <td>24</td>\n      <td>5</td>\n      <td>1</td>\n      <td>25</td>\n      <td>main()</td>\n      <td>0</td>\n      <td>0</td>\n    </tr>\n    <tr>\n      <td>25</td>\n      <td>7</td>\n      <td>1</td>\n      <td>26</td>\n      <td>main()</td>\n      <td>25</td>\n      <td>0</td>\n    </tr>\n  </tbody>\n</table>\n</div>"
     },
     "metadata": {}
    },
    {
     "output_type": "display_data",
     "data": {
      "text/plain": "    type  staticContextId  staticTraceId        displayName  resultCallId  \\\n2      2                2              3                  0             0   \n3      3                2              4                  0             0   \n6      5                2              7  console.log('f1')             0   \n7      9                2              8            console             0   \n8      7                2              9  console.log('f1')             7   \n9     10                2             10               'f1'             0   \n10     5                2             11  console.log('f2')             0   \n11     9                2             12            console             0   \n12     7                2             13  console.log('f2')            11   \n13    10                2             14               'f2'             0   \n\n    callId  \n2        0  \n3        0  \n6        0  \n7        0  \n8        0  \n9        7  \n10       0  \n11       0  \n12       0  \n13      11  ",
      "text/html": "<div>\n<style scoped>\n    .dataframe tbody tr th:only-of-type {\n        vertical-align: middle;\n    }\n\n    .dataframe tbody tr th {\n        vertical-align: top;\n    }\n\n    .dataframe thead th {\n        text-align: right;\n    }\n</style>\n<table border=\"1\" class=\"dataframe\">\n  <thead>\n    <tr style=\"text-align: right;\">\n      <th></th>\n      <th>type</th>\n      <th>staticContextId</th>\n      <th>staticTraceId</th>\n      <th>displayName</th>\n      <th>resultCallId</th>\n      <th>callId</th>\n    </tr>\n  </thead>\n  <tbody>\n    <tr>\n      <td>2</td>\n      <td>2</td>\n      <td>2</td>\n      <td>3</td>\n      <td>0</td>\n      <td>0</td>\n      <td>0</td>\n    </tr>\n    <tr>\n      <td>3</td>\n      <td>3</td>\n      <td>2</td>\n      <td>4</td>\n      <td>0</td>\n      <td>0</td>\n      <td>0</td>\n    </tr>\n    <tr>\n      <td>6</td>\n      <td>5</td>\n      <td>2</td>\n      <td>7</td>\n      <td>console.log('f1')</td>\n      <td>0</td>\n      <td>0</td>\n    </tr>\n    <tr>\n      <td>7</td>\n      <td>9</td>\n      <td>2</td>\n      <td>8</td>\n      <td>console</td>\n      <td>0</td>\n      <td>0</td>\n    </tr>\n    <tr>\n      <td>8</td>\n      <td>7</td>\n      <td>2</td>\n      <td>9</td>\n      <td>console.log('f1')</td>\n      <td>7</td>\n      <td>0</td>\n    </tr>\n    <tr>\n      <td>9</td>\n      <td>10</td>\n      <td>2</td>\n      <td>10</td>\n      <td>'f1'</td>\n      <td>0</td>\n      <td>7</td>\n    </tr>\n    <tr>\n      <td>10</td>\n      <td>5</td>\n      <td>2</td>\n      <td>11</td>\n      <td>console.log('f2')</td>\n      <td>0</td>\n      <td>0</td>\n    </tr>\n    <tr>\n      <td>11</td>\n      <td>9</td>\n      <td>2</td>\n      <td>12</td>\n      <td>console</td>\n      <td>0</td>\n      <td>0</td>\n    </tr>\n    <tr>\n      <td>12</td>\n      <td>7</td>\n      <td>2</td>\n      <td>13</td>\n      <td>console.log('f2')</td>\n      <td>11</td>\n      <td>0</td>\n    </tr>\n    <tr>\n      <td>13</td>\n      <td>10</td>\n      <td>2</td>\n      <td>14</td>\n      <td>'f2'</td>\n      <td>0</td>\n      <td>11</td>\n    </tr>\n  </tbody>\n</table>\n</div>"
     },
     "metadata": {}
    },
    {
     "output_type": "display_data",
     "data": {
      "text/plain": "    type  staticContextId  staticTraceId           displayName  resultCallId  \\\n4      2                3              5                     0             0   \n5      3                3              6                     0             0   \n14     5                3             15  console.log('main1')             0   \n15     9                3             16               console             0   \n16     7                3             17  console.log('main1')            15   \n17    10                3             18               'main1'             0   \n18     5                3             19                   f()             0   \n19     7                3             20                   f()            19   \n20     5                3             21  console.log('main2')             0   \n21     9                3             22               console             0   \n22     7                3             23  console.log('main2')            21   \n23    10                3             24               'main2'             0   \n\n    callId  \n4        0  \n5        0  \n14       0  \n15       0  \n16       0  \n17      15  \n18       0  \n19       0  \n20       0  \n21       0  \n22       0  \n23      21  ",
      "text/html": "<div>\n<style scoped>\n    .dataframe tbody tr th:only-of-type {\n        vertical-align: middle;\n    }\n\n    .dataframe tbody tr th {\n        vertical-align: top;\n    }\n\n    .dataframe thead th {\n        text-align: right;\n    }\n</style>\n<table border=\"1\" class=\"dataframe\">\n  <thead>\n    <tr style=\"text-align: right;\">\n      <th></th>\n      <th>type</th>\n      <th>staticContextId</th>\n      <th>staticTraceId</th>\n      <th>displayName</th>\n      <th>resultCallId</th>\n      <th>callId</th>\n    </tr>\n  </thead>\n  <tbody>\n    <tr>\n      <td>4</td>\n      <td>2</td>\n      <td>3</td>\n      <td>5</td>\n      <td>0</td>\n      <td>0</td>\n      <td>0</td>\n    </tr>\n    <tr>\n      <td>5</td>\n      <td>3</td>\n      <td>3</td>\n      <td>6</td>\n      <td>0</td>\n      <td>0</td>\n      <td>0</td>\n    </tr>\n    <tr>\n      <td>14</td>\n      <td>5</td>\n      <td>3</td>\n      <td>15</td>\n      <td>console.log('main1')</td>\n      <td>0</td>\n      <td>0</td>\n    </tr>\n    <tr>\n      <td>15</td>\n      <td>9</td>\n      <td>3</td>\n      <td>16</td>\n      <td>console</td>\n      <td>0</td>\n      <td>0</td>\n    </tr>\n    <tr>\n      <td>16</td>\n      <td>7</td>\n      <td>3</td>\n      <td>17</td>\n      <td>console.log('main1')</td>\n      <td>15</td>\n      <td>0</td>\n    </tr>\n    <tr>\n      <td>17</td>\n      <td>10</td>\n      <td>3</td>\n      <td>18</td>\n      <td>'main1'</td>\n      <td>0</td>\n      <td>15</td>\n    </tr>\n    <tr>\n      <td>18</td>\n      <td>5</td>\n      <td>3</td>\n      <td>19</td>\n      <td>f()</td>\n      <td>0</td>\n      <td>0</td>\n    </tr>\n    <tr>\n      <td>19</td>\n      <td>7</td>\n      <td>3</td>\n      <td>20</td>\n      <td>f()</td>\n      <td>19</td>\n      <td>0</td>\n    </tr>\n    <tr>\n      <td>20</td>\n      <td>5</td>\n      <td>3</td>\n      <td>21</td>\n      <td>console.log('main2')</td>\n      <td>0</td>\n      <td>0</td>\n    </tr>\n    <tr>\n      <td>21</td>\n      <td>9</td>\n      <td>3</td>\n      <td>22</td>\n      <td>console</td>\n      <td>0</td>\n      <td>0</td>\n    </tr>\n    <tr>\n      <td>22</td>\n      <td>7</td>\n      <td>3</td>\n      <td>23</td>\n      <td>console.log('main2')</td>\n      <td>21</td>\n      <td>0</td>\n    </tr>\n    <tr>\n      <td>23</td>\n      <td>10</td>\n      <td>3</td>\n      <td>24</td>\n      <td>'main2'</td>\n      <td>0</td>\n      <td>21</td>\n    </tr>\n  </tbody>\n</table>\n</div>"
     },
     "metadata": {}
    }
   ],
   "source": [
    "# load all data\n",
    "\n",
    "data = DataProvider('error1_data.json')\n",
    "\n",
    "'''\n",
    "analyze call tree bug: 74 vs. (66, 67, 68)\n",
    "'''\n",
    "\n",
    "staticContexts = data.collections.staticContexts\n",
    "staticTraces = data.collections.staticTraces\n",
    "contexts = data.collections.contexts\n",
    "traces = data.collections.traces\n",
    "\n",
    "# print('staticContexts')\n",
    "# display(staticContexts.drop('loc', axis=1))\n",
    "\n",
    "# print('contexts')\n",
    "# display(contexts)\n",
    "\n",
    "\n",
    "print('traces (by context)')\n",
    "groups = traces.groupby('contextId')\n",
    "for key, item in groups:\n",
    "  group = groups.get_group(key)\n",
    "  displayNames = staticTraces[['staticTraceId','displayName']]\n",
    "#   group = pd.merge(group, displayName, on=['staticTraceId'])\n",
    "  group = group.merge(displayNames, left_on='staticTraceId', right_on='staticTraceId')\n",
    "  display(group)\n",
    "\n",
    "\n",
    "print('static traces (by staticContext)')\n",
    "groups = staticTraces.drop('loc', axis=1).groupby('staticContextId')\n",
    "for key, item in groups:\n",
    "  group = groups.get_group(key)\n",
    "  display(group)\n",
    "\n",
    "# df = staticTraces.drop('loc', axis=1) #.query(f'callId != 0 or resultCallId != 0 or type == 5')\n",
    "# # df\n",
    "# df.iloc[50:]\n",
    "# df = data.collections.traces.query(f'callId != 0 or resultCallId != 0')\n",
    "# df"
   ]
  },
  {
   "cell_type": "code",
   "execution_count": null,
   "metadata": {},
   "outputs": [],
   "source": []
  }
 ]
}