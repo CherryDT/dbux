{
 "nbformat": 4,
 "nbformat_minor": 2,
 "metadata": {
  "language_info": {
   "name": "python",
   "codemirror_mode": {
    "name": "ipython",
    "version": 3
   },
   "version": "3.7.6-final"
  },
  "orig_nbformat": 2,
  "file_extension": ".py",
  "mimetype": "text/x-python",
  "name": "python",
  "npconvert_exporter": "python",
  "pygments_lexer": "ipython3",
  "version": 3,
  "kernelspec": {
   "name": "python3",
   "display_name": "Python 3"
  }
 },
 "cells": [
  {
   "cell_type": "code",
   "execution_count": 1,
   "metadata": {},
   "outputs": [],
   "source": [
    "############################################################################################\n",
    "# Init\n",
    "############################################################################################\n",
    "\n",
    "import __init__\n",
    "\n",
    "# enable autoreload (see https://ipython.readthedocs.io/en/stable/config/extensions/autoreload.html)\n",
    "%load_ext autoreload\n",
    "%autoreload 2\n",
    "\n",
    "import pandas as pd \n",
    "import numpy as np\n",
    "import seaborn as sns #visualisation\n",
    "import matplotlib.pyplot as plt #visualisation\n",
    "from util.loadUtil import loadDbuxFile, collectionDf\n",
    "from data.DataProvider import DataProvider\n",
    "\n",
    "%matplotlib inline \n",
    "sns.set(color_codes=True)"
   ]
  },
  {
   "cell_type": "code",
   "execution_count": 14,
   "metadata": {
    "tags": [
     "outputPrepend"
    ]
   },
   "outputs": [
    {
     "output_type": "stream",
     "name": "stdout",
     "text": "traces (by context)\n"
    },
    {
     "output_type": "display_data",
     "data": {
      "text/plain": "   valueId  traceId  staticTraceId  runId  contextId  type      createdAt  \\\n0        0        1              1      1          1     0  1585329698806   \n1        0        2             27      1          1     0  1585329698806   \n2        0       16              2      1          1     0  1585329698829   \n\n   applicationId  resultId  callId  resultCallId displayName  \n0              4         0       0             0           0  \n1              4         0       0             0      main()  \n2              4         0       0             0           0  ",
      "text/html": "<div>\n<style scoped>\n    .dataframe tbody tr th:only-of-type {\n        vertical-align: middle;\n    }\n\n    .dataframe tbody tr th {\n        vertical-align: top;\n    }\n\n    .dataframe thead th {\n        text-align: right;\n    }\n</style>\n<table border=\"1\" class=\"dataframe\">\n  <thead>\n    <tr style=\"text-align: right;\">\n      <th></th>\n      <th>valueId</th>\n      <th>traceId</th>\n      <th>staticTraceId</th>\n      <th>runId</th>\n      <th>contextId</th>\n      <th>type</th>\n      <th>createdAt</th>\n      <th>applicationId</th>\n      <th>resultId</th>\n      <th>callId</th>\n      <th>resultCallId</th>\n      <th>displayName</th>\n    </tr>\n  </thead>\n  <tbody>\n    <tr>\n      <td>0</td>\n      <td>0</td>\n      <td>1</td>\n      <td>1</td>\n      <td>1</td>\n      <td>1</td>\n      <td>0</td>\n      <td>1585329698806</td>\n      <td>4</td>\n      <td>0</td>\n      <td>0</td>\n      <td>0</td>\n      <td>0</td>\n    </tr>\n    <tr>\n      <td>1</td>\n      <td>0</td>\n      <td>2</td>\n      <td>27</td>\n      <td>1</td>\n      <td>1</td>\n      <td>0</td>\n      <td>1585329698806</td>\n      <td>4</td>\n      <td>0</td>\n      <td>0</td>\n      <td>0</td>\n      <td>main()</td>\n    </tr>\n    <tr>\n      <td>2</td>\n      <td>0</td>\n      <td>16</td>\n      <td>2</td>\n      <td>1</td>\n      <td>1</td>\n      <td>0</td>\n      <td>1585329698829</td>\n      <td>4</td>\n      <td>0</td>\n      <td>0</td>\n      <td>0</td>\n      <td>0</td>\n    </tr>\n  </tbody>\n</table>\n</div>"
     },
     "metadata": {}
    },
    {
     "output_type": "display_data",
     "data": {
      "text/plain": "   valueId  traceId  staticTraceId  runId  contextId  type      createdAt  \\\n0        0        3              5      1          2     0  1585329698806   \n1        0        4             17      1          2     0  1585329698806   \n2        1        5             18      1          2     0  1585329698806   \n3        2        6             20      1          2     0  1585329698806   \n4        0        7             19      1          2     0  1585329698827   \n5        0        8             21      1          2     0  1585329698827   \n\n   applicationId  resultId  callId  resultCallId           displayName  \n0              4         0       0             0                     0  \n1              4         7       0             0  console.log('main1')  \n2              4         0       0             0               console  \n3              4         0       4             0               'main1'  \n4              4         0       0             4  console.log('main1')  \n5              4         0       0             0                   f()  ",
      "text/html": "<div>\n<style scoped>\n    .dataframe tbody tr th:only-of-type {\n        vertical-align: middle;\n    }\n\n    .dataframe tbody tr th {\n        vertical-align: top;\n    }\n\n    .dataframe thead th {\n        text-align: right;\n    }\n</style>\n<table border=\"1\" class=\"dataframe\">\n  <thead>\n    <tr style=\"text-align: right;\">\n      <th></th>\n      <th>valueId</th>\n      <th>traceId</th>\n      <th>staticTraceId</th>\n      <th>runId</th>\n      <th>contextId</th>\n      <th>type</th>\n      <th>createdAt</th>\n      <th>applicationId</th>\n      <th>resultId</th>\n      <th>callId</th>\n      <th>resultCallId</th>\n      <th>displayName</th>\n    </tr>\n  </thead>\n  <tbody>\n    <tr>\n      <td>0</td>\n      <td>0</td>\n      <td>3</td>\n      <td>5</td>\n      <td>1</td>\n      <td>2</td>\n      <td>0</td>\n      <td>1585329698806</td>\n      <td>4</td>\n      <td>0</td>\n      <td>0</td>\n      <td>0</td>\n      <td>0</td>\n    </tr>\n    <tr>\n      <td>1</td>\n      <td>0</td>\n      <td>4</td>\n      <td>17</td>\n      <td>1</td>\n      <td>2</td>\n      <td>0</td>\n      <td>1585329698806</td>\n      <td>4</td>\n      <td>7</td>\n      <td>0</td>\n      <td>0</td>\n      <td>console.log('main1')</td>\n    </tr>\n    <tr>\n      <td>2</td>\n      <td>1</td>\n      <td>5</td>\n      <td>18</td>\n      <td>1</td>\n      <td>2</td>\n      <td>0</td>\n      <td>1585329698806</td>\n      <td>4</td>\n      <td>0</td>\n      <td>0</td>\n      <td>0</td>\n      <td>console</td>\n    </tr>\n    <tr>\n      <td>3</td>\n      <td>2</td>\n      <td>6</td>\n      <td>20</td>\n      <td>1</td>\n      <td>2</td>\n      <td>0</td>\n      <td>1585329698806</td>\n      <td>4</td>\n      <td>0</td>\n      <td>4</td>\n      <td>0</td>\n      <td>'main1'</td>\n    </tr>\n    <tr>\n      <td>4</td>\n      <td>0</td>\n      <td>7</td>\n      <td>19</td>\n      <td>1</td>\n      <td>2</td>\n      <td>0</td>\n      <td>1585329698827</td>\n      <td>4</td>\n      <td>0</td>\n      <td>0</td>\n      <td>4</td>\n      <td>console.log('main1')</td>\n    </tr>\n    <tr>\n      <td>5</td>\n      <td>0</td>\n      <td>8</td>\n      <td>21</td>\n      <td>1</td>\n      <td>2</td>\n      <td>0</td>\n      <td>1585329698827</td>\n      <td>4</td>\n      <td>0</td>\n      <td>0</td>\n      <td>0</td>\n      <td>f()</td>\n    </tr>\n  </tbody>\n</table>\n</div>"
     },
     "metadata": {}
    },
    {
     "output_type": "display_data",
     "data": {
      "text/plain": "   valueId  traceId  staticTraceId  runId  contextId  type      createdAt  \\\n0        0        9              3      1          3     0  1585329698827   \n1        0       10              7      1          3     0  1585329698827   \n2        3       11              8      1          3     0  1585329698827   \n3        4       12             10      1          3     0  1585329698827   \n4        0       13              9      1          3     0  1585329698827   \n5        0       14             11      1          3     0  1585329698827   \n6        5       15             12      1          3     0  1585329698827   \n\n   applicationId  resultId  callId  resultCallId                displayName  \n0              4         0       0             0                          0  \n1              4        13       0             0          console.log('f1')  \n2              4         0       0             0                    console  \n3              4         0      10             0                       'f1'  \n4              4         0       0            10          console.log('f1')  \n5              4         0       0             0  throw new Error('ouch!');  \n6              4         0       0             0         new Error('ouch!')  ",
      "text/html": "<div>\n<style scoped>\n    .dataframe tbody tr th:only-of-type {\n        vertical-align: middle;\n    }\n\n    .dataframe tbody tr th {\n        vertical-align: top;\n    }\n\n    .dataframe thead th {\n        text-align: right;\n    }\n</style>\n<table border=\"1\" class=\"dataframe\">\n  <thead>\n    <tr style=\"text-align: right;\">\n      <th></th>\n      <th>valueId</th>\n      <th>traceId</th>\n      <th>staticTraceId</th>\n      <th>runId</th>\n      <th>contextId</th>\n      <th>type</th>\n      <th>createdAt</th>\n      <th>applicationId</th>\n      <th>resultId</th>\n      <th>callId</th>\n      <th>resultCallId</th>\n      <th>displayName</th>\n    </tr>\n  </thead>\n  <tbody>\n    <tr>\n      <td>0</td>\n      <td>0</td>\n      <td>9</td>\n      <td>3</td>\n      <td>1</td>\n      <td>3</td>\n      <td>0</td>\n      <td>1585329698827</td>\n      <td>4</td>\n      <td>0</td>\n      <td>0</td>\n      <td>0</td>\n      <td>0</td>\n    </tr>\n    <tr>\n      <td>1</td>\n      <td>0</td>\n      <td>10</td>\n      <td>7</td>\n      <td>1</td>\n      <td>3</td>\n      <td>0</td>\n      <td>1585329698827</td>\n      <td>4</td>\n      <td>13</td>\n      <td>0</td>\n      <td>0</td>\n      <td>console.log('f1')</td>\n    </tr>\n    <tr>\n      <td>2</td>\n      <td>3</td>\n      <td>11</td>\n      <td>8</td>\n      <td>1</td>\n      <td>3</td>\n      <td>0</td>\n      <td>1585329698827</td>\n      <td>4</td>\n      <td>0</td>\n      <td>0</td>\n      <td>0</td>\n      <td>console</td>\n    </tr>\n    <tr>\n      <td>3</td>\n      <td>4</td>\n      <td>12</td>\n      <td>10</td>\n      <td>1</td>\n      <td>3</td>\n      <td>0</td>\n      <td>1585329698827</td>\n      <td>4</td>\n      <td>0</td>\n      <td>10</td>\n      <td>0</td>\n      <td>'f1'</td>\n    </tr>\n    <tr>\n      <td>4</td>\n      <td>0</td>\n      <td>13</td>\n      <td>9</td>\n      <td>1</td>\n      <td>3</td>\n      <td>0</td>\n      <td>1585329698827</td>\n      <td>4</td>\n      <td>0</td>\n      <td>0</td>\n      <td>10</td>\n      <td>console.log('f1')</td>\n    </tr>\n    <tr>\n      <td>5</td>\n      <td>0</td>\n      <td>14</td>\n      <td>11</td>\n      <td>1</td>\n      <td>3</td>\n      <td>0</td>\n      <td>1585329698827</td>\n      <td>4</td>\n      <td>0</td>\n      <td>0</td>\n      <td>0</td>\n      <td>throw new Error('ouch!');</td>\n    </tr>\n    <tr>\n      <td>6</td>\n      <td>5</td>\n      <td>15</td>\n      <td>12</td>\n      <td>1</td>\n      <td>3</td>\n      <td>0</td>\n      <td>1585329698827</td>\n      <td>4</td>\n      <td>0</td>\n      <td>0</td>\n      <td>0</td>\n      <td>new Error('ouch!')</td>\n    </tr>\n  </tbody>\n</table>\n</div>"
     },
     "metadata": {}
    },
    {
     "output_type": "stream",
     "name": "stdout",
     "text": "static traces (by staticContext)\n"
    },
    {
     "output_type": "display_data",
     "data": {
      "text/plain": "                                                  loc  type  staticContextId  \\\n0   {'start': {'line': 1, 'column': 0, '_pos': {'l...     2                1   \n1   {'start': {'line': 13, 'column': 7, '_pos': {'...     3                1   \n26  {'start': {'line': 13, 'column': 0, '_pos': {'...     5                1   \n27  {'start': {'line': 13, 'column': 0}, 'end': {'...     7                1   \n\n    staticTraceId displayName  resultCallId  callId  \n0               1           0             0       0  \n1               2           0             0       0  \n26             27      main()             0       0  \n27             28      main()            27       0  ",
      "text/html": "<div>\n<style scoped>\n    .dataframe tbody tr th:only-of-type {\n        vertical-align: middle;\n    }\n\n    .dataframe tbody tr th {\n        vertical-align: top;\n    }\n\n    .dataframe thead th {\n        text-align: right;\n    }\n</style>\n<table border=\"1\" class=\"dataframe\">\n  <thead>\n    <tr style=\"text-align: right;\">\n      <th></th>\n      <th>loc</th>\n      <th>type</th>\n      <th>staticContextId</th>\n      <th>staticTraceId</th>\n      <th>displayName</th>\n      <th>resultCallId</th>\n      <th>callId</th>\n    </tr>\n  </thead>\n  <tbody>\n    <tr>\n      <td>0</td>\n      <td>{'start': {'line': 1, 'column': 0, '_pos': {'l...</td>\n      <td>2</td>\n      <td>1</td>\n      <td>1</td>\n      <td>0</td>\n      <td>0</td>\n      <td>0</td>\n    </tr>\n    <tr>\n      <td>1</td>\n      <td>{'start': {'line': 13, 'column': 7, '_pos': {'...</td>\n      <td>3</td>\n      <td>1</td>\n      <td>2</td>\n      <td>0</td>\n      <td>0</td>\n      <td>0</td>\n    </tr>\n    <tr>\n      <td>26</td>\n      <td>{'start': {'line': 13, 'column': 0, '_pos': {'...</td>\n      <td>5</td>\n      <td>1</td>\n      <td>27</td>\n      <td>main()</td>\n      <td>0</td>\n      <td>0</td>\n    </tr>\n    <tr>\n      <td>27</td>\n      <td>{'start': {'line': 13, 'column': 0}, 'end': {'...</td>\n      <td>7</td>\n      <td>1</td>\n      <td>28</td>\n      <td>main()</td>\n      <td>27</td>\n      <td>0</td>\n    </tr>\n  </tbody>\n</table>\n</div>"
     },
     "metadata": {}
    },
    {
     "output_type": "display_data",
     "data": {
      "text/plain": "                                                  loc  type  staticContextId  \\\n2   {'start': {'line': 1, 'column': 13, '_pos': {'...     2                2   \n3   {'start': {'line': 5, 'column': 0}, 'end': {'l...     3                2   \n6   {'start': {'line': 2, 'column': 2, '_pos': {'l...     5                2   \n7   {'start': {'line': 2, 'column': 2, '_pos': {'l...     9                2   \n8   {'start': {'line': 2, 'column': 2, '_pos': {'l...     7                2   \n9   {'start': {'line': 2, 'column': 14, '_pos': {'...    10                2   \n10  {'start': {'line': 3, 'column': 2, '_pos': {'l...    16                2   \n11  {'start': {'line': 3, 'column': 8, '_pos': {'l...     8                2   \n12  {'start': {'line': 4, 'column': 2}, 'end': {'l...     5                2   \n13  {'start': {'line': 4, 'column': 2}, 'end': {'l...     9                2   \n14  {'start': {'line': 4, 'column': 2}, 'end': {'l...     7                2   \n15  {'start': {'line': 4, 'column': 14}, 'end': {'...    10                2   \n\n    staticTraceId                displayName  resultCallId  callId  \n2               3                          0             0       0  \n3               4                          0             0       0  \n6               7          console.log('f1')             0       0  \n7               8                    console             0       0  \n8               9          console.log('f1')             7       0  \n9              10                       'f1'             0       7  \n10             11  throw new Error('ouch!');             0       0  \n11             12         new Error('ouch!')             0       0  \n12             13          console.log('f2')             0       0  \n13             14                    console             0       0  \n14             15          console.log('f2')            13       0  \n15             16                       'f2'             0      13  ",
      "text/html": "<div>\n<style scoped>\n    .dataframe tbody tr th:only-of-type {\n        vertical-align: middle;\n    }\n\n    .dataframe tbody tr th {\n        vertical-align: top;\n    }\n\n    .dataframe thead th {\n        text-align: right;\n    }\n</style>\n<table border=\"1\" class=\"dataframe\">\n  <thead>\n    <tr style=\"text-align: right;\">\n      <th></th>\n      <th>loc</th>\n      <th>type</th>\n      <th>staticContextId</th>\n      <th>staticTraceId</th>\n      <th>displayName</th>\n      <th>resultCallId</th>\n      <th>callId</th>\n    </tr>\n  </thead>\n  <tbody>\n    <tr>\n      <td>2</td>\n      <td>{'start': {'line': 1, 'column': 13, '_pos': {'...</td>\n      <td>2</td>\n      <td>2</td>\n      <td>3</td>\n      <td>0</td>\n      <td>0</td>\n      <td>0</td>\n    </tr>\n    <tr>\n      <td>3</td>\n      <td>{'start': {'line': 5, 'column': 0}, 'end': {'l...</td>\n      <td>3</td>\n      <td>2</td>\n      <td>4</td>\n      <td>0</td>\n      <td>0</td>\n      <td>0</td>\n    </tr>\n    <tr>\n      <td>6</td>\n      <td>{'start': {'line': 2, 'column': 2, '_pos': {'l...</td>\n      <td>5</td>\n      <td>2</td>\n      <td>7</td>\n      <td>console.log('f1')</td>\n      <td>0</td>\n      <td>0</td>\n    </tr>\n    <tr>\n      <td>7</td>\n      <td>{'start': {'line': 2, 'column': 2, '_pos': {'l...</td>\n      <td>9</td>\n      <td>2</td>\n      <td>8</td>\n      <td>console</td>\n      <td>0</td>\n      <td>0</td>\n    </tr>\n    <tr>\n      <td>8</td>\n      <td>{'start': {'line': 2, 'column': 2, '_pos': {'l...</td>\n      <td>7</td>\n      <td>2</td>\n      <td>9</td>\n      <td>console.log('f1')</td>\n      <td>7</td>\n      <td>0</td>\n    </tr>\n    <tr>\n      <td>9</td>\n      <td>{'start': {'line': 2, 'column': 14, '_pos': {'...</td>\n      <td>10</td>\n      <td>2</td>\n      <td>10</td>\n      <td>'f1'</td>\n      <td>0</td>\n      <td>7</td>\n    </tr>\n    <tr>\n      <td>10</td>\n      <td>{'start': {'line': 3, 'column': 2, '_pos': {'l...</td>\n      <td>16</td>\n      <td>2</td>\n      <td>11</td>\n      <td>throw new Error('ouch!');</td>\n      <td>0</td>\n      <td>0</td>\n    </tr>\n    <tr>\n      <td>11</td>\n      <td>{'start': {'line': 3, 'column': 8, '_pos': {'l...</td>\n      <td>8</td>\n      <td>2</td>\n      <td>12</td>\n      <td>new Error('ouch!')</td>\n      <td>0</td>\n      <td>0</td>\n    </tr>\n    <tr>\n      <td>12</td>\n      <td>{'start': {'line': 4, 'column': 2}, 'end': {'l...</td>\n      <td>5</td>\n      <td>2</td>\n      <td>13</td>\n      <td>console.log('f2')</td>\n      <td>0</td>\n      <td>0</td>\n    </tr>\n    <tr>\n      <td>13</td>\n      <td>{'start': {'line': 4, 'column': 2}, 'end': {'l...</td>\n      <td>9</td>\n      <td>2</td>\n      <td>14</td>\n      <td>console</td>\n      <td>0</td>\n      <td>0</td>\n    </tr>\n    <tr>\n      <td>14</td>\n      <td>{'start': {'line': 4, 'column': 2}, 'end': {'l...</td>\n      <td>7</td>\n      <td>2</td>\n      <td>15</td>\n      <td>console.log('f2')</td>\n      <td>13</td>\n      <td>0</td>\n    </tr>\n    <tr>\n      <td>15</td>\n      <td>{'start': {'line': 4, 'column': 14}, 'end': {'...</td>\n      <td>10</td>\n      <td>2</td>\n      <td>16</td>\n      <td>'f2'</td>\n      <td>0</td>\n      <td>13</td>\n    </tr>\n  </tbody>\n</table>\n</div>"
     },
     "metadata": {}
    },
    {
     "output_type": "display_data",
     "data": {
      "text/plain": "                                                  loc  type  staticContextId  \\\n4   {'start': {'line': 7, 'column': 16, '_pos': {'...     2                3   \n5   {'start': {'line': 11, 'column': 0}, 'end': {'...     3                3   \n16  {'start': {'line': 8, 'column': 2, '_pos': {'l...     5                3   \n17  {'start': {'line': 8, 'column': 2, '_pos': {'l...     9                3   \n18  {'start': {'line': 8, 'column': 2, '_pos': {'l...     7                3   \n19  {'start': {'line': 8, 'column': 14, '_pos': {'...    10                3   \n20  {'start': {'line': 9, 'column': 2, '_pos': {'l...     5                3   \n21  {'start': {'line': 9, 'column': 2}, 'end': {'l...     7                3   \n22  {'start': {'line': 10, 'column': 2}, 'end': {'...     5                3   \n23  {'start': {'line': 10, 'column': 2}, 'end': {'...     9                3   \n24  {'start': {'line': 10, 'column': 2}, 'end': {'...     7                3   \n25  {'start': {'line': 10, 'column': 14}, 'end': {...    10                3   \n\n    staticTraceId           displayName  resultCallId  callId  \n4               5                     0             0       0  \n5               6                     0             0       0  \n16             17  console.log('main1')             0       0  \n17             18               console             0       0  \n18             19  console.log('main1')            17       0  \n19             20               'main1'             0      17  \n20             21                   f()             0       0  \n21             22                   f()            21       0  \n22             23  console.log('main2')             0       0  \n23             24               console             0       0  \n24             25  console.log('main2')            23       0  \n25             26               'main2'             0      23  ",
      "text/html": "<div>\n<style scoped>\n    .dataframe tbody tr th:only-of-type {\n        vertical-align: middle;\n    }\n\n    .dataframe tbody tr th {\n        vertical-align: top;\n    }\n\n    .dataframe thead th {\n        text-align: right;\n    }\n</style>\n<table border=\"1\" class=\"dataframe\">\n  <thead>\n    <tr style=\"text-align: right;\">\n      <th></th>\n      <th>loc</th>\n      <th>type</th>\n      <th>staticContextId</th>\n      <th>staticTraceId</th>\n      <th>displayName</th>\n      <th>resultCallId</th>\n      <th>callId</th>\n    </tr>\n  </thead>\n  <tbody>\n    <tr>\n      <td>4</td>\n      <td>{'start': {'line': 7, 'column': 16, '_pos': {'...</td>\n      <td>2</td>\n      <td>3</td>\n      <td>5</td>\n      <td>0</td>\n      <td>0</td>\n      <td>0</td>\n    </tr>\n    <tr>\n      <td>5</td>\n      <td>{'start': {'line': 11, 'column': 0}, 'end': {'...</td>\n      <td>3</td>\n      <td>3</td>\n      <td>6</td>\n      <td>0</td>\n      <td>0</td>\n      <td>0</td>\n    </tr>\n    <tr>\n      <td>16</td>\n      <td>{'start': {'line': 8, 'column': 2, '_pos': {'l...</td>\n      <td>5</td>\n      <td>3</td>\n      <td>17</td>\n      <td>console.log('main1')</td>\n      <td>0</td>\n      <td>0</td>\n    </tr>\n    <tr>\n      <td>17</td>\n      <td>{'start': {'line': 8, 'column': 2, '_pos': {'l...</td>\n      <td>9</td>\n      <td>3</td>\n      <td>18</td>\n      <td>console</td>\n      <td>0</td>\n      <td>0</td>\n    </tr>\n    <tr>\n      <td>18</td>\n      <td>{'start': {'line': 8, 'column': 2, '_pos': {'l...</td>\n      <td>7</td>\n      <td>3</td>\n      <td>19</td>\n      <td>console.log('main1')</td>\n      <td>17</td>\n      <td>0</td>\n    </tr>\n    <tr>\n      <td>19</td>\n      <td>{'start': {'line': 8, 'column': 14, '_pos': {'...</td>\n      <td>10</td>\n      <td>3</td>\n      <td>20</td>\n      <td>'main1'</td>\n      <td>0</td>\n      <td>17</td>\n    </tr>\n    <tr>\n      <td>20</td>\n      <td>{'start': {'line': 9, 'column': 2, '_pos': {'l...</td>\n      <td>5</td>\n      <td>3</td>\n      <td>21</td>\n      <td>f()</td>\n      <td>0</td>\n      <td>0</td>\n    </tr>\n    <tr>\n      <td>21</td>\n      <td>{'start': {'line': 9, 'column': 2}, 'end': {'l...</td>\n      <td>7</td>\n      <td>3</td>\n      <td>22</td>\n      <td>f()</td>\n      <td>21</td>\n      <td>0</td>\n    </tr>\n    <tr>\n      <td>22</td>\n      <td>{'start': {'line': 10, 'column': 2}, 'end': {'...</td>\n      <td>5</td>\n      <td>3</td>\n      <td>23</td>\n      <td>console.log('main2')</td>\n      <td>0</td>\n      <td>0</td>\n    </tr>\n    <tr>\n      <td>23</td>\n      <td>{'start': {'line': 10, 'column': 2}, 'end': {'...</td>\n      <td>9</td>\n      <td>3</td>\n      <td>24</td>\n      <td>console</td>\n      <td>0</td>\n      <td>0</td>\n    </tr>\n    <tr>\n      <td>24</td>\n      <td>{'start': {'line': 10, 'column': 2}, 'end': {'...</td>\n      <td>7</td>\n      <td>3</td>\n      <td>25</td>\n      <td>console.log('main2')</td>\n      <td>23</td>\n      <td>0</td>\n    </tr>\n    <tr>\n      <td>25</td>\n      <td>{'start': {'line': 10, 'column': 14}, 'end': {...</td>\n      <td>10</td>\n      <td>3</td>\n      <td>26</td>\n      <td>'main2'</td>\n      <td>0</td>\n      <td>23</td>\n    </tr>\n  </tbody>\n</table>\n</div>"
     },
     "metadata": {}
    }
   ],
   "source": [
    "# load all data\n",
    "\n",
    "data = DataProvider('error1_data.json')\n",
    "\n",
    "'''\n",
    "analyze call tree bug: 74 vs. (66, 67, 68)\n",
    "'''\n",
    "\n",
    "staticContexts = data.collections.staticContexts\n",
    "staticTraces = data.collections.staticTraces\n",
    "contexts = data.collections.contexts\n",
    "traces = data.collections.traces\n",
    "\n",
    "# print('staticContexts')\n",
    "# display(staticContexts.drop('loc', axis=1))\n",
    "\n",
    "# print('contexts')\n",
    "# display(contexts)\n",
    "\n",
    "\n",
    "print('traces (by context)')\n",
    "groups = traces.groupby('contextId')\n",
    "for key, item in groups:\n",
    "  group = groups.get_group(key)\n",
    "  displayNames = staticTraces[['staticTraceId','displayName']]\n",
    "#   group = pd.merge(group, displayName, on=['staticTraceId'])\n",
    "  group = group.merge(displayNames, left_on='staticTraceId', right_on='staticTraceId')\n",
    "  display(group)\n",
    "\n",
    "\n",
    "print('static traces (by staticContext)')\n",
    "groups = staticTraces.drop('loc', axis=1).groupby('staticContextId')\n",
    "for key, item in groups:\n",
    "  group = groups.get_group(key)\n",
    "  display(group)\n",
    "\n",
    "# df = staticTraces.drop('loc', axis=1) #.query(f'callId != 0 or resultCallId != 0 or type == 5')\n",
    "# # df\n",
    "# df.iloc[50:]\n",
    "# df = data.collections.traces.query(f'callId != 0 or resultCallId != 0')\n",
    "# df"
   ]
  },
  {
   "cell_type": "code",
   "execution_count": null,
   "metadata": {},
   "outputs": [],
   "source": []
  }
 ]
}