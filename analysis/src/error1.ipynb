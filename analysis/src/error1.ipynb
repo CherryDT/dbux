{
 "nbformat": 4,
 "nbformat_minor": 2,
 "metadata": {
  "language_info": {
   "name": "python",
   "codemirror_mode": {
    "name": "ipython",
    "version": 3
   },
   "version": "3.7.4-final"
  },
  "orig_nbformat": 2,
  "file_extension": ".py",
  "mimetype": "text/x-python",
  "name": "python",
  "npconvert_exporter": "python",
  "pygments_lexer": "ipython3",
  "version": 3,
  "kernelspec": {
   "name": "python3",
   "display_name": "Python 3"
  }
 },
 "cells": [
  {
   "cell_type": "code",
   "execution_count": 1,
   "metadata": {},
   "outputs": [],
   "source": [
    "############################################################################################\n",
    "# Init\n",
    "############################################################################################\n",
    "\n",
    "import __init__\n",
    "\n",
    "# enable autoreload (see https://ipython.readthedocs.io/en/stable/config/extensions/autoreload.html)\n",
    "%load_ext autoreload\n",
    "%autoreload 2\n",
    "\n",
    "import pandas as pd \n",
    "import numpy as np\n",
    "import seaborn as sns #visualisation\n",
    "import matplotlib.pyplot as plt #visualisation\n",
    "from util.loadUtil import loadDbuxFile, collectionDf\n",
    "from data.DataProvider import DataProvider\n",
    "\n",
    "%matplotlib inline \n",
    "sns.set(color_codes=True)"
   ]
  },
  {
   "cell_type": "code",
   "execution_count": 6,
   "metadata": {
    "tags": [
     "outputPrepend"
    ]
   },
   "outputs": [
    {
     "output_type": "stream",
     "name": "stdout",
     "text": "traces (by context)\n"
    },
    {
     "output_type": "display_data",
     "data": {
      "text/plain": "   valueId  traceId  staticTraceId  runId  contextId  type  applicationId  \\\n0        0        1              1      1          1     0              1   \n1        0        2             32      1          1     0              1   \n2        0       14             34      1          1     0              1   \n3        0       15             35      1          1     0              1   \n4        0       16              2      1          1     0              1   \n\n   callId  resultId  resultCallId  previousTrace error displayName  sType  \n0       0         0             0              0     0           0      2  \n1       2         0             0              0     0     main1()      5  \n2       0         0             0              0     0           0     17  \n3       0         0             0              0     0           0     18  \n4       0         0             0              0     0           0      3  ",
      "text/html": "<div>\n<style scoped>\n    .dataframe tbody tr th:only-of-type {\n        vertical-align: middle;\n    }\n\n    .dataframe tbody tr th {\n        vertical-align: top;\n    }\n\n    .dataframe thead th {\n        text-align: right;\n    }\n</style>\n<table border=\"1\" class=\"dataframe\">\n  <thead>\n    <tr style=\"text-align: right;\">\n      <th></th>\n      <th>valueId</th>\n      <th>traceId</th>\n      <th>staticTraceId</th>\n      <th>runId</th>\n      <th>contextId</th>\n      <th>type</th>\n      <th>applicationId</th>\n      <th>callId</th>\n      <th>resultId</th>\n      <th>resultCallId</th>\n      <th>previousTrace</th>\n      <th>error</th>\n      <th>displayName</th>\n      <th>sType</th>\n    </tr>\n  </thead>\n  <tbody>\n    <tr>\n      <td>0</td>\n      <td>0</td>\n      <td>1</td>\n      <td>1</td>\n      <td>1</td>\n      <td>1</td>\n      <td>0</td>\n      <td>1</td>\n      <td>0</td>\n      <td>0</td>\n      <td>0</td>\n      <td>0</td>\n      <td>0</td>\n      <td>0</td>\n      <td>2</td>\n    </tr>\n    <tr>\n      <td>1</td>\n      <td>0</td>\n      <td>2</td>\n      <td>32</td>\n      <td>1</td>\n      <td>1</td>\n      <td>0</td>\n      <td>1</td>\n      <td>2</td>\n      <td>0</td>\n      <td>0</td>\n      <td>0</td>\n      <td>0</td>\n      <td>main1()</td>\n      <td>5</td>\n    </tr>\n    <tr>\n      <td>2</td>\n      <td>0</td>\n      <td>14</td>\n      <td>34</td>\n      <td>1</td>\n      <td>1</td>\n      <td>0</td>\n      <td>1</td>\n      <td>0</td>\n      <td>0</td>\n      <td>0</td>\n      <td>0</td>\n      <td>0</td>\n      <td>0</td>\n      <td>17</td>\n    </tr>\n    <tr>\n      <td>3</td>\n      <td>0</td>\n      <td>15</td>\n      <td>35</td>\n      <td>1</td>\n      <td>1</td>\n      <td>0</td>\n      <td>1</td>\n      <td>0</td>\n      <td>0</td>\n      <td>0</td>\n      <td>0</td>\n      <td>0</td>\n      <td>0</td>\n      <td>18</td>\n    </tr>\n    <tr>\n      <td>4</td>\n      <td>0</td>\n      <td>16</td>\n      <td>2</td>\n      <td>1</td>\n      <td>1</td>\n      <td>0</td>\n      <td>1</td>\n      <td>0</td>\n      <td>0</td>\n      <td>0</td>\n      <td>0</td>\n      <td>0</td>\n      <td>0</td>\n      <td>3</td>\n    </tr>\n  </tbody>\n</table>\n</div>"
     },
     "metadata": {}
    },
    {
     "output_type": "display_data",
     "data": {
      "text/plain": "   valueId  traceId  staticTraceId  runId  contextId  type  applicationId  \\\n0        0        3              7      1          2     0              1   \n1        0        4              9      1          2     0              1   \n2        1        5             13      1          2     0              1   \n3        2        6             11      1          2     0              1   \n4        3        7             12      1          2     0              1   \n5        0        8             10      1          2     0              1   \n6        0       13             10      1          2     0              1   \n7        0        9             14      1          2     0              1   \n\n   callId  resultId  resultCallId  previousTrace error  \\\n0       0         0             0              0     0   \n1       4         8             0              0     0   \n2       0         0             0              0     0   \n3       4         0             0              0     0   \n4       4         0             0              0     0   \n5       0         0             4              0     0   \n6       0         0             0              8  True   \n7       9         0             0              0     0   \n\n                       displayName  sType  \n0                                0      2  \n1  console.log('[main1]', 'start')      5  \n2                          console      9  \n3                        '[main1]'     10  \n4                          'start'     10  \n5  console.log('[main1]', 'start')      7  \n6  console.log('[main1]', 'start')      7  \n7                           ouch()      5  ",
      "text/html": "<div>\n<style scoped>\n    .dataframe tbody tr th:only-of-type {\n        vertical-align: middle;\n    }\n\n    .dataframe tbody tr th {\n        vertical-align: top;\n    }\n\n    .dataframe thead th {\n        text-align: right;\n    }\n</style>\n<table border=\"1\" class=\"dataframe\">\n  <thead>\n    <tr style=\"text-align: right;\">\n      <th></th>\n      <th>valueId</th>\n      <th>traceId</th>\n      <th>staticTraceId</th>\n      <th>runId</th>\n      <th>contextId</th>\n      <th>type</th>\n      <th>applicationId</th>\n      <th>callId</th>\n      <th>resultId</th>\n      <th>resultCallId</th>\n      <th>previousTrace</th>\n      <th>error</th>\n      <th>displayName</th>\n      <th>sType</th>\n    </tr>\n  </thead>\n  <tbody>\n    <tr>\n      <td>0</td>\n      <td>0</td>\n      <td>3</td>\n      <td>7</td>\n      <td>1</td>\n      <td>2</td>\n      <td>0</td>\n      <td>1</td>\n      <td>0</td>\n      <td>0</td>\n      <td>0</td>\n      <td>0</td>\n      <td>0</td>\n      <td>0</td>\n      <td>2</td>\n    </tr>\n    <tr>\n      <td>1</td>\n      <td>0</td>\n      <td>4</td>\n      <td>9</td>\n      <td>1</td>\n      <td>2</td>\n      <td>0</td>\n      <td>1</td>\n      <td>4</td>\n      <td>8</td>\n      <td>0</td>\n      <td>0</td>\n      <td>0</td>\n      <td>console.log('[main1]', 'start')</td>\n      <td>5</td>\n    </tr>\n    <tr>\n      <td>2</td>\n      <td>1</td>\n      <td>5</td>\n      <td>13</td>\n      <td>1</td>\n      <td>2</td>\n      <td>0</td>\n      <td>1</td>\n      <td>0</td>\n      <td>0</td>\n      <td>0</td>\n      <td>0</td>\n      <td>0</td>\n      <td>console</td>\n      <td>9</td>\n    </tr>\n    <tr>\n      <td>3</td>\n      <td>2</td>\n      <td>6</td>\n      <td>11</td>\n      <td>1</td>\n      <td>2</td>\n      <td>0</td>\n      <td>1</td>\n      <td>4</td>\n      <td>0</td>\n      <td>0</td>\n      <td>0</td>\n      <td>0</td>\n      <td>'[main1]'</td>\n      <td>10</td>\n    </tr>\n    <tr>\n      <td>4</td>\n      <td>3</td>\n      <td>7</td>\n      <td>12</td>\n      <td>1</td>\n      <td>2</td>\n      <td>0</td>\n      <td>1</td>\n      <td>4</td>\n      <td>0</td>\n      <td>0</td>\n      <td>0</td>\n      <td>0</td>\n      <td>'start'</td>\n      <td>10</td>\n    </tr>\n    <tr>\n      <td>5</td>\n      <td>0</td>\n      <td>8</td>\n      <td>10</td>\n      <td>1</td>\n      <td>2</td>\n      <td>0</td>\n      <td>1</td>\n      <td>0</td>\n      <td>0</td>\n      <td>4</td>\n      <td>0</td>\n      <td>0</td>\n      <td>console.log('[main1]', 'start')</td>\n      <td>7</td>\n    </tr>\n    <tr>\n      <td>6</td>\n      <td>0</td>\n      <td>13</td>\n      <td>10</td>\n      <td>1</td>\n      <td>2</td>\n      <td>0</td>\n      <td>1</td>\n      <td>0</td>\n      <td>0</td>\n      <td>0</td>\n      <td>8</td>\n      <td>True</td>\n      <td>console.log('[main1]', 'start')</td>\n      <td>7</td>\n    </tr>\n    <tr>\n      <td>7</td>\n      <td>0</td>\n      <td>9</td>\n      <td>14</td>\n      <td>1</td>\n      <td>2</td>\n      <td>0</td>\n      <td>1</td>\n      <td>9</td>\n      <td>0</td>\n      <td>0</td>\n      <td>0</td>\n      <td>0</td>\n      <td>ouch()</td>\n      <td>5</td>\n    </tr>\n  </tbody>\n</table>\n</div>"
     },
     "metadata": {}
    },
    {
     "output_type": "display_data",
     "data": {
      "text/plain": "   valueId  traceId  staticTraceId  runId  contextId  type  applicationId  \\\n0        0       10              3      1          3     0              1   \n1        4       11              5      1          3     0              1   \n2        0       12              6      1          3     0              1   \n\n   callId  resultId  resultCallId  previousTrace error         displayName  \\\n0       0         0             0              0     0                   0   \n1       0         0             0              0     0  new Error('ouch!')   \n2       0         0             0             11  True                   0   \n\n   sType  \n0      2  \n1     21  \n2     22  ",
      "text/html": "<div>\n<style scoped>\n    .dataframe tbody tr th:only-of-type {\n        vertical-align: middle;\n    }\n\n    .dataframe tbody tr th {\n        vertical-align: top;\n    }\n\n    .dataframe thead th {\n        text-align: right;\n    }\n</style>\n<table border=\"1\" class=\"dataframe\">\n  <thead>\n    <tr style=\"text-align: right;\">\n      <th></th>\n      <th>valueId</th>\n      <th>traceId</th>\n      <th>staticTraceId</th>\n      <th>runId</th>\n      <th>contextId</th>\n      <th>type</th>\n      <th>applicationId</th>\n      <th>callId</th>\n      <th>resultId</th>\n      <th>resultCallId</th>\n      <th>previousTrace</th>\n      <th>error</th>\n      <th>displayName</th>\n      <th>sType</th>\n    </tr>\n  </thead>\n  <tbody>\n    <tr>\n      <td>0</td>\n      <td>0</td>\n      <td>10</td>\n      <td>3</td>\n      <td>1</td>\n      <td>3</td>\n      <td>0</td>\n      <td>1</td>\n      <td>0</td>\n      <td>0</td>\n      <td>0</td>\n      <td>0</td>\n      <td>0</td>\n      <td>0</td>\n      <td>2</td>\n    </tr>\n    <tr>\n      <td>1</td>\n      <td>4</td>\n      <td>11</td>\n      <td>5</td>\n      <td>1</td>\n      <td>3</td>\n      <td>0</td>\n      <td>1</td>\n      <td>0</td>\n      <td>0</td>\n      <td>0</td>\n      <td>0</td>\n      <td>0</td>\n      <td>new Error('ouch!')</td>\n      <td>21</td>\n    </tr>\n    <tr>\n      <td>2</td>\n      <td>0</td>\n      <td>12</td>\n      <td>6</td>\n      <td>1</td>\n      <td>3</td>\n      <td>0</td>\n      <td>1</td>\n      <td>0</td>\n      <td>0</td>\n      <td>0</td>\n      <td>11</td>\n      <td>True</td>\n      <td>0</td>\n      <td>22</td>\n    </tr>\n  </tbody>\n</table>\n</div>"
     },
     "metadata": {}
    },
    {
     "output_type": "stream",
     "name": "stdout",
     "text": "static traces (by staticContext)\n"
    },
    {
     "output_type": "display_data",
     "data": {
      "text/plain": "   _callId  type  staticContextId  staticTraceId displayName  callId  \\\n0    False     2                1              1           0       0   \n1    False     3                1              2           0       0   \n31       0     5                1             32     main1()      32   \n32   False     7                1             33     main1()       0   \n33   False    17                1             34           0       0   \n34   False    18                1             35           0       0   \n\n    resultCallId  \n0              0  \n1              0  \n31             0  \n32            32  \n33             0  \n34             0  ",
      "text/html": "<div>\n<style scoped>\n    .dataframe tbody tr th:only-of-type {\n        vertical-align: middle;\n    }\n\n    .dataframe tbody tr th {\n        vertical-align: top;\n    }\n\n    .dataframe thead th {\n        text-align: right;\n    }\n</style>\n<table border=\"1\" class=\"dataframe\">\n  <thead>\n    <tr style=\"text-align: right;\">\n      <th></th>\n      <th>_callId</th>\n      <th>type</th>\n      <th>staticContextId</th>\n      <th>staticTraceId</th>\n      <th>displayName</th>\n      <th>callId</th>\n      <th>resultCallId</th>\n    </tr>\n  </thead>\n  <tbody>\n    <tr>\n      <td>0</td>\n      <td>False</td>\n      <td>2</td>\n      <td>1</td>\n      <td>1</td>\n      <td>0</td>\n      <td>0</td>\n      <td>0</td>\n    </tr>\n    <tr>\n      <td>1</td>\n      <td>False</td>\n      <td>3</td>\n      <td>1</td>\n      <td>2</td>\n      <td>0</td>\n      <td>0</td>\n      <td>0</td>\n    </tr>\n    <tr>\n      <td>31</td>\n      <td>0</td>\n      <td>5</td>\n      <td>1</td>\n      <td>32</td>\n      <td>main1()</td>\n      <td>32</td>\n      <td>0</td>\n    </tr>\n    <tr>\n      <td>32</td>\n      <td>False</td>\n      <td>7</td>\n      <td>1</td>\n      <td>33</td>\n      <td>main1()</td>\n      <td>0</td>\n      <td>32</td>\n    </tr>\n    <tr>\n      <td>33</td>\n      <td>False</td>\n      <td>17</td>\n      <td>1</td>\n      <td>34</td>\n      <td>0</td>\n      <td>0</td>\n      <td>0</td>\n    </tr>\n    <tr>\n      <td>34</td>\n      <td>False</td>\n      <td>18</td>\n      <td>1</td>\n      <td>35</td>\n      <td>0</td>\n      <td>0</td>\n      <td>0</td>\n    </tr>\n  </tbody>\n</table>\n</div>"
     },
     "metadata": {}
    },
    {
     "output_type": "display_data",
     "data": {
      "text/plain": "  _callId  type  staticContextId  staticTraceId         displayName  callId  \\\n2   False     2                2              3                   0       0   \n3   False     3                2              4                   0       0   \n4   False    21                2              5  new Error('ouch!')       0   \n5   False    22                2              6                   0       0   \n\n   resultCallId  \n2             0  \n3             0  \n4             0  \n5             0  ",
      "text/html": "<div>\n<style scoped>\n    .dataframe tbody tr th:only-of-type {\n        vertical-align: middle;\n    }\n\n    .dataframe tbody tr th {\n        vertical-align: top;\n    }\n\n    .dataframe thead th {\n        text-align: right;\n    }\n</style>\n<table border=\"1\" class=\"dataframe\">\n  <thead>\n    <tr style=\"text-align: right;\">\n      <th></th>\n      <th>_callId</th>\n      <th>type</th>\n      <th>staticContextId</th>\n      <th>staticTraceId</th>\n      <th>displayName</th>\n      <th>callId</th>\n      <th>resultCallId</th>\n    </tr>\n  </thead>\n  <tbody>\n    <tr>\n      <td>2</td>\n      <td>False</td>\n      <td>2</td>\n      <td>2</td>\n      <td>3</td>\n      <td>0</td>\n      <td>0</td>\n      <td>0</td>\n    </tr>\n    <tr>\n      <td>3</td>\n      <td>False</td>\n      <td>3</td>\n      <td>2</td>\n      <td>4</td>\n      <td>0</td>\n      <td>0</td>\n      <td>0</td>\n    </tr>\n    <tr>\n      <td>4</td>\n      <td>False</td>\n      <td>21</td>\n      <td>2</td>\n      <td>5</td>\n      <td>new Error('ouch!')</td>\n      <td>0</td>\n      <td>0</td>\n    </tr>\n    <tr>\n      <td>5</td>\n      <td>False</td>\n      <td>22</td>\n      <td>2</td>\n      <td>6</td>\n      <td>0</td>\n      <td>0</td>\n      <td>0</td>\n    </tr>\n  </tbody>\n</table>\n</div>"
     },
     "metadata": {}
    },
    {
     "output_type": "display_data",
     "data": {
      "text/plain": "   _callId  type  staticContextId  staticTraceId  \\\n6    False     2                3              7   \n7    False     3                3              8   \n8        0     5                3              9   \n9    False     7                3             10   \n10       0    10                3             11   \n11       0    10                3             12   \n12   False     9                3             13   \n13       0     5                3             14   \n14   False     7                3             15   \n15       0     5                3             16   \n16   False     7                3             17   \n17       0    10                3             18   \n18       0    10                3             19   \n19   False     9                3             20   \n20   False    22                3             21   \n\n                        displayName  callId  resultCallId  \n6                                 0       0             0  \n7                                 0       0             0  \n8   console.log('[main1]', 'start')       9             0  \n9   console.log('[main1]', 'start')       0             9  \n10                        '[main1]'       9             0  \n11                          'start'       9             0  \n12                          console       0             0  \n13                           ouch()      14             0  \n14                           ouch()       0            14  \n15    console.log('[main1]', 'end')      16             0  \n16    console.log('[main1]', 'end')       0            16  \n17                        '[main1]'      16             0  \n18                            'end'      16             0  \n19                          console       0             0  \n20                                0       0             0  ",
      "text/html": "<div>\n<style scoped>\n    .dataframe tbody tr th:only-of-type {\n        vertical-align: middle;\n    }\n\n    .dataframe tbody tr th {\n        vertical-align: top;\n    }\n\n    .dataframe thead th {\n        text-align: right;\n    }\n</style>\n<table border=\"1\" class=\"dataframe\">\n  <thead>\n    <tr style=\"text-align: right;\">\n      <th></th>\n      <th>_callId</th>\n      <th>type</th>\n      <th>staticContextId</th>\n      <th>staticTraceId</th>\n      <th>displayName</th>\n      <th>callId</th>\n      <th>resultCallId</th>\n    </tr>\n  </thead>\n  <tbody>\n    <tr>\n      <td>6</td>\n      <td>False</td>\n      <td>2</td>\n      <td>3</td>\n      <td>7</td>\n      <td>0</td>\n      <td>0</td>\n      <td>0</td>\n    </tr>\n    <tr>\n      <td>7</td>\n      <td>False</td>\n      <td>3</td>\n      <td>3</td>\n      <td>8</td>\n      <td>0</td>\n      <td>0</td>\n      <td>0</td>\n    </tr>\n    <tr>\n      <td>8</td>\n      <td>0</td>\n      <td>5</td>\n      <td>3</td>\n      <td>9</td>\n      <td>console.log('[main1]', 'start')</td>\n      <td>9</td>\n      <td>0</td>\n    </tr>\n    <tr>\n      <td>9</td>\n      <td>False</td>\n      <td>7</td>\n      <td>3</td>\n      <td>10</td>\n      <td>console.log('[main1]', 'start')</td>\n      <td>0</td>\n      <td>9</td>\n    </tr>\n    <tr>\n      <td>10</td>\n      <td>0</td>\n      <td>10</td>\n      <td>3</td>\n      <td>11</td>\n      <td>'[main1]'</td>\n      <td>9</td>\n      <td>0</td>\n    </tr>\n    <tr>\n      <td>11</td>\n      <td>0</td>\n      <td>10</td>\n      <td>3</td>\n      <td>12</td>\n      <td>'start'</td>\n      <td>9</td>\n      <td>0</td>\n    </tr>\n    <tr>\n      <td>12</td>\n      <td>False</td>\n      <td>9</td>\n      <td>3</td>\n      <td>13</td>\n      <td>console</td>\n      <td>0</td>\n      <td>0</td>\n    </tr>\n    <tr>\n      <td>13</td>\n      <td>0</td>\n      <td>5</td>\n      <td>3</td>\n      <td>14</td>\n      <td>ouch()</td>\n      <td>14</td>\n      <td>0</td>\n    </tr>\n    <tr>\n      <td>14</td>\n      <td>False</td>\n      <td>7</td>\n      <td>3</td>\n      <td>15</td>\n      <td>ouch()</td>\n      <td>0</td>\n      <td>14</td>\n    </tr>\n    <tr>\n      <td>15</td>\n      <td>0</td>\n      <td>5</td>\n      <td>3</td>\n      <td>16</td>\n      <td>console.log('[main1]', 'end')</td>\n      <td>16</td>\n      <td>0</td>\n    </tr>\n    <tr>\n      <td>16</td>\n      <td>False</td>\n      <td>7</td>\n      <td>3</td>\n      <td>17</td>\n      <td>console.log('[main1]', 'end')</td>\n      <td>0</td>\n      <td>16</td>\n    </tr>\n    <tr>\n      <td>17</td>\n      <td>0</td>\n      <td>10</td>\n      <td>3</td>\n      <td>18</td>\n      <td>'[main1]'</td>\n      <td>16</td>\n      <td>0</td>\n    </tr>\n    <tr>\n      <td>18</td>\n      <td>0</td>\n      <td>10</td>\n      <td>3</td>\n      <td>19</td>\n      <td>'end'</td>\n      <td>16</td>\n      <td>0</td>\n    </tr>\n    <tr>\n      <td>19</td>\n      <td>False</td>\n      <td>9</td>\n      <td>3</td>\n      <td>20</td>\n      <td>console</td>\n      <td>0</td>\n      <td>0</td>\n    </tr>\n    <tr>\n      <td>20</td>\n      <td>False</td>\n      <td>22</td>\n      <td>3</td>\n      <td>21</td>\n      <td>0</td>\n      <td>0</td>\n      <td>0</td>\n    </tr>\n  </tbody>\n</table>\n</div>"
     },
     "metadata": {}
    },
    {
     "output_type": "display_data",
     "data": {
      "text/plain": "   _callId  type  staticContextId  staticTraceId  \\\n21   False     2                4             22   \n22   False     3                4             23   \n23       0     5                4             24   \n24   False     7                4             25   \n25       0    10                4             26   \n26       0    10                4             27   \n27   False     9                4             28   \n28       0     5                4             29   \n29   False    19                4             30   \n30   False    22                4             31   \n\n                        displayName  callId  resultCallId  \n21                                0       0             0  \n22                                0       0             0  \n23  console.log('[main2]', 'start')      24             0  \n24  console.log('[main2]', 'start')       0            24  \n25                        '[main2]'      24             0  \n26                          'start'      24             0  \n27                          console       0             0  \n28                           ouch()      29             0  \n29                           ouch()       0            29  \n30                                0       0             0  ",
      "text/html": "<div>\n<style scoped>\n    .dataframe tbody tr th:only-of-type {\n        vertical-align: middle;\n    }\n\n    .dataframe tbody tr th {\n        vertical-align: top;\n    }\n\n    .dataframe thead th {\n        text-align: right;\n    }\n</style>\n<table border=\"1\" class=\"dataframe\">\n  <thead>\n    <tr style=\"text-align: right;\">\n      <th></th>\n      <th>_callId</th>\n      <th>type</th>\n      <th>staticContextId</th>\n      <th>staticTraceId</th>\n      <th>displayName</th>\n      <th>callId</th>\n      <th>resultCallId</th>\n    </tr>\n  </thead>\n  <tbody>\n    <tr>\n      <td>21</td>\n      <td>False</td>\n      <td>2</td>\n      <td>4</td>\n      <td>22</td>\n      <td>0</td>\n      <td>0</td>\n      <td>0</td>\n    </tr>\n    <tr>\n      <td>22</td>\n      <td>False</td>\n      <td>3</td>\n      <td>4</td>\n      <td>23</td>\n      <td>0</td>\n      <td>0</td>\n      <td>0</td>\n    </tr>\n    <tr>\n      <td>23</td>\n      <td>0</td>\n      <td>5</td>\n      <td>4</td>\n      <td>24</td>\n      <td>console.log('[main2]', 'start')</td>\n      <td>24</td>\n      <td>0</td>\n    </tr>\n    <tr>\n      <td>24</td>\n      <td>False</td>\n      <td>7</td>\n      <td>4</td>\n      <td>25</td>\n      <td>console.log('[main2]', 'start')</td>\n      <td>0</td>\n      <td>24</td>\n    </tr>\n    <tr>\n      <td>25</td>\n      <td>0</td>\n      <td>10</td>\n      <td>4</td>\n      <td>26</td>\n      <td>'[main2]'</td>\n      <td>24</td>\n      <td>0</td>\n    </tr>\n    <tr>\n      <td>26</td>\n      <td>0</td>\n      <td>10</td>\n      <td>4</td>\n      <td>27</td>\n      <td>'start'</td>\n      <td>24</td>\n      <td>0</td>\n    </tr>\n    <tr>\n      <td>27</td>\n      <td>False</td>\n      <td>9</td>\n      <td>4</td>\n      <td>28</td>\n      <td>console</td>\n      <td>0</td>\n      <td>0</td>\n    </tr>\n    <tr>\n      <td>28</td>\n      <td>0</td>\n      <td>5</td>\n      <td>4</td>\n      <td>29</td>\n      <td>ouch()</td>\n      <td>29</td>\n      <td>0</td>\n    </tr>\n    <tr>\n      <td>29</td>\n      <td>False</td>\n      <td>19</td>\n      <td>4</td>\n      <td>30</td>\n      <td>ouch()</td>\n      <td>0</td>\n      <td>29</td>\n    </tr>\n    <tr>\n      <td>30</td>\n      <td>False</td>\n      <td>22</td>\n      <td>4</td>\n      <td>31</td>\n      <td>0</td>\n      <td>0</td>\n      <td>0</td>\n    </tr>\n  </tbody>\n</table>\n</div>"
     },
     "metadata": {}
    }
   ],
   "source": [
    "# load all data\n",
    "\n",
    "data = DataProvider('error1_data.json')\n",
    "\n",
    "staticContexts = data.collections.staticContexts\n",
    "staticTraces = data.collections.staticTraces\n",
    "contexts = data.collections.contexts\n",
    "traces = data.collections.traces\n",
    "\n",
    "# print('staticContexts')\n",
    "# display(staticContexts.drop('loc', axis=1))\n",
    "\n",
    "# print('contexts')\n",
    "# display(contexts)\n",
    "\n",
    "display(traces.drop('createdAt', axis=1))\n",
    "\n",
    "print('traces (by context)')\n",
    "groups = traces.drop('createdAt', axis=1).groupby('contextId')\n",
    "for key, item in groups:\n",
    "  group = groups.get_group(key)\n",
    "  groupStatic = staticTraces[['staticTraceId', 'displayName', 'type']]\n",
    "  groupStatic = groupStatic.rename(columns={'type': 'sType'})\n",
    "#   group = pd.merge(group, displayName, on=['staticTraceId'])\n",
    "  group = group.merge(groupStatic, left_on='staticTraceId', right_on='staticTraceId')\n",
    "  display(group)\n",
    "\n",
    "\n",
    "print('static traces (by staticContext)')\n",
    "groups = staticTraces.drop('loc', axis=1).groupby('staticContextId')\n",
    "for key, item in groups:\n",
    "  group = groups.get_group(key)\n",
    "  display(group)\n",
    "\n",
    "# df = staticTraces.drop('loc', axis=1) #.query(f'callId != 0 or resultCallId != 0 or type == 5')\n",
    "# # df\n",
    "# df.iloc[50:]\n",
    "# df = data.collections.traces.query(f'callId != 0 or resultCallId != 0')\n",
    "# df"
   ]
  },
  {
   "cell_type": "code",
   "execution_count": null,
   "metadata": {},
   "outputs": [],
   "source": []
  }
 ]
}