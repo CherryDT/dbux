{
 "nbformat": 4,
 "nbformat_minor": 2,
 "metadata": {
  "language_info": {
   "name": "python",
   "codemirror_mode": {
    "name": "ipython",
    "version": 3
   },
   "version": "3.7.4-final"
  },
  "orig_nbformat": 2,
  "file_extension": ".py",
  "mimetype": "text/x-python",
  "name": "python",
  "npconvert_exporter": "python",
  "pygments_lexer": "ipython3",
  "version": 3,
  "kernelspec": {
   "name": "python3",
   "display_name": "Python 3"
  }
 },
 "cells": [
  {
   "cell_type": "code",
   "execution_count": 1,
   "metadata": {},
   "outputs": [],
   "source": [
    "############################################################################################\n",
    "# Init\n",
    "############################################################################################\n",
    "\n",
    "import __init__\n",
    "\n",
    "# enable autoreload (see https://ipython.readthedocs.io/en/stable/config/extensions/autoreload.html)\n",
    "%load_ext autoreload\n",
    "%autoreload 2\n",
    "import pandas as pd \n",
    "import numpy as np\n",
    "\n",
    "from data.DataProvider import DataProvider\n",
    "\n",
    "# visualization + display\n",
    "import seaborn as sns\n",
    "import matplotlib.pyplot as plt\n",
    "from IPython.display import display, HTML\n",
    "\n",
    "%matplotlib inline \n",
    "sns.set(color_codes=True)"
   ]
  },
  {
   "cell_type": "code",
   "execution_count": 2,
   "metadata": {
    "tags": [
     "outputPrepend"
    ]
   },
   "outputs": [
    {
     "output_type": "stream",
     "name": "stdout",
     "text": "static traces (by staticContext)\n"
    },
    {
     "output_type": "display_data",
     "data": {
      "text/plain": "   _callId  type  staticContextId  staticTraceId  \\\n0    False     2                1              1   \n1    False     3                1              2   \n2    False    22                1              3   \n18       0     5                1             19   \n19   False     9                1             20   \n20       0     5                1             21   \n21   False     9                1             22   \n22       0    10                1             23   \n23   False     9                1             24   \n24       0    10                1             25   \n25   False     7                1             26   \n\n                                          displayName  callId  resultCallId  \n0                                                   0       0             0  \n1                                                   0       0             0  \n2                                                   0       0             0  \n18  console.assert( findLongestWordLength( \"The qu...      19             0  \n19                                            console       0             0  \n20  findLongestWordLength( \"The quick brown fox ju...      21             0  \n21                                                  6       0             0  \n22     \"The quick brown fox jumped over the lazy dog\"      21             0  \n23  findLongestWordLength( \"The quick brown fox ju...       0            21  \n24  findLongestWordLength( \"The quick brown fox ju...      19             0  \n25  console.assert( findLongestWordLength( \"The qu...       0            19  ",
      "text/html": "<div>\n<style scoped>\n    .dataframe tbody tr th:only-of-type {\n        vertical-align: middle;\n    }\n\n    .dataframe tbody tr th {\n        vertical-align: top;\n    }\n\n    .dataframe thead th {\n        text-align: right;\n    }\n</style>\n<table border=\"1\" class=\"dataframe\">\n  <thead>\n    <tr style=\"text-align: right;\">\n      <th></th>\n      <th>_callId</th>\n      <th>type</th>\n      <th>staticContextId</th>\n      <th>staticTraceId</th>\n      <th>displayName</th>\n      <th>callId</th>\n      <th>resultCallId</th>\n    </tr>\n  </thead>\n  <tbody>\n    <tr>\n      <td>0</td>\n      <td>False</td>\n      <td>2</td>\n      <td>1</td>\n      <td>1</td>\n      <td>0</td>\n      <td>0</td>\n      <td>0</td>\n    </tr>\n    <tr>\n      <td>1</td>\n      <td>False</td>\n      <td>3</td>\n      <td>1</td>\n      <td>2</td>\n      <td>0</td>\n      <td>0</td>\n      <td>0</td>\n    </tr>\n    <tr>\n      <td>2</td>\n      <td>False</td>\n      <td>22</td>\n      <td>1</td>\n      <td>3</td>\n      <td>0</td>\n      <td>0</td>\n      <td>0</td>\n    </tr>\n    <tr>\n      <td>18</td>\n      <td>0</td>\n      <td>5</td>\n      <td>1</td>\n      <td>19</td>\n      <td>console.assert( findLongestWordLength( \"The qu...</td>\n      <td>19</td>\n      <td>0</td>\n    </tr>\n    <tr>\n      <td>19</td>\n      <td>False</td>\n      <td>9</td>\n      <td>1</td>\n      <td>20</td>\n      <td>console</td>\n      <td>0</td>\n      <td>0</td>\n    </tr>\n    <tr>\n      <td>20</td>\n      <td>0</td>\n      <td>5</td>\n      <td>1</td>\n      <td>21</td>\n      <td>findLongestWordLength( \"The quick brown fox ju...</td>\n      <td>21</td>\n      <td>0</td>\n    </tr>\n    <tr>\n      <td>21</td>\n      <td>False</td>\n      <td>9</td>\n      <td>1</td>\n      <td>22</td>\n      <td>6</td>\n      <td>0</td>\n      <td>0</td>\n    </tr>\n    <tr>\n      <td>22</td>\n      <td>0</td>\n      <td>10</td>\n      <td>1</td>\n      <td>23</td>\n      <td>\"The quick brown fox jumped over the lazy dog\"</td>\n      <td>21</td>\n      <td>0</td>\n    </tr>\n    <tr>\n      <td>23</td>\n      <td>False</td>\n      <td>9</td>\n      <td>1</td>\n      <td>24</td>\n      <td>findLongestWordLength( \"The quick brown fox ju...</td>\n      <td>0</td>\n      <td>21</td>\n    </tr>\n    <tr>\n      <td>24</td>\n      <td>0</td>\n      <td>10</td>\n      <td>1</td>\n      <td>25</td>\n      <td>findLongestWordLength( \"The quick brown fox ju...</td>\n      <td>19</td>\n      <td>0</td>\n    </tr>\n    <tr>\n      <td>25</td>\n      <td>False</td>\n      <td>7</td>\n      <td>1</td>\n      <td>26</td>\n      <td>console.assert( findLongestWordLength( \"The qu...</td>\n      <td>0</td>\n      <td>19</td>\n    </tr>\n  </tbody>\n</table>\n</div>"
     },
     "metadata": {}
    },
    {
     "output_type": "display_data",
     "data": {
      "text/plain": "   _callId  type  staticContextId  staticTraceId  \\\n3    False     2                2              4   \n4    False     3                2              5   \n5    False    22                2              6   \n6        0     5                2              7   \n7    False     9                2              8   \n8        0    10                2              9   \n9    False     8                2             10   \n10   False     8                2             11   \n11   False     8                2             12   \n12   False    17                2             13   \n13   False    18                2             14   \n14   False     9                2             15   \n15   False     9                2             16   \n16   False     8                2             17   \n17   False    19                2             18   \n\n                     displayName  callId  resultCallId  \n3                              0       0             0  \n4                              0       0             0  \n5                              0       0             0  \n6                 str.split(' ')       7             0  \n7                            str       0             0  \n8                            ' '       7             0  \n9                 str.split(' ')       0             7  \n10                   longest = 0       0             0  \n11  word.length > longest.length       0             0  \n12                             0       0             0  \n13                             0       0             0  \n14                          word       0             0  \n15                       longest       0             0  \n16                longest = word       0             0  \n17                longest.length       0             0  ",
      "text/html": "<div>\n<style scoped>\n    .dataframe tbody tr th:only-of-type {\n        vertical-align: middle;\n    }\n\n    .dataframe tbody tr th {\n        vertical-align: top;\n    }\n\n    .dataframe thead th {\n        text-align: right;\n    }\n</style>\n<table border=\"1\" class=\"dataframe\">\n  <thead>\n    <tr style=\"text-align: right;\">\n      <th></th>\n      <th>_callId</th>\n      <th>type</th>\n      <th>staticContextId</th>\n      <th>staticTraceId</th>\n      <th>displayName</th>\n      <th>callId</th>\n      <th>resultCallId</th>\n    </tr>\n  </thead>\n  <tbody>\n    <tr>\n      <td>3</td>\n      <td>False</td>\n      <td>2</td>\n      <td>2</td>\n      <td>4</td>\n      <td>0</td>\n      <td>0</td>\n      <td>0</td>\n    </tr>\n    <tr>\n      <td>4</td>\n      <td>False</td>\n      <td>3</td>\n      <td>2</td>\n      <td>5</td>\n      <td>0</td>\n      <td>0</td>\n      <td>0</td>\n    </tr>\n    <tr>\n      <td>5</td>\n      <td>False</td>\n      <td>22</td>\n      <td>2</td>\n      <td>6</td>\n      <td>0</td>\n      <td>0</td>\n      <td>0</td>\n    </tr>\n    <tr>\n      <td>6</td>\n      <td>0</td>\n      <td>5</td>\n      <td>2</td>\n      <td>7</td>\n      <td>str.split(' ')</td>\n      <td>7</td>\n      <td>0</td>\n    </tr>\n    <tr>\n      <td>7</td>\n      <td>False</td>\n      <td>9</td>\n      <td>2</td>\n      <td>8</td>\n      <td>str</td>\n      <td>0</td>\n      <td>0</td>\n    </tr>\n    <tr>\n      <td>8</td>\n      <td>0</td>\n      <td>10</td>\n      <td>2</td>\n      <td>9</td>\n      <td>' '</td>\n      <td>7</td>\n      <td>0</td>\n    </tr>\n    <tr>\n      <td>9</td>\n      <td>False</td>\n      <td>8</td>\n      <td>2</td>\n      <td>10</td>\n      <td>str.split(' ')</td>\n      <td>0</td>\n      <td>7</td>\n    </tr>\n    <tr>\n      <td>10</td>\n      <td>False</td>\n      <td>8</td>\n      <td>2</td>\n      <td>11</td>\n      <td>longest = 0</td>\n      <td>0</td>\n      <td>0</td>\n    </tr>\n    <tr>\n      <td>11</td>\n      <td>False</td>\n      <td>8</td>\n      <td>2</td>\n      <td>12</td>\n      <td>word.length &gt; longest.length</td>\n      <td>0</td>\n      <td>0</td>\n    </tr>\n    <tr>\n      <td>12</td>\n      <td>False</td>\n      <td>17</td>\n      <td>2</td>\n      <td>13</td>\n      <td>0</td>\n      <td>0</td>\n      <td>0</td>\n    </tr>\n    <tr>\n      <td>13</td>\n      <td>False</td>\n      <td>18</td>\n      <td>2</td>\n      <td>14</td>\n      <td>0</td>\n      <td>0</td>\n      <td>0</td>\n    </tr>\n    <tr>\n      <td>14</td>\n      <td>False</td>\n      <td>9</td>\n      <td>2</td>\n      <td>15</td>\n      <td>word</td>\n      <td>0</td>\n      <td>0</td>\n    </tr>\n    <tr>\n      <td>15</td>\n      <td>False</td>\n      <td>9</td>\n      <td>2</td>\n      <td>16</td>\n      <td>longest</td>\n      <td>0</td>\n      <td>0</td>\n    </tr>\n    <tr>\n      <td>16</td>\n      <td>False</td>\n      <td>8</td>\n      <td>2</td>\n      <td>17</td>\n      <td>longest = word</td>\n      <td>0</td>\n      <td>0</td>\n    </tr>\n    <tr>\n      <td>17</td>\n      <td>False</td>\n      <td>19</td>\n      <td>2</td>\n      <td>18</td>\n      <td>longest.length</td>\n      <td>0</td>\n      <td>0</td>\n    </tr>\n  </tbody>\n</table>\n</div>"
     },
     "metadata": {}
    }
   ],
   "source": [
    "# load data\n",
    "data = DataProvider('flwl1_data.json')\n",
    "staticContexts = data.collections.staticContexts\n",
    "staticTraces = data.collections.staticTraces\n",
    "contexts = data.collections.contexts\n",
    "traces = data.collections.traces\n",
    "\n",
    "\n",
    "\n",
    "data.printStaticTracesByStaticContext()\n",
    "# staticTraces"
   ]
  },
  {
   "cell_type": "code",
   "execution_count": null,
   "metadata": {},
   "outputs": [],
   "source": []
  }
 ]
}