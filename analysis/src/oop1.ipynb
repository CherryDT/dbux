{
 "cells": [
  {
   "cell_type": "code",
   "execution_count": 2,
   "metadata": {},
   "outputs": [
    {
     "output_type": "stream",
     "name": "stdout",
     "text": "The autoreload extension is already loaded. To reload it, use:\n  %reload_ext autoreload\n"
    }
   ],
   "source": [
    "############################################################################################\n",
    "# Init\n",
    "############################################################################################\n",
    "\n",
    "import __init__\n",
    "\n",
    "# enable autoreload (see https://ipython.readthedocs.io/en/stable/config/extensions/autoreload.html)\n",
    "%load_ext autoreload\n",
    "%autoreload 2\n",
    "\n",
    "import pandas as pd \n",
    "import numpy as np\n",
    "import seaborn as sns #visualisation\n",
    "import matplotlib.pyplot as plt #visualisation\n",
    "from util.loadUtil import loadDbuxFile, collectionDf\n",
    "from data.DataProvider import DataProvider\n",
    "\n",
    "%matplotlib inline\n",
    "sns.set(color_codes=True)"
   ]
  },
  {
   "cell_type": "code",
   "execution_count": null,
   "metadata": {},
   "outputs": [],
   "source": []
  },
  {
   "cell_type": "code",
   "execution_count": 8,
   "metadata": {
    "tags": [
     "outputPrepend"
    ]
   },
   "outputs": [
    {
     "output_type": "stream",
     "name": "stdout",
     "text": "\n\nTail of StaticTraces:\n"
    },
    {
     "output_type": "display_data",
     "data": {
      "text/plain": "   _callId  type  staticContextId  staticTraceId  \\\n6        0     4                2              7   \n8        0     9                2              9   \n9    False     6                2             10   \n13       0     4                3             14   \n16       0     9                3             17   \n17   False     6                3             18   \n21       0     4                4             22   \n23       0     9                4             24   \n24   False     6                4             25   \n28       0     4                5             29   \n30       0     9                5             31   \n31   False     6                5             32   \n35       0     4                6             36   \n37       0     9                6             38   \n38   False     6                6             39   \n43       0     4                7             44   \n45       0     4                7             46   \n47   False     6                7             48   \n50       0     9                7             51   \n51   False     6                7             52   \n58       0     4                8             59   \n59       0     4                8             60   \n60       0     4                8             61   \n61       0     9                8             62   \n62   False     8                8             63   \n63       0     9                8             64   \n64   False     8                8             65   \n68       0     4                9             69   \n71       0     4                9             72   \n72   False    16                9             73   \n75       0     4                8             76   \n77   False     6                8             78   \n78       0     4                1             79   \n79   False     6                1             80   \n\n                                          displayName  callId  resultCallId  \n6                                    console.log(msg)       7             0  \n8                                                 msg       7             0  \n9                                    console.log(msg)       0             7  \n13  renderMessage(`${this.constructor.name} says: ...      14             0  \n16            `${this.constructor.name} says: ${msg}`      14             0  \n17  renderMessage(`${this.constructor.name} says: ...       0            14  \n21                         super.speak('quack quack')      22             0  \n23                                      'quack quack'      22             0  \n24                         super.speak('quack quack')       0            22  \n28                                super.speak('mooo')      29             0  \n30                                             'mooo'      29             0  \n31                                super.speak('mooo')       0            29  \n35                                  super.speak('旺旺')      36             0  \n37                                               '旺旺'      36             0  \n38                                  super.speak('旺旺')       0            36  \n43             Math.floor(Math.random() * arr.length)      44             0  \n45                                      Math.random()      46             0  \n47                                      Math.random()       0            46  \n50                         Math.random() * arr.length      44             0  \n51             Math.floor(Math.random() * arr.length)       0            44  \n58  animals = Array(n).fill(0).map(i => { const An...      59             0  \n59                                   Array(n).fill(0)      60             0  \n60                                           Array(n)      61             0  \n61                                                  n      61             0  \n62                                           Array(n)       0            61  \n63                                                  0      60             0  \n64                                   Array(n).fill(0)       0            60  \n68            AnimalClass = pickRandom(AnimalClasses)      69             0  \n71                                  new AnimalClass()      72             0  \n72                                  new AnimalClass()       0            72  \n75                                     animal.speak()      76             0  \n77                                     animal.speak()       0            76  \n78                                             main()      79             0  \n79                                             main()       0            79  ",
      "text/html": "<div>\n<style scoped>\n    .dataframe tbody tr th:only-of-type {\n        vertical-align: middle;\n    }\n\n    .dataframe tbody tr th {\n        vertical-align: top;\n    }\n\n    .dataframe thead th {\n        text-align: right;\n    }\n</style>\n<table border=\"1\" class=\"dataframe\">\n  <thead>\n    <tr style=\"text-align: right;\">\n      <th></th>\n      <th>_callId</th>\n      <th>type</th>\n      <th>staticContextId</th>\n      <th>staticTraceId</th>\n      <th>displayName</th>\n      <th>callId</th>\n      <th>resultCallId</th>\n    </tr>\n  </thead>\n  <tbody>\n    <tr>\n      <td>6</td>\n      <td>0</td>\n      <td>4</td>\n      <td>2</td>\n      <td>7</td>\n      <td>console.log(msg)</td>\n      <td>7</td>\n      <td>0</td>\n    </tr>\n    <tr>\n      <td>8</td>\n      <td>0</td>\n      <td>9</td>\n      <td>2</td>\n      <td>9</td>\n      <td>msg</td>\n      <td>7</td>\n      <td>0</td>\n    </tr>\n    <tr>\n      <td>9</td>\n      <td>False</td>\n      <td>6</td>\n      <td>2</td>\n      <td>10</td>\n      <td>console.log(msg)</td>\n      <td>0</td>\n      <td>7</td>\n    </tr>\n    <tr>\n      <td>13</td>\n      <td>0</td>\n      <td>4</td>\n      <td>3</td>\n      <td>14</td>\n      <td>renderMessage(`${this.constructor.name} says: ...</td>\n      <td>14</td>\n      <td>0</td>\n    </tr>\n    <tr>\n      <td>16</td>\n      <td>0</td>\n      <td>9</td>\n      <td>3</td>\n      <td>17</td>\n      <td>`${this.constructor.name} says: ${msg}`</td>\n      <td>14</td>\n      <td>0</td>\n    </tr>\n    <tr>\n      <td>17</td>\n      <td>False</td>\n      <td>6</td>\n      <td>3</td>\n      <td>18</td>\n      <td>renderMessage(`${this.constructor.name} says: ...</td>\n      <td>0</td>\n      <td>14</td>\n    </tr>\n    <tr>\n      <td>21</td>\n      <td>0</td>\n      <td>4</td>\n      <td>4</td>\n      <td>22</td>\n      <td>super.speak('quack quack')</td>\n      <td>22</td>\n      <td>0</td>\n    </tr>\n    <tr>\n      <td>23</td>\n      <td>0</td>\n      <td>9</td>\n      <td>4</td>\n      <td>24</td>\n      <td>'quack quack'</td>\n      <td>22</td>\n      <td>0</td>\n    </tr>\n    <tr>\n      <td>24</td>\n      <td>False</td>\n      <td>6</td>\n      <td>4</td>\n      <td>25</td>\n      <td>super.speak('quack quack')</td>\n      <td>0</td>\n      <td>22</td>\n    </tr>\n    <tr>\n      <td>28</td>\n      <td>0</td>\n      <td>4</td>\n      <td>5</td>\n      <td>29</td>\n      <td>super.speak('mooo')</td>\n      <td>29</td>\n      <td>0</td>\n    </tr>\n    <tr>\n      <td>30</td>\n      <td>0</td>\n      <td>9</td>\n      <td>5</td>\n      <td>31</td>\n      <td>'mooo'</td>\n      <td>29</td>\n      <td>0</td>\n    </tr>\n    <tr>\n      <td>31</td>\n      <td>False</td>\n      <td>6</td>\n      <td>5</td>\n      <td>32</td>\n      <td>super.speak('mooo')</td>\n      <td>0</td>\n      <td>29</td>\n    </tr>\n    <tr>\n      <td>35</td>\n      <td>0</td>\n      <td>4</td>\n      <td>6</td>\n      <td>36</td>\n      <td>super.speak('旺旺')</td>\n      <td>36</td>\n      <td>0</td>\n    </tr>\n    <tr>\n      <td>37</td>\n      <td>0</td>\n      <td>9</td>\n      <td>6</td>\n      <td>38</td>\n      <td>'旺旺'</td>\n      <td>36</td>\n      <td>0</td>\n    </tr>\n    <tr>\n      <td>38</td>\n      <td>False</td>\n      <td>6</td>\n      <td>6</td>\n      <td>39</td>\n      <td>super.speak('旺旺')</td>\n      <td>0</td>\n      <td>36</td>\n    </tr>\n    <tr>\n      <td>43</td>\n      <td>0</td>\n      <td>4</td>\n      <td>7</td>\n      <td>44</td>\n      <td>Math.floor(Math.random() * arr.length)</td>\n      <td>44</td>\n      <td>0</td>\n    </tr>\n    <tr>\n      <td>45</td>\n      <td>0</td>\n      <td>4</td>\n      <td>7</td>\n      <td>46</td>\n      <td>Math.random()</td>\n      <td>46</td>\n      <td>0</td>\n    </tr>\n    <tr>\n      <td>47</td>\n      <td>False</td>\n      <td>6</td>\n      <td>7</td>\n      <td>48</td>\n      <td>Math.random()</td>\n      <td>0</td>\n      <td>46</td>\n    </tr>\n    <tr>\n      <td>50</td>\n      <td>0</td>\n      <td>9</td>\n      <td>7</td>\n      <td>51</td>\n      <td>Math.random() * arr.length</td>\n      <td>44</td>\n      <td>0</td>\n    </tr>\n    <tr>\n      <td>51</td>\n      <td>False</td>\n      <td>6</td>\n      <td>7</td>\n      <td>52</td>\n      <td>Math.floor(Math.random() * arr.length)</td>\n      <td>0</td>\n      <td>44</td>\n    </tr>\n    <tr>\n      <td>58</td>\n      <td>0</td>\n      <td>4</td>\n      <td>8</td>\n      <td>59</td>\n      <td>animals = Array(n).fill(0).map(i =&gt; { const An...</td>\n      <td>59</td>\n      <td>0</td>\n    </tr>\n    <tr>\n      <td>59</td>\n      <td>0</td>\n      <td>4</td>\n      <td>8</td>\n      <td>60</td>\n      <td>Array(n).fill(0)</td>\n      <td>60</td>\n      <td>0</td>\n    </tr>\n    <tr>\n      <td>60</td>\n      <td>0</td>\n      <td>4</td>\n      <td>8</td>\n      <td>61</td>\n      <td>Array(n)</td>\n      <td>61</td>\n      <td>0</td>\n    </tr>\n    <tr>\n      <td>61</td>\n      <td>0</td>\n      <td>9</td>\n      <td>8</td>\n      <td>62</td>\n      <td>n</td>\n      <td>61</td>\n      <td>0</td>\n    </tr>\n    <tr>\n      <td>62</td>\n      <td>False</td>\n      <td>8</td>\n      <td>8</td>\n      <td>63</td>\n      <td>Array(n)</td>\n      <td>0</td>\n      <td>61</td>\n    </tr>\n    <tr>\n      <td>63</td>\n      <td>0</td>\n      <td>9</td>\n      <td>8</td>\n      <td>64</td>\n      <td>0</td>\n      <td>60</td>\n      <td>0</td>\n    </tr>\n    <tr>\n      <td>64</td>\n      <td>False</td>\n      <td>8</td>\n      <td>8</td>\n      <td>65</td>\n      <td>Array(n).fill(0)</td>\n      <td>0</td>\n      <td>60</td>\n    </tr>\n    <tr>\n      <td>68</td>\n      <td>0</td>\n      <td>4</td>\n      <td>9</td>\n      <td>69</td>\n      <td>AnimalClass = pickRandom(AnimalClasses)</td>\n      <td>69</td>\n      <td>0</td>\n    </tr>\n    <tr>\n      <td>71</td>\n      <td>0</td>\n      <td>4</td>\n      <td>9</td>\n      <td>72</td>\n      <td>new AnimalClass()</td>\n      <td>72</td>\n      <td>0</td>\n    </tr>\n    <tr>\n      <td>72</td>\n      <td>False</td>\n      <td>16</td>\n      <td>9</td>\n      <td>73</td>\n      <td>new AnimalClass()</td>\n      <td>0</td>\n      <td>72</td>\n    </tr>\n    <tr>\n      <td>75</td>\n      <td>0</td>\n      <td>4</td>\n      <td>8</td>\n      <td>76</td>\n      <td>animal.speak()</td>\n      <td>76</td>\n      <td>0</td>\n    </tr>\n    <tr>\n      <td>77</td>\n      <td>False</td>\n      <td>6</td>\n      <td>8</td>\n      <td>78</td>\n      <td>animal.speak()</td>\n      <td>0</td>\n      <td>76</td>\n    </tr>\n    <tr>\n      <td>78</td>\n      <td>0</td>\n      <td>4</td>\n      <td>1</td>\n      <td>79</td>\n      <td>main()</td>\n      <td>79</td>\n      <td>0</td>\n    </tr>\n    <tr>\n      <td>79</td>\n      <td>False</td>\n      <td>6</td>\n      <td>1</td>\n      <td>80</td>\n      <td>main()</td>\n      <td>0</td>\n      <td>79</td>\n    </tr>\n  </tbody>\n</table>\n</div>"
     },
     "metadata": {}
    }
   ],
   "source": [
    "# load all data\n",
    "\n",
    "data = DataProvider('oop1_data.json')\n",
    "\n",
    "'''\n",
    "analyze call tree bug: 80 vs. 69\n",
    "'''\n",
    "\n",
    "staticTraces = data.collections.staticTraces\n",
    "traces = data.collections.traces\n",
    "\n",
    "# for (staticCallId, names, result) in data.getStaticCallTrees():\n",
    "#     print(staticCallId, names, result['displayName'])\n",
    "#     bceTraces = traces[traces['staticTraceId'] == staticCallId]\n",
    "#     callTracesDf = traces.query(f'callId in @bceTraces.traceId or resultCallId in @bceTraces.traceId')\n",
    "#     display(callTracesDf)\n",
    "\n",
    "df = staticTraces.drop('loc', axis=1) #.query(f'callId != 0 or resultCallId != 0 or type == 5')\n",
    "# df\n",
    "\n",
    "print('\\n\\nTail of staticTraces:')\n",
    "display(df.iloc[60:])\n",
    "# print('\\n\\nBCE + CER staticTraces:')\n",
    "# display(df.query(f'callId != 0 or resultCallId != 0 or type == 4'))\n",
    "# df = data.collections.traces.query(f'callId != 0 or resultCallId != 0')\n",
    "# df"
   ]
  },
  {
   "cell_type": "code",
   "execution_count": null,
   "metadata": {},
   "outputs": [],
   "source": []
  }
 ],
 "metadata": {
  "language_info": {
   "name": "python",
   "codemirror_mode": {
    "name": "ipython",
    "version": 3
   },
   "version": "3.7.4-final"
  },
  "orig_nbformat": 2,
  "file_extension": ".py",
  "mimetype": "text/x-python",
  "name": "python",
  "npconvert_exporter": "python",
  "pygments_lexer": "ipython3",
  "version": 3,
  "kernelspec": {
   "name": "python3",
   "display_name": "Python 3"
  }
 },
 "nbformat": 4,
 "nbformat_minor": 2
}