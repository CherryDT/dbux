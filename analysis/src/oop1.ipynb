{
 "nbformat": 4,
 "nbformat_minor": 2,
 "metadata": {
  "language_info": {
   "name": "python",
   "codemirror_mode": {
    "name": "ipython",
    "version": 3
   },
   "version": "3.7.4-final"
  },
  "orig_nbformat": 2,
  "file_extension": ".py",
  "mimetype": "text/x-python",
  "name": "python",
  "npconvert_exporter": "python",
  "pygments_lexer": "ipython3",
  "version": 3,
  "kernelspec": {
   "name": "python3",
   "display_name": "Python 3"
  }
 },
 "cells": [
  {
   "cell_type": "code",
   "execution_count": 16,
   "metadata": {},
   "outputs": [
    {
     "output_type": "stream",
     "name": "stdout",
     "text": "The autoreload extension is already loaded. To reload it, use:\n  %reload_ext autoreload\n"
    }
   ],
   "source": [
    "############################################################################################\n",
    "# Init\n",
    "############################################################################################\n",
    "\n",
    "# enable autoreload (see https://ipython.readthedocs.io/en/stable/config/extensions/autoreload.html)\n",
    "%load_ext autoreload\n",
    "%autoreload 2\n",
    "\n",
    "import pandas as pd \n",
    "import numpy as np\n",
    "from math import isnan\n",
    "import seaborn as sns #visualisation\n",
    "import matplotlib.pyplot as plt #visualisation\n",
    "from util.loadUtil import loadDbuxFile, collectionDf\n",
    "\n",
    "%matplotlib inline \n",
    "sns.set(color_codes=True)"
   ]
  },
  {
   "cell_type": "code",
   "execution_count": 31,
   "metadata": {
    "tags": [
     "outputPrepend"
    ]
   },
   "outputs": [
    {
     "output_type": "execute_result",
     "data": {
      "text/plain": "                                                  loc  type  staticContextId  \\\n21  {'start': {'line': 2, 'column': 14, '_pos': {'...    10                2   \n26  {'start': {'line': 7, 'column': 18, '_pos': {'...    10                3   \n30  {'start': {'line': 13, 'column': 16, '_pos': {...    10                4   \n34  {'start': {'line': 19, 'column': 16, '_pos': {...    10                5   \n38  {'start': {'line': 25, 'column': 16, '_pos': {...    10                6   \n48  {'start': {'line': 36, 'column': 24}, 'end': {...    10                7   \n55  {'start': {'line': 41, 'column': 24, '_pos': {...    10                8   \n57  {'start': {'line': 41, 'column': 33, '_pos': {...    10                8   \n67  {'start': {'line': 44, 'column': 40, '_pos': {...    10                9   \n\n    staticTraceId                                        displayName  \\\n21             22                                                msg   \n26             27  `${_dbux.traceExpr(24, _dbux.traceExpr(25, thi...   \n30             31                                      'quack quack'   \n34             35                                             'mooo'   \n38             39                                               '旺旺'   \n48             49  _dbux.traceExpr(44, _dbux.traceExpr(47, _dbux....   \n55             56                                                 20   \n57             58                                                  0   \n67             68  _dbux.traceExpr(63, _dbux.traceExpr(66, _dbux....   \n\n    resultCallId  callId  \n21             0      19  \n26             0      23  \n30             0      28  \n34             0      32  \n38             0      36  \n48             0      42  \n55             0      54  \n57             0      52  \n67             0      60  ",
      "text/html": "<div>\n<style scoped>\n    .dataframe tbody tr th:only-of-type {\n        vertical-align: middle;\n    }\n\n    .dataframe tbody tr th {\n        vertical-align: top;\n    }\n\n    .dataframe thead th {\n        text-align: right;\n    }\n</style>\n<table border=\"1\" class=\"dataframe\">\n  <thead>\n    <tr style=\"text-align: right;\">\n      <th></th>\n      <th>loc</th>\n      <th>type</th>\n      <th>staticContextId</th>\n      <th>staticTraceId</th>\n      <th>displayName</th>\n      <th>resultCallId</th>\n      <th>callId</th>\n    </tr>\n  </thead>\n  <tbody>\n    <tr>\n      <td>21</td>\n      <td>{'start': {'line': 2, 'column': 14, '_pos': {'...</td>\n      <td>10</td>\n      <td>2</td>\n      <td>22</td>\n      <td>msg</td>\n      <td>0</td>\n      <td>19</td>\n    </tr>\n    <tr>\n      <td>26</td>\n      <td>{'start': {'line': 7, 'column': 18, '_pos': {'...</td>\n      <td>10</td>\n      <td>3</td>\n      <td>27</td>\n      <td>`${_dbux.traceExpr(24, _dbux.traceExpr(25, thi...</td>\n      <td>0</td>\n      <td>23</td>\n    </tr>\n    <tr>\n      <td>30</td>\n      <td>{'start': {'line': 13, 'column': 16, '_pos': {...</td>\n      <td>10</td>\n      <td>4</td>\n      <td>31</td>\n      <td>'quack quack'</td>\n      <td>0</td>\n      <td>28</td>\n    </tr>\n    <tr>\n      <td>34</td>\n      <td>{'start': {'line': 19, 'column': 16, '_pos': {...</td>\n      <td>10</td>\n      <td>5</td>\n      <td>35</td>\n      <td>'mooo'</td>\n      <td>0</td>\n      <td>32</td>\n    </tr>\n    <tr>\n      <td>38</td>\n      <td>{'start': {'line': 25, 'column': 16, '_pos': {...</td>\n      <td>10</td>\n      <td>6</td>\n      <td>39</td>\n      <td>'旺旺'</td>\n      <td>0</td>\n      <td>36</td>\n    </tr>\n    <tr>\n      <td>48</td>\n      <td>{'start': {'line': 36, 'column': 24}, 'end': {...</td>\n      <td>10</td>\n      <td>7</td>\n      <td>49</td>\n      <td>_dbux.traceExpr(44, _dbux.traceExpr(47, _dbux....</td>\n      <td>0</td>\n      <td>42</td>\n    </tr>\n    <tr>\n      <td>55</td>\n      <td>{'start': {'line': 41, 'column': 24, '_pos': {...</td>\n      <td>10</td>\n      <td>8</td>\n      <td>56</td>\n      <td>20</td>\n      <td>0</td>\n      <td>54</td>\n    </tr>\n    <tr>\n      <td>57</td>\n      <td>{'start': {'line': 41, 'column': 33, '_pos': {...</td>\n      <td>10</td>\n      <td>8</td>\n      <td>58</td>\n      <td>0</td>\n      <td>0</td>\n      <td>52</td>\n    </tr>\n    <tr>\n      <td>67</td>\n      <td>{'start': {'line': 44, 'column': 40, '_pos': {...</td>\n      <td>10</td>\n      <td>9</td>\n      <td>68</td>\n      <td>_dbux.traceExpr(63, _dbux.traceExpr(66, _dbux....</td>\n      <td>0</td>\n      <td>60</td>\n    </tr>\n  </tbody>\n</table>\n</div>"
     },
     "metadata": {},
     "execution_count": 31
    }
   ],
   "source": [
    "# load all data\n",
    "\n",
    "rawData = loadDbuxFile('oop1.js_data.json')\n",
    "\n",
    "staticContexts = collectionDf(rawData, 'staticContexts')\n",
    "staticTraces = collectionDf(rawData, 'staticTraces')\n",
    "contexts = collectionDf(rawData, 'executionContexts')\n",
    "traces = collectionDf(rawData, 'traces')\n",
    "\n",
    "# staticContexts[staticContexts.columns[~staticContexts.columns.isin(['loc'])]]\n",
    "allFunctionNames = staticContexts[['displayName']].to_numpy().flatten().tolist()\n",
    "\n",
    "\n",
    "# for some reason, some columns were loaded as `float`\n",
    "staticTraces['callId'] = staticTraces['callId'].astype(int) \n",
    "staticTraces['resultCallId'] = staticTraces['resultCallId'].astype(int) \n",
    "\n",
    "staticTraces[~staticTraces['callId'].isin([0])]\n",
    "# staticTraces"
   ]
  },
  {
   "cell_type": "code",
   "execution_count": null,
   "metadata": {},
   "outputs": [],
   "source": []
  }
 ]
}