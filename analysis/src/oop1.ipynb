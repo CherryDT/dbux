{
 "nbformat": 4,
 "nbformat_minor": 2,
 "metadata": {
  "language_info": {
   "name": "python",
   "codemirror_mode": {
    "name": "ipython",
    "version": 3
   },
   "version": "3.7.5-final"
  },
  "orig_nbformat": 2,
  "file_extension": ".py",
  "mimetype": "text/x-python",
  "name": "python",
  "npconvert_exporter": "python",
  "pygments_lexer": "ipython3",
  "version": 3,
  "kernelspec": {
   "name": "python3",
   "display_name": "Python 3"
  }
 },
 "cells": [
  {
   "cell_type": "code",
   "execution_count": 46,
   "metadata": {},
   "outputs": [
    {
     "output_type": "stream",
     "name": "stdout",
     "text": "The autoreload extension is already loaded. To reload it, use:\n  %reload_ext autoreload\n"
    }
   ],
   "source": [
    "############################################################################################\n",
    "# Init\n",
    "############################################################################################\n",
    "\n",
    "# enable autoreload (see https://ipython.readthedocs.io/en/stable/config/extensions/autoreload.html)\n",
    "%load_ext autoreload\n",
    "%autoreload 2\n",
    "\n",
    "import pandas as pd \n",
    "import numpy as np\n",
    "import seaborn as sns #visualisation\n",
    "import matplotlib.pyplot as plt #visualisation\n",
    "from util.loadUtil import loadDbuxFile, collectionDf\n",
    "from data.DataProvider import DataProvider\n",
    "\n",
    "%matplotlib inline \n",
    "sns.set(color_codes=True)"
   ]
  },
  {
   "cell_type": "code",
   "execution_count": 57,
   "metadata": {
    "tags": [
     "outputPrepend"
    ]
   },
   "outputs": [
    {
     "output_type": "execute_result",
     "data": {
      "text/plain": "    type  staticContextId  staticTraceId  \\\n20     7                2             21   \n21    10                2             22   \n25     7                3             26   \n26    10                3             27   \n29     7                4             30   \n30    10                4             31   \n33     7                5             34   \n34    10                5             35   \n37     7                6             38   \n38    10                6             39   \n46     7                7             47   \n47     7                7             48   \n48    10                7             49   \n55     7                8             56   \n56    10                8             57   \n57     7                8             58   \n58    10                8             59   \n66     7                9             67   \n67     7                9             68   \n68    10                9             69   \n73     7                8             74   \n75     7                1             76   \n\n                                          displayName  resultCallId  callId  \n20                                   console.log(msg)            19       0  \n21                                                msg             0      19  \n25  renderMessage(`${this.constructor.name} says: ...            23       0  \n26            `${this.constructor.name} says: ${msg}`             0      23  \n29                         super.speak('quack quack')            28       0  \n30                                      'quack quack'             0      28  \n33                                super.speak('mooo')            32       0  \n34                                             'mooo'             0      32  \n37                                  super.speak('旺旺')            36       0  \n38                                               '旺旺'             0      36  \n46                                      Math.random()            44       0  \n47             Math.floor(Math.random() * arr.length)            42       0  \n48                         Math.random() * arr.length             0      42  \n55                                           Array(1)            55       0  \n56                                                  1             0      55  \n57                                   Array(1).fill(0)            53       0  \n58                                                  0             0      53  \n66                                      Math.random()            64       0  \n67   Math.floor(Math.random() * AnimalClasses.length)            61       0  \n68               Math.random() * AnimalClasses.length             0      61  \n73                                     animal.speak()            72       0  \n75                                             main()            75       0  ",
      "text/html": "<div>\n<style scoped>\n    .dataframe tbody tr th:only-of-type {\n        vertical-align: middle;\n    }\n\n    .dataframe tbody tr th {\n        vertical-align: top;\n    }\n\n    .dataframe thead th {\n        text-align: right;\n    }\n</style>\n<table border=\"1\" class=\"dataframe\">\n  <thead>\n    <tr style=\"text-align: right;\">\n      <th></th>\n      <th>type</th>\n      <th>staticContextId</th>\n      <th>staticTraceId</th>\n      <th>displayName</th>\n      <th>resultCallId</th>\n      <th>callId</th>\n    </tr>\n  </thead>\n  <tbody>\n    <tr>\n      <td>20</td>\n      <td>7</td>\n      <td>2</td>\n      <td>21</td>\n      <td>console.log(msg)</td>\n      <td>19</td>\n      <td>0</td>\n    </tr>\n    <tr>\n      <td>21</td>\n      <td>10</td>\n      <td>2</td>\n      <td>22</td>\n      <td>msg</td>\n      <td>0</td>\n      <td>19</td>\n    </tr>\n    <tr>\n      <td>25</td>\n      <td>7</td>\n      <td>3</td>\n      <td>26</td>\n      <td>renderMessage(`${this.constructor.name} says: ...</td>\n      <td>23</td>\n      <td>0</td>\n    </tr>\n    <tr>\n      <td>26</td>\n      <td>10</td>\n      <td>3</td>\n      <td>27</td>\n      <td>`${this.constructor.name} says: ${msg}`</td>\n      <td>0</td>\n      <td>23</td>\n    </tr>\n    <tr>\n      <td>29</td>\n      <td>7</td>\n      <td>4</td>\n      <td>30</td>\n      <td>super.speak('quack quack')</td>\n      <td>28</td>\n      <td>0</td>\n    </tr>\n    <tr>\n      <td>30</td>\n      <td>10</td>\n      <td>4</td>\n      <td>31</td>\n      <td>'quack quack'</td>\n      <td>0</td>\n      <td>28</td>\n    </tr>\n    <tr>\n      <td>33</td>\n      <td>7</td>\n      <td>5</td>\n      <td>34</td>\n      <td>super.speak('mooo')</td>\n      <td>32</td>\n      <td>0</td>\n    </tr>\n    <tr>\n      <td>34</td>\n      <td>10</td>\n      <td>5</td>\n      <td>35</td>\n      <td>'mooo'</td>\n      <td>0</td>\n      <td>32</td>\n    </tr>\n    <tr>\n      <td>37</td>\n      <td>7</td>\n      <td>6</td>\n      <td>38</td>\n      <td>super.speak('旺旺')</td>\n      <td>36</td>\n      <td>0</td>\n    </tr>\n    <tr>\n      <td>38</td>\n      <td>10</td>\n      <td>6</td>\n      <td>39</td>\n      <td>'旺旺'</td>\n      <td>0</td>\n      <td>36</td>\n    </tr>\n    <tr>\n      <td>46</td>\n      <td>7</td>\n      <td>7</td>\n      <td>47</td>\n      <td>Math.random()</td>\n      <td>44</td>\n      <td>0</td>\n    </tr>\n    <tr>\n      <td>47</td>\n      <td>7</td>\n      <td>7</td>\n      <td>48</td>\n      <td>Math.floor(Math.random() * arr.length)</td>\n      <td>42</td>\n      <td>0</td>\n    </tr>\n    <tr>\n      <td>48</td>\n      <td>10</td>\n      <td>7</td>\n      <td>49</td>\n      <td>Math.random() * arr.length</td>\n      <td>0</td>\n      <td>42</td>\n    </tr>\n    <tr>\n      <td>55</td>\n      <td>7</td>\n      <td>8</td>\n      <td>56</td>\n      <td>Array(1)</td>\n      <td>55</td>\n      <td>0</td>\n    </tr>\n    <tr>\n      <td>56</td>\n      <td>10</td>\n      <td>8</td>\n      <td>57</td>\n      <td>1</td>\n      <td>0</td>\n      <td>55</td>\n    </tr>\n    <tr>\n      <td>57</td>\n      <td>7</td>\n      <td>8</td>\n      <td>58</td>\n      <td>Array(1).fill(0)</td>\n      <td>53</td>\n      <td>0</td>\n    </tr>\n    <tr>\n      <td>58</td>\n      <td>10</td>\n      <td>8</td>\n      <td>59</td>\n      <td>0</td>\n      <td>0</td>\n      <td>53</td>\n    </tr>\n    <tr>\n      <td>66</td>\n      <td>7</td>\n      <td>9</td>\n      <td>67</td>\n      <td>Math.random()</td>\n      <td>64</td>\n      <td>0</td>\n    </tr>\n    <tr>\n      <td>67</td>\n      <td>7</td>\n      <td>9</td>\n      <td>68</td>\n      <td>Math.floor(Math.random() * AnimalClasses.length)</td>\n      <td>61</td>\n      <td>0</td>\n    </tr>\n    <tr>\n      <td>68</td>\n      <td>10</td>\n      <td>9</td>\n      <td>69</td>\n      <td>Math.random() * AnimalClasses.length</td>\n      <td>0</td>\n      <td>61</td>\n    </tr>\n    <tr>\n      <td>73</td>\n      <td>7</td>\n      <td>8</td>\n      <td>74</td>\n      <td>animal.speak()</td>\n      <td>72</td>\n      <td>0</td>\n    </tr>\n    <tr>\n      <td>75</td>\n      <td>7</td>\n      <td>1</td>\n      <td>76</td>\n      <td>main()</td>\n      <td>75</td>\n      <td>0</td>\n    </tr>\n  </tbody>\n</table>\n</div>"
     },
     "metadata": {},
     "execution_count": 57
    }
   ],
   "source": [
    "# load all data\n",
    "\n",
    "data = DataProvider('oop1_data.json')\n",
    "\n",
    "'''\n",
    "analyze call tree bug: 74 vs. (66, 67, 68)\n",
    "'''\n",
    "\n",
    "staticTraces = data.collections.staticTraces\n",
    "traces = data.collections.traces\n",
    "\n",
    "# for (staticCallId, names, result) in data.getStaticCallTrees():\n",
    "#     print(staticCallId, names, result['displayName'])\n",
    "#     bceTraces = traces[traces['staticTraceId'] == staticCallId]\n",
    "#     callTracesDf = traces.query(f'callId in @bceTraces.traceId or resultCallId in @bceTraces.traceId')\n",
    "#     display(callTracesDf)\n",
    "\n",
    "df = staticTraces.drop('loc', axis=1).query(f'callId != 0 or resultCallId != 0 or type == 5')\n",
    "df\n",
    "# df.iloc[63:]\n",
    "# df = data.collections.traces.query(f'callId != 0 or resultCallId != 0')\n",
    "# df"
   ]
  },
  {
   "cell_type": "code",
   "execution_count": null,
   "metadata": {},
   "outputs": [],
   "source": []
  }
 ]
}