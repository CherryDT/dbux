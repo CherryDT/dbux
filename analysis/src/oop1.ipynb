{
 "nbformat": 4,
 "nbformat_minor": 2,
 "metadata": {
  "language_info": {
   "name": "python",
   "codemirror_mode": {
    "name": "ipython",
    "version": 3
   },
   "version": "3.7.5-final"
  },
  "orig_nbformat": 2,
  "file_extension": ".py",
  "mimetype": "text/x-python",
  "name": "python",
  "npconvert_exporter": "python",
  "pygments_lexer": "ipython3",
  "version": 3,
  "kernelspec": {
   "name": "python3",
   "display_name": "Python 3"
  }
 },
 "cells": [
  {
   "cell_type": "code",
   "execution_count": 1,
   "metadata": {},
   "outputs": [],
   "source": [
    "############################################################################################\n",
    "# Init\n",
    "############################################################################################\n",
    "\n",
    "import __init__\n",
    "\n",
    "# enable autoreload (see https://ipython.readthedocs.io/en/stable/config/extensions/autoreload.html)\n",
    "%load_ext autoreload\n",
    "%autoreload 2\n",
    "\n",
    "import pandas as pd \n",
    "import numpy as np\n",
    "import seaborn as sns #visualisation\n",
    "import matplotlib.pyplot as plt #visualisation\n",
    "from util.loadUtil import loadDbuxFile, collectionDf\n",
    "from data.DataProvider import DataProvider\n",
    "\n",
    "%matplotlib inline \n",
    "sns.set(color_codes=True)"
   ]
  },
  {
   "cell_type": "code",
   "execution_count": 9,
   "metadata": {
    "tags": [
     "outputPrepend"
    ]
   },
   "outputs": [
    {
     "output_type": "execute_result",
     "data": {
      "text/plain": "    type  staticContextId  staticTraceId  \\\n50     7                8             51   \n51    10                8             52   \n52     7                8             53   \n53    10                8             54   \n54     8                9             55   \n55     9                9             56   \n56     5                9             57   \n57     9                9             58   \n58     9                9             59   \n59     9                9             60   \n60     7                9             61   \n61     7                9             62   \n62    10                9             63   \n63     7                8             64   \n64    10                9             65   \n65     5                8             66   \n66     9                8             67   \n67     7                8             68   \n68     5                1             69   \n69     7                1             70   \n\n                                          displayName  resultCallId  callId  \n50                                           Array(1)            50       0  \n51                                                  1             0      50  \n52                                   Array(1).fill(0)            49       0  \n53                                                  0             0      49  \n54  new AnimalClasses[Math.floor(Math.random() * A...             0       0  \n55                                      AnimalClasses             0       0  \n56   Math.floor(Math.random() * AnimalClasses.length)             0       0  \n57                                               Math             0       0  \n58                               AnimalClasses.length             0       0  \n59                                               Math             0       0  \n60                                      Math.random()             0       0  \n61   Math.floor(Math.random() * AnimalClasses.length)            57       0  \n62               Math.random() * AnimalClasses.length             0      57  \n63  Array(1).fill(0).map(i => { // const AnimalCla...             0       0  \n64                          [cb] Array(1).fill(0).map             0       0  \n65                                     animal.speak()             0       0  \n66                                             animal             0       0  \n67                                     animal.speak()            66       0  \n68                                             main()             0       0  \n69                                             main()            69       0  ",
      "text/html": "<div>\n<style scoped>\n    .dataframe tbody tr th:only-of-type {\n        vertical-align: middle;\n    }\n\n    .dataframe tbody tr th {\n        vertical-align: top;\n    }\n\n    .dataframe thead th {\n        text-align: right;\n    }\n</style>\n<table border=\"1\" class=\"dataframe\">\n  <thead>\n    <tr style=\"text-align: right;\">\n      <th></th>\n      <th>type</th>\n      <th>staticContextId</th>\n      <th>staticTraceId</th>\n      <th>displayName</th>\n      <th>resultCallId</th>\n      <th>callId</th>\n    </tr>\n  </thead>\n  <tbody>\n    <tr>\n      <td>50</td>\n      <td>7</td>\n      <td>8</td>\n      <td>51</td>\n      <td>Array(1)</td>\n      <td>50</td>\n      <td>0</td>\n    </tr>\n    <tr>\n      <td>51</td>\n      <td>10</td>\n      <td>8</td>\n      <td>52</td>\n      <td>1</td>\n      <td>0</td>\n      <td>50</td>\n    </tr>\n    <tr>\n      <td>52</td>\n      <td>7</td>\n      <td>8</td>\n      <td>53</td>\n      <td>Array(1).fill(0)</td>\n      <td>49</td>\n      <td>0</td>\n    </tr>\n    <tr>\n      <td>53</td>\n      <td>10</td>\n      <td>8</td>\n      <td>54</td>\n      <td>0</td>\n      <td>0</td>\n      <td>49</td>\n    </tr>\n    <tr>\n      <td>54</td>\n      <td>8</td>\n      <td>9</td>\n      <td>55</td>\n      <td>new AnimalClasses[Math.floor(Math.random() * A...</td>\n      <td>0</td>\n      <td>0</td>\n    </tr>\n    <tr>\n      <td>55</td>\n      <td>9</td>\n      <td>9</td>\n      <td>56</td>\n      <td>AnimalClasses</td>\n      <td>0</td>\n      <td>0</td>\n    </tr>\n    <tr>\n      <td>56</td>\n      <td>5</td>\n      <td>9</td>\n      <td>57</td>\n      <td>Math.floor(Math.random() * AnimalClasses.length)</td>\n      <td>0</td>\n      <td>0</td>\n    </tr>\n    <tr>\n      <td>57</td>\n      <td>9</td>\n      <td>9</td>\n      <td>58</td>\n      <td>Math</td>\n      <td>0</td>\n      <td>0</td>\n    </tr>\n    <tr>\n      <td>58</td>\n      <td>9</td>\n      <td>9</td>\n      <td>59</td>\n      <td>AnimalClasses.length</td>\n      <td>0</td>\n      <td>0</td>\n    </tr>\n    <tr>\n      <td>59</td>\n      <td>9</td>\n      <td>9</td>\n      <td>60</td>\n      <td>Math</td>\n      <td>0</td>\n      <td>0</td>\n    </tr>\n    <tr>\n      <td>60</td>\n      <td>7</td>\n      <td>9</td>\n      <td>61</td>\n      <td>Math.random()</td>\n      <td>0</td>\n      <td>0</td>\n    </tr>\n    <tr>\n      <td>61</td>\n      <td>7</td>\n      <td>9</td>\n      <td>62</td>\n      <td>Math.floor(Math.random() * AnimalClasses.length)</td>\n      <td>57</td>\n      <td>0</td>\n    </tr>\n    <tr>\n      <td>62</td>\n      <td>10</td>\n      <td>9</td>\n      <td>63</td>\n      <td>Math.random() * AnimalClasses.length</td>\n      <td>0</td>\n      <td>57</td>\n    </tr>\n    <tr>\n      <td>63</td>\n      <td>7</td>\n      <td>8</td>\n      <td>64</td>\n      <td>Array(1).fill(0).map(i =&gt; { // const AnimalCla...</td>\n      <td>0</td>\n      <td>0</td>\n    </tr>\n    <tr>\n      <td>64</td>\n      <td>10</td>\n      <td>9</td>\n      <td>65</td>\n      <td>[cb] Array(1).fill(0).map</td>\n      <td>0</td>\n      <td>0</td>\n    </tr>\n    <tr>\n      <td>65</td>\n      <td>5</td>\n      <td>8</td>\n      <td>66</td>\n      <td>animal.speak()</td>\n      <td>0</td>\n      <td>0</td>\n    </tr>\n    <tr>\n      <td>66</td>\n      <td>9</td>\n      <td>8</td>\n      <td>67</td>\n      <td>animal</td>\n      <td>0</td>\n      <td>0</td>\n    </tr>\n    <tr>\n      <td>67</td>\n      <td>7</td>\n      <td>8</td>\n      <td>68</td>\n      <td>animal.speak()</td>\n      <td>66</td>\n      <td>0</td>\n    </tr>\n    <tr>\n      <td>68</td>\n      <td>5</td>\n      <td>1</td>\n      <td>69</td>\n      <td>main()</td>\n      <td>0</td>\n      <td>0</td>\n    </tr>\n    <tr>\n      <td>69</td>\n      <td>7</td>\n      <td>1</td>\n      <td>70</td>\n      <td>main()</td>\n      <td>69</td>\n      <td>0</td>\n    </tr>\n  </tbody>\n</table>\n</div>"
     },
     "metadata": {},
     "execution_count": 9
    }
   ],
   "source": [
    "# load all data\n",
    "\n",
    "data = DataProvider('oop1_data.json')\n",
    "\n",
    "'''\n",
    "analyze call tree bug: 74 vs. (66, 67, 68)\n",
    "'''\n",
    "\n",
    "staticTraces = data.collections.staticTraces\n",
    "traces = data.collections.traces\n",
    "\n",
    "# for (staticCallId, names, result) in data.getStaticCallTrees():\n",
    "#     print(staticCallId, names, result['displayName'])\n",
    "#     bceTraces = traces[traces['staticTraceId'] == staticCallId]\n",
    "#     callTracesDf = traces.query(f'callId in @bceTraces.traceId or resultCallId in @bceTraces.traceId')\n",
    "#     display(callTracesDf)\n",
    "\n",
    "df = staticTraces.drop('loc', axis=1) #.query(f'callId != 0 or resultCallId != 0 or type == 5')\n",
    "# df\n",
    "df.iloc[50:]\n",
    "# df = data.collections.traces.query(f'callId != 0 or resultCallId != 0')\n",
    "# df"
   ]
  },
  {
   "cell_type": "code",
   "execution_count": null,
   "metadata": {},
   "outputs": [],
   "source": []
  }
 ]
}