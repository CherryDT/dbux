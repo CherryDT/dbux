{
 "nbformat": 4,
 "nbformat_minor": 2,
 "metadata": {
  "language_info": {
   "name": "python",
   "codemirror_mode": {
    "name": "ipython",
    "version": 3
   },
   "version": "3.7.4-final"
  },
  "orig_nbformat": 2,
  "file_extension": ".py",
  "mimetype": "text/x-python",
  "name": "python",
  "npconvert_exporter": "python",
  "pygments_lexer": "ipython3",
  "version": 3,
  "kernelspec": {
   "name": "python3",
   "display_name": "Python 3"
  }
 },
 "cells": [
  {
   "cell_type": "code",
   "execution_count": 2,
   "metadata": {},
   "outputs": [],
   "source": [
    "############################################################################################\n",
    "# Init\n",
    "############################################################################################\n",
    "\n",
    "# enable autoreload (see https://ipython.readthedocs.io/en/stable/config/extensions/autoreload.html)\n",
    "%load_ext autoreload\n",
    "%autoreload 2\n",
    "\n",
    "import pandas as pd \n",
    "import numpy as np\n",
    "from math import isnan\n",
    "import seaborn as sns #visualisation\n",
    "import matplotlib.pyplot as plt #visualisation\n",
    "from util.loadUtil import loadDbuxFile, collectionDf\n",
    "\n",
    "%matplotlib inline \n",
    "sns.set(color_codes=True)"
   ]
  },
  {
   "cell_type": "code",
   "execution_count": 5,
   "metadata": {
    "tags": [
     "outputPrepend"
    ]
   },
   "outputs": [
    {
     "output_type": "stream",
     "name": "stdout",
     "text": "16\n"
    },
    {
     "output_type": "execute_result",
     "data": {
      "text/plain": "                                                  loc  type  staticContextId  \\\n19  {'start': {'line': 4, 'column': 11, '_pos': {'...     7                2   \n20  {'start': {'line': 4, 'column': 15, '_pos': {'...    10                2   \n21  {'start': {'line': 4, 'column': 18, '_pos': {'...    10                2   \n23  {'start': {'line': 4, 'column': 8, '_pos': {'l...    10                2   \n30  {'start': {'line': 5, 'column': 18, '_pos': {'...     7                2   \n31  {'start': {'line': 5, 'column': 32, '_pos': {'...    10                3   \n32  {'start': {'line': 5, 'column': 11, '_pos': {'...     7                2   \n33  {'start': {'line': 5, 'column': 15, '_pos': {'...    10                2   \n35  {'start': {'line': 5, 'column': 8, '_pos': {'l...    10                2   \n41  {'start': {'line': 8, 'column': 4, '_pos': {'l...     7                2   \n42  {'start': {'line': 8, 'column': 8, '_pos': {'l...    10                2   \n43  {'start': {'line': 8, 'column': 11, '_pos': {'...    10                2   \n49  {'start': {'line': 9, 'column': 56, '_pos': {'...    10                4   \n50  {'start': {'line': 9, 'column': 59, '_pos': {'...    10                4   \n51  {'start': {'line': 9, 'column': 4, '_pos': {'l...     7                2   \n52  {'start': {'line': 9, 'column': 37, '_pos': {'...    10                4   \n\n    staticTraceId                                        displayName  callId  \\\n19             20                                          mul(2, 3)      18   \n20             21                                                  2      19   \n21             22                                                  3      19   \n23             24                                                  c      18   \n30             31                     [7, 8].reduce((a, x) => a + x)      26   \n31             32                                 [cb] [7, 8].reduce      27   \n32             33             mul(6, [7, 8].reduce((a, x) => a + x))      25   \n33             34                                                  6      26   \n35             36                                                  5      25   \n41             42                                      add(d, - 100)      38   \n42             43                                                  d      40   \n43             44                                              - 100      40   \n49             50                                                  a      47   \n50             51                                                  x      47   \n51             52  [100, 20, 33, 4, 5, 6, 7].reduce((a, x) => Mat...      38   \n52             53              [cb] [100, 20, 33, 4, 5, 6, 7].reduce      45   \n\n    resultCallId  \n19            19  \n20             0  \n21             0  \n23             0  \n30            27  \n31             0  \n32            26  \n33             0  \n35             0  \n41            40  \n42             0  \n43             0  \n49             0  \n50             0  \n51            45  \n52             0  ",
      "text/html": "<div>\n<style scoped>\n    .dataframe tbody tr th:only-of-type {\n        vertical-align: middle;\n    }\n\n    .dataframe tbody tr th {\n        vertical-align: top;\n    }\n\n    .dataframe thead th {\n        text-align: right;\n    }\n</style>\n<table border=\"1\" class=\"dataframe\">\n  <thead>\n    <tr style=\"text-align: right;\">\n      <th></th>\n      <th>loc</th>\n      <th>type</th>\n      <th>staticContextId</th>\n      <th>staticTraceId</th>\n      <th>displayName</th>\n      <th>callId</th>\n      <th>resultCallId</th>\n    </tr>\n  </thead>\n  <tbody>\n    <tr>\n      <td>19</td>\n      <td>{'start': {'line': 4, 'column': 11, '_pos': {'...</td>\n      <td>7</td>\n      <td>2</td>\n      <td>20</td>\n      <td>mul(2, 3)</td>\n      <td>18</td>\n      <td>19</td>\n    </tr>\n    <tr>\n      <td>20</td>\n      <td>{'start': {'line': 4, 'column': 15, '_pos': {'...</td>\n      <td>10</td>\n      <td>2</td>\n      <td>21</td>\n      <td>2</td>\n      <td>19</td>\n      <td>0</td>\n    </tr>\n    <tr>\n      <td>21</td>\n      <td>{'start': {'line': 4, 'column': 18, '_pos': {'...</td>\n      <td>10</td>\n      <td>2</td>\n      <td>22</td>\n      <td>3</td>\n      <td>19</td>\n      <td>0</td>\n    </tr>\n    <tr>\n      <td>23</td>\n      <td>{'start': {'line': 4, 'column': 8, '_pos': {'l...</td>\n      <td>10</td>\n      <td>2</td>\n      <td>24</td>\n      <td>c</td>\n      <td>18</td>\n      <td>0</td>\n    </tr>\n    <tr>\n      <td>30</td>\n      <td>{'start': {'line': 5, 'column': 18, '_pos': {'...</td>\n      <td>7</td>\n      <td>2</td>\n      <td>31</td>\n      <td>[7, 8].reduce((a, x) =&gt; a + x)</td>\n      <td>26</td>\n      <td>27</td>\n    </tr>\n    <tr>\n      <td>31</td>\n      <td>{'start': {'line': 5, 'column': 32, '_pos': {'...</td>\n      <td>10</td>\n      <td>3</td>\n      <td>32</td>\n      <td>[cb] [7, 8].reduce</td>\n      <td>27</td>\n      <td>0</td>\n    </tr>\n    <tr>\n      <td>32</td>\n      <td>{'start': {'line': 5, 'column': 11, '_pos': {'...</td>\n      <td>7</td>\n      <td>2</td>\n      <td>33</td>\n      <td>mul(6, [7, 8].reduce((a, x) =&gt; a + x))</td>\n      <td>25</td>\n      <td>26</td>\n    </tr>\n    <tr>\n      <td>33</td>\n      <td>{'start': {'line': 5, 'column': 15, '_pos': {'...</td>\n      <td>10</td>\n      <td>2</td>\n      <td>34</td>\n      <td>6</td>\n      <td>26</td>\n      <td>0</td>\n    </tr>\n    <tr>\n      <td>35</td>\n      <td>{'start': {'line': 5, 'column': 8, '_pos': {'l...</td>\n      <td>10</td>\n      <td>2</td>\n      <td>36</td>\n      <td>5</td>\n      <td>25</td>\n      <td>0</td>\n    </tr>\n    <tr>\n      <td>41</td>\n      <td>{'start': {'line': 8, 'column': 4, '_pos': {'l...</td>\n      <td>7</td>\n      <td>2</td>\n      <td>42</td>\n      <td>add(d, - 100)</td>\n      <td>38</td>\n      <td>40</td>\n    </tr>\n    <tr>\n      <td>42</td>\n      <td>{'start': {'line': 8, 'column': 8, '_pos': {'l...</td>\n      <td>10</td>\n      <td>2</td>\n      <td>43</td>\n      <td>d</td>\n      <td>40</td>\n      <td>0</td>\n    </tr>\n    <tr>\n      <td>43</td>\n      <td>{'start': {'line': 8, 'column': 11, '_pos': {'...</td>\n      <td>10</td>\n      <td>2</td>\n      <td>44</td>\n      <td>- 100</td>\n      <td>40</td>\n      <td>0</td>\n    </tr>\n    <tr>\n      <td>49</td>\n      <td>{'start': {'line': 9, 'column': 56, '_pos': {'...</td>\n      <td>10</td>\n      <td>4</td>\n      <td>50</td>\n      <td>a</td>\n      <td>47</td>\n      <td>0</td>\n    </tr>\n    <tr>\n      <td>50</td>\n      <td>{'start': {'line': 9, 'column': 59, '_pos': {'...</td>\n      <td>10</td>\n      <td>4</td>\n      <td>51</td>\n      <td>x</td>\n      <td>47</td>\n      <td>0</td>\n    </tr>\n    <tr>\n      <td>51</td>\n      <td>{'start': {'line': 9, 'column': 4, '_pos': {'l...</td>\n      <td>7</td>\n      <td>2</td>\n      <td>52</td>\n      <td>[100, 20, 33, 4, 5, 6, 7].reduce((a, x) =&gt; Mat...</td>\n      <td>38</td>\n      <td>45</td>\n    </tr>\n    <tr>\n      <td>52</td>\n      <td>{'start': {'line': 9, 'column': 37, '_pos': {'...</td>\n      <td>10</td>\n      <td>4</td>\n      <td>53</td>\n      <td>[cb] [100, 20, 33, 4, 5, 6, 7].reduce</td>\n      <td>45</td>\n      <td>0</td>\n    </tr>\n  </tbody>\n</table>\n</div>"
     },
     "metadata": {},
     "execution_count": 5
    }
   ],
   "source": [
    "# load all data\n",
    "\n",
    "rawData = loadDbuxFile('calls1.js_data.json')\n",
    "\n",
    "staticContexts = collectionDf(rawData, 'staticContexts')\n",
    "staticTraces = collectionDf(rawData, 'staticTraces')\n",
    "contexts = collectionDf(rawData, 'executionContexts')\n",
    "traces = collectionDf(rawData, 'traces')\n",
    "\n",
    "# staticContexts[staticContexts.columns[~staticContexts.columns.isin(['loc'])]]\n",
    "allFunctionNames = staticContexts[['displayName']].to_numpy().flatten().tolist()\n",
    "\n",
    "\n",
    "# for some reason, some columns were loaded as `float`\n",
    "staticTraces['callId'] = staticTraces['callId'].astype(int) \n",
    "staticTraces['resultCallId'] = staticTraces['resultCallId'].astype(int) \n",
    "\n",
    "callLinked = staticTraces[~staticTraces['callId'].isin([0])]\n",
    "print(len(callLinked))\n",
    "callLinked\n",
    "\n",
    "# staticTraces"
   ]
  },
  {
   "cell_type": "code",
   "execution_count": null,
   "metadata": {},
   "outputs": [],
   "source": []
  }
 ]
}