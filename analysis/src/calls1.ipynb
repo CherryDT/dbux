{
 "nbformat": 4,
 "nbformat_minor": 2,
 "metadata": {
  "language_info": {
   "name": "python",
   "codemirror_mode": {
    "name": "ipython",
    "version": 3
   },
   "version": "3.7.4-final"
  },
  "orig_nbformat": 2,
  "file_extension": ".py",
  "mimetype": "text/x-python",
  "name": "python",
  "npconvert_exporter": "python",
  "pygments_lexer": "ipython3",
  "version": 3,
  "kernelspec": {
   "name": "python3",
   "display_name": "Python 3"
  }
 },
 "cells": [
  {
   "cell_type": "code",
   "execution_count": 1,
   "metadata": {},
   "outputs": [],
   "source": [
    "############################################################################################\n",
    "# Init\n",
    "############################################################################################\n",
    "\n",
    "import __init__\n",
    "\n",
    "# enable autoreload (see https://ipython.readthedocs.io/en/stable/config/extensions/autoreload.html)\n",
    "%load_ext autoreload\n",
    "%autoreload 2\n",
    "import pandas as pd \n",
    "import numpy as np\n",
    "\n",
    "from data.DataProvider import DataProvider\n",
    "\n",
    "# visualization + display\n",
    "import seaborn as sns\n",
    "import matplotlib.pyplot as plt\n",
    "from IPython.display import display, HTML\n",
    "\n",
    "%matplotlib inline \n",
    "sns.set(color_codes=True)"
   ]
  },
  {
   "cell_type": "code",
   "execution_count": 2,
   "metadata": {
    "tags": []
   },
   "outputs": [
    {
     "output_type": "stream",
     "name": "stdout",
     "text": "static traces (by staticContext)\n"
    },
    {
     "output_type": "display_data",
     "data": {
      "text/plain": "    _callId  type  staticContextId  staticTraceId  \\\n0     False     1                1              1   \n1     False     2                1              2   \n2     False    22                1              3   \n125   False     7                1            126   \n126   False     7                1            127   \n127       0     4                1            128   \n128   False     6                1            129   \n\n                                           displayName  callId  resultCallId  \n0                                                    0       0             0  \n1                                                    0       0             0  \n2                                                    0       0             0  \n125  a = { get b() { return { f(x) { console.log('f...       0             0  \n126                                               main       0             0  \n127                                             main()     128             0  \n128                                             main()       0           128  ",
      "text/html": "<div>\n<style scoped>\n    .dataframe tbody tr th:only-of-type {\n        vertical-align: middle;\n    }\n\n    .dataframe tbody tr th {\n        vertical-align: top;\n    }\n\n    .dataframe thead th {\n        text-align: right;\n    }\n</style>\n<table border=\"1\" class=\"dataframe\">\n  <thead>\n    <tr style=\"text-align: right;\">\n      <th></th>\n      <th>_callId</th>\n      <th>type</th>\n      <th>staticContextId</th>\n      <th>staticTraceId</th>\n      <th>displayName</th>\n      <th>callId</th>\n      <th>resultCallId</th>\n    </tr>\n  </thead>\n  <tbody>\n    <tr>\n      <td>0</td>\n      <td>False</td>\n      <td>1</td>\n      <td>1</td>\n      <td>1</td>\n      <td>0</td>\n      <td>0</td>\n      <td>0</td>\n    </tr>\n    <tr>\n      <td>1</td>\n      <td>False</td>\n      <td>2</td>\n      <td>1</td>\n      <td>2</td>\n      <td>0</td>\n      <td>0</td>\n      <td>0</td>\n    </tr>\n    <tr>\n      <td>2</td>\n      <td>False</td>\n      <td>22</td>\n      <td>1</td>\n      <td>3</td>\n      <td>0</td>\n      <td>0</td>\n      <td>0</td>\n    </tr>\n    <tr>\n      <td>125</td>\n      <td>False</td>\n      <td>7</td>\n      <td>1</td>\n      <td>126</td>\n      <td>a = { get b() { return { f(x) { console.log('f...</td>\n      <td>0</td>\n      <td>0</td>\n    </tr>\n    <tr>\n      <td>126</td>\n      <td>False</td>\n      <td>7</td>\n      <td>1</td>\n      <td>127</td>\n      <td>main</td>\n      <td>0</td>\n      <td>0</td>\n    </tr>\n    <tr>\n      <td>127</td>\n      <td>0</td>\n      <td>4</td>\n      <td>1</td>\n      <td>128</td>\n      <td>main()</td>\n      <td>128</td>\n      <td>0</td>\n    </tr>\n    <tr>\n      <td>128</td>\n      <td>False</td>\n      <td>6</td>\n      <td>1</td>\n      <td>129</td>\n      <td>main()</td>\n      <td>0</td>\n      <td>128</td>\n    </tr>\n  </tbody>\n</table>\n</div>"
     },
     "metadata": {}
    },
    {
     "output_type": "display_data",
     "data": {
      "text/plain": "   _callId  type  staticContextId  staticTraceId                displayName  \\\n3    False     1                2              4                          0   \n4    False     2                2              5                          0   \n5    False    22                2              6                          0   \n6    False     8                2              7                        'i'   \n7        0     4                2              8               a['i'](3, 4)   \n..     ...   ...              ...            ...                        ...   \n75       0     4                2             76        a.g?.().bob?.x?.(2)   \n76       0     9                2             77                          2   \n77       0     6                2             78        a.g?.().bob?.x?.(2)   \n78       0     4                2             79  a?.i(a.g?.().bob?.x?.(2))   \n79   False     6                2             80  a?.i(a.g?.().bob?.x?.(2))   \n\n    callId  resultCallId  \n3        0             0  \n4        0             0  \n5        0             0  \n6        0             0  \n7        8             0  \n..     ...           ...  \n75      76             0  \n76      76             0  \n77      79            76  \n78      79             0  \n79       0            79  \n\n[77 rows x 7 columns]",
      "text/html": "<div>\n<style scoped>\n    .dataframe tbody tr th:only-of-type {\n        vertical-align: middle;\n    }\n\n    .dataframe tbody tr th {\n        vertical-align: top;\n    }\n\n    .dataframe thead th {\n        text-align: right;\n    }\n</style>\n<table border=\"1\" class=\"dataframe\">\n  <thead>\n    <tr style=\"text-align: right;\">\n      <th></th>\n      <th>_callId</th>\n      <th>type</th>\n      <th>staticContextId</th>\n      <th>staticTraceId</th>\n      <th>displayName</th>\n      <th>callId</th>\n      <th>resultCallId</th>\n    </tr>\n  </thead>\n  <tbody>\n    <tr>\n      <td>3</td>\n      <td>False</td>\n      <td>1</td>\n      <td>2</td>\n      <td>4</td>\n      <td>0</td>\n      <td>0</td>\n      <td>0</td>\n    </tr>\n    <tr>\n      <td>4</td>\n      <td>False</td>\n      <td>2</td>\n      <td>2</td>\n      <td>5</td>\n      <td>0</td>\n      <td>0</td>\n      <td>0</td>\n    </tr>\n    <tr>\n      <td>5</td>\n      <td>False</td>\n      <td>22</td>\n      <td>2</td>\n      <td>6</td>\n      <td>0</td>\n      <td>0</td>\n      <td>0</td>\n    </tr>\n    <tr>\n      <td>6</td>\n      <td>False</td>\n      <td>8</td>\n      <td>2</td>\n      <td>7</td>\n      <td>'i'</td>\n      <td>0</td>\n      <td>0</td>\n    </tr>\n    <tr>\n      <td>7</td>\n      <td>0</td>\n      <td>4</td>\n      <td>2</td>\n      <td>8</td>\n      <td>a['i'](3, 4)</td>\n      <td>8</td>\n      <td>0</td>\n    </tr>\n    <tr>\n      <td>...</td>\n      <td>...</td>\n      <td>...</td>\n      <td>...</td>\n      <td>...</td>\n      <td>...</td>\n      <td>...</td>\n      <td>...</td>\n    </tr>\n    <tr>\n      <td>75</td>\n      <td>0</td>\n      <td>4</td>\n      <td>2</td>\n      <td>76</td>\n      <td>a.g?.().bob?.x?.(2)</td>\n      <td>76</td>\n      <td>0</td>\n    </tr>\n    <tr>\n      <td>76</td>\n      <td>0</td>\n      <td>9</td>\n      <td>2</td>\n      <td>77</td>\n      <td>2</td>\n      <td>76</td>\n      <td>0</td>\n    </tr>\n    <tr>\n      <td>77</td>\n      <td>0</td>\n      <td>6</td>\n      <td>2</td>\n      <td>78</td>\n      <td>a.g?.().bob?.x?.(2)</td>\n      <td>79</td>\n      <td>76</td>\n    </tr>\n    <tr>\n      <td>78</td>\n      <td>0</td>\n      <td>4</td>\n      <td>2</td>\n      <td>79</td>\n      <td>a?.i(a.g?.().bob?.x?.(2))</td>\n      <td>79</td>\n      <td>0</td>\n    </tr>\n    <tr>\n      <td>79</td>\n      <td>False</td>\n      <td>6</td>\n      <td>2</td>\n      <td>80</td>\n      <td>a?.i(a.g?.().bob?.x?.(2))</td>\n      <td>0</td>\n      <td>79</td>\n    </tr>\n  </tbody>\n</table>\n<p>77 rows × 7 columns</p>\n</div>"
     },
     "metadata": {}
    },
    {
     "output_type": "display_data",
     "data": {
      "text/plain": "   _callId  type  staticContextId  staticTraceId          displayName  callId  \\\n80   False     1                3             81                    0       0   \n81   False     2                3             82                    0       0   \n82   False    22                3             83                    0       0   \n83       0     4                3             84  console.log('f', x)      84   \n84       0     9                3             85                  'f'      84   \n85       0     9                3             86                    x      84   \n86   False     6                3             87  console.log('f', x)       0   \n87   False    16                3             88                    x       0   \n\n    resultCallId  \n80             0  \n81             0  \n82             0  \n83             0  \n84             0  \n85             0  \n86            84  \n87             0  ",
      "text/html": "<div>\n<style scoped>\n    .dataframe tbody tr th:only-of-type {\n        vertical-align: middle;\n    }\n\n    .dataframe tbody tr th {\n        vertical-align: top;\n    }\n\n    .dataframe thead th {\n        text-align: right;\n    }\n</style>\n<table border=\"1\" class=\"dataframe\">\n  <thead>\n    <tr style=\"text-align: right;\">\n      <th></th>\n      <th>_callId</th>\n      <th>type</th>\n      <th>staticContextId</th>\n      <th>staticTraceId</th>\n      <th>displayName</th>\n      <th>callId</th>\n      <th>resultCallId</th>\n    </tr>\n  </thead>\n  <tbody>\n    <tr>\n      <td>80</td>\n      <td>False</td>\n      <td>1</td>\n      <td>3</td>\n      <td>81</td>\n      <td>0</td>\n      <td>0</td>\n      <td>0</td>\n    </tr>\n    <tr>\n      <td>81</td>\n      <td>False</td>\n      <td>2</td>\n      <td>3</td>\n      <td>82</td>\n      <td>0</td>\n      <td>0</td>\n      <td>0</td>\n    </tr>\n    <tr>\n      <td>82</td>\n      <td>False</td>\n      <td>22</td>\n      <td>3</td>\n      <td>83</td>\n      <td>0</td>\n      <td>0</td>\n      <td>0</td>\n    </tr>\n    <tr>\n      <td>83</td>\n      <td>0</td>\n      <td>4</td>\n      <td>3</td>\n      <td>84</td>\n      <td>console.log('f', x)</td>\n      <td>84</td>\n      <td>0</td>\n    </tr>\n    <tr>\n      <td>84</td>\n      <td>0</td>\n      <td>9</td>\n      <td>3</td>\n      <td>85</td>\n      <td>'f'</td>\n      <td>84</td>\n      <td>0</td>\n    </tr>\n    <tr>\n      <td>85</td>\n      <td>0</td>\n      <td>9</td>\n      <td>3</td>\n      <td>86</td>\n      <td>x</td>\n      <td>84</td>\n      <td>0</td>\n    </tr>\n    <tr>\n      <td>86</td>\n      <td>False</td>\n      <td>6</td>\n      <td>3</td>\n      <td>87</td>\n      <td>console.log('f', x)</td>\n      <td>0</td>\n      <td>84</td>\n    </tr>\n    <tr>\n      <td>87</td>\n      <td>False</td>\n      <td>16</td>\n      <td>3</td>\n      <td>88</td>\n      <td>x</td>\n      <td>0</td>\n      <td>0</td>\n    </tr>\n  </tbody>\n</table>\n</div>"
     },
     "metadata": {}
    },
    {
     "output_type": "display_data",
     "data": {
      "text/plain": "   _callId  type  staticContextId  staticTraceId  \\\n88   False     1                4             89   \n89   False     2                4             90   \n90   False    22                4             91   \n98   False    16                4             99   \n\n                          displayName  callId  resultCallId  \n88                                  0       0             0  \n89                                  0       0             0  \n90                                  0       0             0  \n98  { f(x) { console.log('f', x); } }       0             0  ",
      "text/html": "<div>\n<style scoped>\n    .dataframe tbody tr th:only-of-type {\n        vertical-align: middle;\n    }\n\n    .dataframe tbody tr th {\n        vertical-align: top;\n    }\n\n    .dataframe thead th {\n        text-align: right;\n    }\n</style>\n<table border=\"1\" class=\"dataframe\">\n  <thead>\n    <tr style=\"text-align: right;\">\n      <th></th>\n      <th>_callId</th>\n      <th>type</th>\n      <th>staticContextId</th>\n      <th>staticTraceId</th>\n      <th>displayName</th>\n      <th>callId</th>\n      <th>resultCallId</th>\n    </tr>\n  </thead>\n  <tbody>\n    <tr>\n      <td>88</td>\n      <td>False</td>\n      <td>1</td>\n      <td>4</td>\n      <td>89</td>\n      <td>0</td>\n      <td>0</td>\n      <td>0</td>\n    </tr>\n    <tr>\n      <td>89</td>\n      <td>False</td>\n      <td>2</td>\n      <td>4</td>\n      <td>90</td>\n      <td>0</td>\n      <td>0</td>\n      <td>0</td>\n    </tr>\n    <tr>\n      <td>90</td>\n      <td>False</td>\n      <td>22</td>\n      <td>4</td>\n      <td>91</td>\n      <td>0</td>\n      <td>0</td>\n      <td>0</td>\n    </tr>\n    <tr>\n      <td>98</td>\n      <td>False</td>\n      <td>16</td>\n      <td>4</td>\n      <td>99</td>\n      <td>{ f(x) { console.log('f', x); } }</td>\n      <td>0</td>\n      <td>0</td>\n    </tr>\n  </tbody>\n</table>\n</div>"
     },
     "metadata": {}
    },
    {
     "output_type": "display_data",
     "data": {
      "text/plain": "   _callId  type  staticContextId  staticTraceId          displayName  callId  \\\n91   False     1                5             92                    0       0   \n92   False     2                5             93                    0       0   \n93   False    22                5             94                    0       0   \n94       0     4                5             95  console.log('f', x)      95   \n95       0     9                5             96                  'f'      95   \n96       0     9                5             97                    x      95   \n97   False     6                5             98  console.log('f', x)       0   \n\n    resultCallId  \n91             0  \n92             0  \n93             0  \n94             0  \n95             0  \n96             0  \n97            95  ",
      "text/html": "<div>\n<style scoped>\n    .dataframe tbody tr th:only-of-type {\n        vertical-align: middle;\n    }\n\n    .dataframe tbody tr th {\n        vertical-align: top;\n    }\n\n    .dataframe thead th {\n        text-align: right;\n    }\n</style>\n<table border=\"1\" class=\"dataframe\">\n  <thead>\n    <tr style=\"text-align: right;\">\n      <th></th>\n      <th>_callId</th>\n      <th>type</th>\n      <th>staticContextId</th>\n      <th>staticTraceId</th>\n      <th>displayName</th>\n      <th>callId</th>\n      <th>resultCallId</th>\n    </tr>\n  </thead>\n  <tbody>\n    <tr>\n      <td>91</td>\n      <td>False</td>\n      <td>1</td>\n      <td>5</td>\n      <td>92</td>\n      <td>0</td>\n      <td>0</td>\n      <td>0</td>\n    </tr>\n    <tr>\n      <td>92</td>\n      <td>False</td>\n      <td>2</td>\n      <td>5</td>\n      <td>93</td>\n      <td>0</td>\n      <td>0</td>\n      <td>0</td>\n    </tr>\n    <tr>\n      <td>93</td>\n      <td>False</td>\n      <td>22</td>\n      <td>5</td>\n      <td>94</td>\n      <td>0</td>\n      <td>0</td>\n      <td>0</td>\n    </tr>\n    <tr>\n      <td>94</td>\n      <td>0</td>\n      <td>4</td>\n      <td>5</td>\n      <td>95</td>\n      <td>console.log('f', x)</td>\n      <td>95</td>\n      <td>0</td>\n    </tr>\n    <tr>\n      <td>95</td>\n      <td>0</td>\n      <td>9</td>\n      <td>5</td>\n      <td>96</td>\n      <td>'f'</td>\n      <td>95</td>\n      <td>0</td>\n    </tr>\n    <tr>\n      <td>96</td>\n      <td>0</td>\n      <td>9</td>\n      <td>5</td>\n      <td>97</td>\n      <td>x</td>\n      <td>95</td>\n      <td>0</td>\n    </tr>\n    <tr>\n      <td>97</td>\n      <td>False</td>\n      <td>6</td>\n      <td>5</td>\n      <td>98</td>\n      <td>console.log('f', x)</td>\n      <td>0</td>\n      <td>95</td>\n    </tr>\n  </tbody>\n</table>\n</div>"
     },
     "metadata": {}
    },
    {
     "output_type": "display_data",
     "data": {
      "text/plain": "    _callId  type  staticContextId  staticTraceId  \\\n99    False     1                6            100   \n100   False     2                6            101   \n101   False    22                6            102   \n102       0     4                6            103   \n103       0     9                6            104   \n104   False     6                6            105   \n112   False    16                6            113   \n\n                           displayName  callId  resultCallId  \n99                                   0       0             0  \n100                                  0       0             0  \n101                                  0       0             0  \n102                   console.log('g')     103             0  \n103                                'g'     103             0  \n104                   console.log('g')       0           103  \n112  { h(x) { console.log('h', x); } }       0             0  ",
      "text/html": "<div>\n<style scoped>\n    .dataframe tbody tr th:only-of-type {\n        vertical-align: middle;\n    }\n\n    .dataframe tbody tr th {\n        vertical-align: top;\n    }\n\n    .dataframe thead th {\n        text-align: right;\n    }\n</style>\n<table border=\"1\" class=\"dataframe\">\n  <thead>\n    <tr style=\"text-align: right;\">\n      <th></th>\n      <th>_callId</th>\n      <th>type</th>\n      <th>staticContextId</th>\n      <th>staticTraceId</th>\n      <th>displayName</th>\n      <th>callId</th>\n      <th>resultCallId</th>\n    </tr>\n  </thead>\n  <tbody>\n    <tr>\n      <td>99</td>\n      <td>False</td>\n      <td>1</td>\n      <td>6</td>\n      <td>100</td>\n      <td>0</td>\n      <td>0</td>\n      <td>0</td>\n    </tr>\n    <tr>\n      <td>100</td>\n      <td>False</td>\n      <td>2</td>\n      <td>6</td>\n      <td>101</td>\n      <td>0</td>\n      <td>0</td>\n      <td>0</td>\n    </tr>\n    <tr>\n      <td>101</td>\n      <td>False</td>\n      <td>22</td>\n      <td>6</td>\n      <td>102</td>\n      <td>0</td>\n      <td>0</td>\n      <td>0</td>\n    </tr>\n    <tr>\n      <td>102</td>\n      <td>0</td>\n      <td>4</td>\n      <td>6</td>\n      <td>103</td>\n      <td>console.log('g')</td>\n      <td>103</td>\n      <td>0</td>\n    </tr>\n    <tr>\n      <td>103</td>\n      <td>0</td>\n      <td>9</td>\n      <td>6</td>\n      <td>104</td>\n      <td>'g'</td>\n      <td>103</td>\n      <td>0</td>\n    </tr>\n    <tr>\n      <td>104</td>\n      <td>False</td>\n      <td>6</td>\n      <td>6</td>\n      <td>105</td>\n      <td>console.log('g')</td>\n      <td>0</td>\n      <td>103</td>\n    </tr>\n    <tr>\n      <td>112</td>\n      <td>False</td>\n      <td>16</td>\n      <td>6</td>\n      <td>113</td>\n      <td>{ h(x) { console.log('h', x); } }</td>\n      <td>0</td>\n      <td>0</td>\n    </tr>\n  </tbody>\n</table>\n</div>"
     },
     "metadata": {}
    },
    {
     "output_type": "display_data",
     "data": {
      "text/plain": "    _callId  type  staticContextId  staticTraceId          displayName  \\\n105   False     1                7            106                    0   \n106   False     2                7            107                    0   \n107   False    22                7            108                    0   \n108       0     4                7            109  console.log('h', x)   \n109       0     9                7            110                  'h'   \n110       0     9                7            111                    x   \n111   False     6                7            112  console.log('h', x)   \n\n     callId  resultCallId  \n105       0             0  \n106       0             0  \n107       0             0  \n108     109             0  \n109     109             0  \n110     109             0  \n111       0           109  ",
      "text/html": "<div>\n<style scoped>\n    .dataframe tbody tr th:only-of-type {\n        vertical-align: middle;\n    }\n\n    .dataframe tbody tr th {\n        vertical-align: top;\n    }\n\n    .dataframe thead th {\n        text-align: right;\n    }\n</style>\n<table border=\"1\" class=\"dataframe\">\n  <thead>\n    <tr style=\"text-align: right;\">\n      <th></th>\n      <th>_callId</th>\n      <th>type</th>\n      <th>staticContextId</th>\n      <th>staticTraceId</th>\n      <th>displayName</th>\n      <th>callId</th>\n      <th>resultCallId</th>\n    </tr>\n  </thead>\n  <tbody>\n    <tr>\n      <td>105</td>\n      <td>False</td>\n      <td>1</td>\n      <td>7</td>\n      <td>106</td>\n      <td>0</td>\n      <td>0</td>\n      <td>0</td>\n    </tr>\n    <tr>\n      <td>106</td>\n      <td>False</td>\n      <td>2</td>\n      <td>7</td>\n      <td>107</td>\n      <td>0</td>\n      <td>0</td>\n      <td>0</td>\n    </tr>\n    <tr>\n      <td>107</td>\n      <td>False</td>\n      <td>22</td>\n      <td>7</td>\n      <td>108</td>\n      <td>0</td>\n      <td>0</td>\n      <td>0</td>\n    </tr>\n    <tr>\n      <td>108</td>\n      <td>0</td>\n      <td>4</td>\n      <td>7</td>\n      <td>109</td>\n      <td>console.log('h', x)</td>\n      <td>109</td>\n      <td>0</td>\n    </tr>\n    <tr>\n      <td>109</td>\n      <td>0</td>\n      <td>9</td>\n      <td>7</td>\n      <td>110</td>\n      <td>'h'</td>\n      <td>109</td>\n      <td>0</td>\n    </tr>\n    <tr>\n      <td>110</td>\n      <td>0</td>\n      <td>9</td>\n      <td>7</td>\n      <td>111</td>\n      <td>x</td>\n      <td>109</td>\n      <td>0</td>\n    </tr>\n    <tr>\n      <td>111</td>\n      <td>False</td>\n      <td>6</td>\n      <td>7</td>\n      <td>112</td>\n      <td>console.log('h', x)</td>\n      <td>0</td>\n      <td>109</td>\n    </tr>\n  </tbody>\n</table>\n</div>"
     },
     "metadata": {}
    },
    {
     "output_type": "display_data",
     "data": {
      "text/plain": "    _callId  type  staticContextId  staticTraceId displayName  callId  \\\n113   False     1                8            114           0       0   \n114   False     2                8            115           0       0   \n115   False    22                8            116           0       0   \n\n     resultCallId  \n113             0  \n114             0  \n115             0  ",
      "text/html": "<div>\n<style scoped>\n    .dataframe tbody tr th:only-of-type {\n        vertical-align: middle;\n    }\n\n    .dataframe tbody tr th {\n        vertical-align: top;\n    }\n\n    .dataframe thead th {\n        text-align: right;\n    }\n</style>\n<table border=\"1\" class=\"dataframe\">\n  <thead>\n    <tr style=\"text-align: right;\">\n      <th></th>\n      <th>_callId</th>\n      <th>type</th>\n      <th>staticContextId</th>\n      <th>staticTraceId</th>\n      <th>displayName</th>\n      <th>callId</th>\n      <th>resultCallId</th>\n    </tr>\n  </thead>\n  <tbody>\n    <tr>\n      <td>113</td>\n      <td>False</td>\n      <td>1</td>\n      <td>8</td>\n      <td>114</td>\n      <td>0</td>\n      <td>0</td>\n      <td>0</td>\n    </tr>\n    <tr>\n      <td>114</td>\n      <td>False</td>\n      <td>2</td>\n      <td>8</td>\n      <td>115</td>\n      <td>0</td>\n      <td>0</td>\n      <td>0</td>\n    </tr>\n    <tr>\n      <td>115</td>\n      <td>False</td>\n      <td>22</td>\n      <td>8</td>\n      <td>116</td>\n      <td>0</td>\n      <td>0</td>\n      <td>0</td>\n    </tr>\n  </tbody>\n</table>\n</div>"
     },
     "metadata": {}
    },
    {
     "output_type": "display_data",
     "data": {
      "text/plain": "    _callId  type  staticContextId  staticTraceId             displayName  \\\n116   False     1                9            117                       0   \n117   False     2                9            118                       0   \n118   False    22                9            119                       0   \n119       0     4                9            120  console.log('j', x, y)   \n120       0     9                9            121                     'j'   \n121       0     9                9            122                       x   \n122       0     9                9            123                       y   \n123   False     6                9            124  console.log('j', x, y)   \n124   False    16                9            125                       j   \n\n     callId  resultCallId  \n116       0             0  \n117       0             0  \n118       0             0  \n119     120             0  \n120     120             0  \n121     120             0  \n122     120             0  \n123       0           120  \n124       0             0  ",
      "text/html": "<div>\n<style scoped>\n    .dataframe tbody tr th:only-of-type {\n        vertical-align: middle;\n    }\n\n    .dataframe tbody tr th {\n        vertical-align: top;\n    }\n\n    .dataframe thead th {\n        text-align: right;\n    }\n</style>\n<table border=\"1\" class=\"dataframe\">\n  <thead>\n    <tr style=\"text-align: right;\">\n      <th></th>\n      <th>_callId</th>\n      <th>type</th>\n      <th>staticContextId</th>\n      <th>staticTraceId</th>\n      <th>displayName</th>\n      <th>callId</th>\n      <th>resultCallId</th>\n    </tr>\n  </thead>\n  <tbody>\n    <tr>\n      <td>116</td>\n      <td>False</td>\n      <td>1</td>\n      <td>9</td>\n      <td>117</td>\n      <td>0</td>\n      <td>0</td>\n      <td>0</td>\n    </tr>\n    <tr>\n      <td>117</td>\n      <td>False</td>\n      <td>2</td>\n      <td>9</td>\n      <td>118</td>\n      <td>0</td>\n      <td>0</td>\n      <td>0</td>\n    </tr>\n    <tr>\n      <td>118</td>\n      <td>False</td>\n      <td>22</td>\n      <td>9</td>\n      <td>119</td>\n      <td>0</td>\n      <td>0</td>\n      <td>0</td>\n    </tr>\n    <tr>\n      <td>119</td>\n      <td>0</td>\n      <td>4</td>\n      <td>9</td>\n      <td>120</td>\n      <td>console.log('j', x, y)</td>\n      <td>120</td>\n      <td>0</td>\n    </tr>\n    <tr>\n      <td>120</td>\n      <td>0</td>\n      <td>9</td>\n      <td>9</td>\n      <td>121</td>\n      <td>'j'</td>\n      <td>120</td>\n      <td>0</td>\n    </tr>\n    <tr>\n      <td>121</td>\n      <td>0</td>\n      <td>9</td>\n      <td>9</td>\n      <td>122</td>\n      <td>x</td>\n      <td>120</td>\n      <td>0</td>\n    </tr>\n    <tr>\n      <td>122</td>\n      <td>0</td>\n      <td>9</td>\n      <td>9</td>\n      <td>123</td>\n      <td>y</td>\n      <td>120</td>\n      <td>0</td>\n    </tr>\n    <tr>\n      <td>123</td>\n      <td>False</td>\n      <td>6</td>\n      <td>9</td>\n      <td>124</td>\n      <td>console.log('j', x, y)</td>\n      <td>0</td>\n      <td>120</td>\n    </tr>\n    <tr>\n      <td>124</td>\n      <td>False</td>\n      <td>16</td>\n      <td>9</td>\n      <td>125</td>\n      <td>j</td>\n      <td>0</td>\n      <td>0</td>\n    </tr>\n  </tbody>\n</table>\n</div>"
     },
     "metadata": {}
    }
   ],
   "source": [
    "# load data\n",
    "data = DataProvider('calls1_data.json')\n",
    "staticContexts = data.collections.staticContexts\n",
    "staticTraces = data.collections.staticTraces\n",
    "contexts = data.collections.contexts\n",
    "traces = data.collections.traces\n",
    "\n",
    "\n",
    "\n",
    "data.printTracesByContext()\n",
    "# data.printStaticTracesByStaticContext()\n",
    "# staticTraces"
   ]
  },
  {
   "cell_type": "code",
   "execution_count": null,
   "metadata": {},
   "outputs": [],
   "source": []
  }
 ]
}