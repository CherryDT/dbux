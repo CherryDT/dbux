{
 "nbformat": 4,
 "nbformat_minor": 2,
 "metadata": {
  "language_info": {
   "name": "python",
   "codemirror_mode": {
    "name": "ipython",
    "version": 3
   },
   "version": "3.7.5-final"
  },
  "orig_nbformat": 2,
  "file_extension": ".py",
  "mimetype": "text/x-python",
  "name": "python",
  "npconvert_exporter": "python",
  "pygments_lexer": "ipython3",
  "version": 3,
  "kernelspec": {
   "name": "python3",
   "display_name": "Python 3"
  }
 },
 "cells": [
  {
   "cell_type": "code",
   "execution_count": 1,
   "metadata": {},
   "outputs": [],
   "source": [
    "############################################################################################\n",
    "# Init\n",
    "############################################################################################\n",
    "\n",
    "import __init__\n",
    "\n",
    "# enable autoreload (see https://ipython.readthedocs.io/en/stable/config/extensions/autoreload.html)\n",
    "%load_ext autoreload\n",
    "%autoreload 2\n",
    "import pandas as pd \n",
    "import numpy as np\n",
    "from math import isnan\n",
    "\n",
    "from data.DataProvider import DataProvider\n",
    "\n",
    "# visualization + display\n",
    "import seaborn as sns\n",
    "import matplotlib.pyplot as plt\n",
    "from IPython.display import display, HTML\n",
    "\n",
    "%matplotlib inline \n",
    "sns.set(color_codes=True)"
   ]
  },
  {
   "cell_type": "code",
   "execution_count": 3,
   "metadata": {
    "tags": [
     "outputPrepend"
    ]
   },
   "outputs": [
    {
     "output_type": "stream",
     "name": "stdout",
     "text": "33 [\"localStorage.getItem(name) || '[]'\"] JSON.parse(localStorage.getItem(name) || '[]')\n35 ['name'] localStorage.getItem(name)\n44 ['JSON.stringify(liveTodos = todos)', 'name'] localStorage.setItem(name, JSON.stringify(liveTodos = todos))\n46 ['liveTodos = todos'] JSON.stringify(liveTodos = todos)\n60 ['todos.filter(todo => { for (k in query) { if (query[k] !== todo[k]) { return false; } } return true; })'] callback(todos.filter(todo => { for (k in query) { if (query[k] !== todo[k]) { return false; } } return true; }))\n61 ['[cb] todos.filter'] todos.filter(todo => { for (k in query) { if (query[k] !== todo[k]) { return false; } } return true; })\n95 ['todos'] this.setLocalStorage(todos)\n107 ['item'] todos.push(item)\n111 ['todos'] this.setLocalStorage(todos)\n136 ['todos'] this.setLocalStorage(todos)\n143 ['todos'] callback(todos)\n146 ['emptyItemQuery', '[cb] this.find'] this.find(emptyItemQuery, data => { const total = data.length; let i = total; let completed = 0; while (i--) { completed += data[i].completed; } callback(total, total - completed, completed); })\n156 ['total', 'total - completed', 'completed'] callback(total, total - completed, completed)\n180 ['selector'] (scope || document).querySelector(selector)\n186 ['type', 'callback', '!!capture'] target.addEventListener(type, callback, !!capture)\n206 ['targetElement', 'event'] handler.call(targetElement, event)\n212 ['target', 'type', 'dispatchEvent', '!!capture'] $on(target, type, dispatchEvent, !!capture)\n220 ['/[&<]/g', '[cb] s.replace'] s.replace(/[&<]/g, c => c === '&' ? '&amp;' : '&lt;')\n237 ['[cb] items.reduce', \"''\"] items.reduce((a, item) => a + ` <li data-id=\"${item.id}\"${item.completed ? ' class=\"completed\"' : ''}> <div class=\"view\"> <input class=\"toggle\" type=\"checkbox\" ${item.completed ? 'checked' : ''}> <label>${escapeForHTML(item.title)}</label> <button class=\"destroy\"></button> </div> </li>`, '')\n250 ['item.title'] escapeForHTML(item.title)\n321 ['element.parentNode.dataset.id || element.parentNode.parentNode.dataset.id', '10'] parseInt(element.parentNode.dataset.id || element.parentNode.parentNode.dataset.id, 10)\n338 [\"'.todo-list'\"] qs('.todo-list')\n343 [\"'.todo-count'\"] qs('.todo-count')\n348 [\"'.clear-completed'\"] qs('.clear-completed')\n353 [\"'.main'\"] qs('.main')\n358 [\"'.toggle-all'\"] qs('.toggle-all')\n363 [\"'.new-todo'\"] qs('.new-todo')\n366 ['this.$todoList', \"'li label'\", \"'dblclick'\", '[cb] $delegate'] $delegate(this.$todoList, 'li label', 'dblclick', ({target}) => { this.editItem(target); })\n368 ['target'] this.editItem(target)\n379 [\"'editing'\"] listItem.classList.add('editing')\n393 ['input'] listItem.appendChild(input)\n403 ['items'] this.template.itemList(items)\n414 ['elem'] this.$todoList.removeChild(elem)\n422 ['itemsLeft'] this.template.itemCounter(itemsLeft)\n451 [\"'.filters .selected'\"] qs('.filters .selected')\n456 ['`.filters [href=\"#/${route}\"]`'] qs(`.filters [href=\"#/${route}\"]`)\n476 [\"'input'\", 'listItem'] qs('input', listItem)\n487 ['input'] listItem.removeChild(input)\n491 [\"'editing'\"] listItem.classList.remove('editing')\n498 [\"'label'\", 'listItem'] qs('label', listItem)\n502 ['this.$newTodo', \"'change'\", '[cb] $on'] $on(this.$newTodo, 'change', ({target}) => { const title = target.value.trim(); if (title) { handler(title); } })\n511 ['title'] handler(title)\n518 ['this.$clearCompleted', \"'click'\", 'handler'] $on(this.$clearCompleted, 'click', handler)\n524 ['this.$toggleAll', \"'click'\", '[cb] $on'] $on(this.$toggleAll, 'click', ({target}) => { handler(target.checked); })\n526 ['target.checked'] handler(target.checked)\n534 ['this.$todoList', \"'.destroy'\", \"'click'\", '[cb] $delegate'] $delegate(this.$todoList, '.destroy', 'click', ({target}) => { handler(_itemId(target)); })\n536 ['_itemId(target)'] handler(_itemId(target))\n537 ['target'] _itemId(target)\n546 ['this.$todoList', \"'.toggle'\", \"'click'\", '[cb] $delegate'] $delegate(this.$todoList, '.toggle', 'click', ({target}) => { handler(_itemId(target), target.checked); })\n548 ['_itemId(target)', 'target.checked'] handler(_itemId(target), target.checked)\n549 ['target'] _itemId(target)\n560 ['this.$todoList', \"'li .edit'\", \"'blur'\", '[cb] $delegate', 'true'] $delegate(this.$todoList, 'li .edit', 'blur', ({target}) => { if (!target.dataset.iscanceled) { handler(_itemId(target), target.value.trim()); } }, true)\n567 ['_itemId(target)', 'target.value.trim()'] handler(_itemId(target), target.value.trim())\n568 ['target'] _itemId(target)\n582 ['this.$todoList', \"'li .edit'\", \"'keypress'\", '[cb] $delegate'] $delegate(this.$todoList, 'li .edit', 'keypress', ({target, keyCode}) => { if (keyCode === ENTER_KEY) { target.blur(); } })\n595 ['this.$todoList', \"'li .edit'\", \"'keyup'\", '[cb] $delegate'] $delegate(this.$todoList, 'li .edit', 'keyup', ({target, keyCode}) => { if (keyCode === ESCAPE_KEY) { target.dataset.iscanceled = true; target.blur(); handler(_itemId(target)); } })\n606 ['_itemId(target)'] handler(_itemId(target))\n607 ['target'] _itemId(target)\n658 ['this.addItem.bind(this)'] view.bindAddItem(this.addItem.bind(this))\n660 ['this'] this.addItem.bind(this)\n666 ['this.editItemSave.bind(this)'] view.bindEditItemSave(this.editItemSave.bind(this))\n668 ['this'] this.editItemSave.bind(this)\n674 ['this.editItemCancel.bind(this)'] view.bindEditItemCancel(this.editItemCancel.bind(this))\n676 ['this'] this.editItemCancel.bind(this)\n682 ['this.removeItem.bind(this)'] view.bindRemoveItem(this.removeItem.bind(this))\n684 ['this'] this.removeItem.bind(this)\n690 ['[cb] view.bindToggleItem'] view.bindToggleItem((id, completed) => { this.toggleCompleted(id, completed); this._filter(); })\n692 ['id', 'completed'] this.toggleCompleted(id, completed)\n702 ['this.removeCompletedItems.bind(this)'] view.bindRemoveCompleted(this.removeCompletedItems.bind(this))\n704 ['this'] this.removeCompletedItems.bind(this)\n710 ['this.toggleAll.bind(this)'] view.bindToggleAll(this.toggleAll.bind(this))\n712 ['this'] this.toggleAll.bind(this)\n732 ['route'] this.view.updateFilterButtons(route)\n737 ['{ id: Date.now(), title, completed: false }', '[cb] this.store.insert'] this.store.insert({ id: Date.now(), title, completed: false }, () => { this.view.clearNewTodo(); this._filter(true); })\n747 ['true'] this._filter(true)\n759 ['{id, title}', '[cb] this.store.update'] this.store.update({id, title}, () => { this.view.editItemDone(id, title); })\n762 ['id', 'title'] this.view.editItemDone(id, title)\n771 ['id'] this.removeItem(id)\n775 ['{id}', '[cb] this.store.find'] this.store.find({id}, data => { const title = data[0].title; this.view.editItemDone(id, title); })\n781 ['id', 'title'] this.view.editItemDone(id, title)\n790 ['{id}', '[cb] this.store.remove'] this.store.remove({id}, () => { this._filter(); this.view.removeItem(id); })\n796 ['id'] this.view.removeItem(id)\n804 ['this._filter.bind(this)', '{completed: true}'] this.store.remove({completed: true}, this._filter.bind(this))\n807 ['this'] this._filter.bind(this)\n814 ['{id, completed}', '[cb] this.store.update'] this.store.update({id, completed}, () => { this.view.setItemComplete(id, completed); })\n817 ['id', 'completed'] this.view.setItemComplete(id, completed)\n826 ['{completed: !completed}', '[cb] this.store.find'] this.store.find({completed: !completed}, data => { for (let {id} of data) { this.toggleCompleted(id, completed); } })\n830 ['id', 'completed'] this.toggleCompleted(id, completed)\n850 ['this.view.showItems.bind(this.view)', \"{ '': emptyItemQuery, 'active': {completed: false}, 'completed': {completed: true} }[route]\"] this.store.find({ '': emptyItemQuery, 'active': {completed: false}, 'completed': {completed: true} }[route], this.view.showItems.bind(this.view))\n855 ['this.view'] this.view.showItems.bind(this.view)\n864 ['[cb] this.store.count'] this.store.count((total, active, completed) => { this.view.setItemsLeft(active); this.view.setClearCompletedButtonVisibility(completed); this.view.setCompleteAllCheckbox(completed === total); this.view.setMainVisibility(total); })\n867 ['active'] this.view.setItemsLeft(active)\n872 ['completed'] this.view.setClearCompletedButtonVisibility(completed)\n877 ['completed === total'] this.view.setCompleteAllCheckbox(completed === total)\n884 ['total'] this.view.setMainVisibility(total)\n902 ['document.location.hash'] controller.setView(document.location.hash)\n908 ['window', \"'load'\", 'setView'] $on(window, 'load', setView)\n913 ['window', \"'hashchange'\", 'setView'] $on(window, 'hashchange', setView)\n"
    }
   ],
   "source": [
    "# load all data\n",
    "\n",
    "data = DataProvider('todomvc-es6_data.json')\n",
    "\n",
    "data.displayCallTrees()\n",
    "# staticTraces"
   ]
  },
  {
   "cell_type": "code",
   "execution_count": null,
   "metadata": {},
   "outputs": [],
   "source": []
  }
 ]
}